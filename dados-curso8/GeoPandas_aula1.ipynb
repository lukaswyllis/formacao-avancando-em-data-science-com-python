{
  "nbformat": 4,
  "nbformat_minor": 0,
  "metadata": {
    "colab": {
      "provenance": []
    },
    "kernelspec": {
      "name": "python3",
      "display_name": "Python 3"
    },
    "language_info": {
      "name": "python"
    }
  },
  "cells": [
    {
      "cell_type": "markdown",
      "source": [
        "# Aula 1"
      ],
      "metadata": {
        "id": "wRLQJ-w4CgYl"
      }
    },
    {
      "cell_type": "markdown",
      "source": [
        "## Vídeo 1.2 - Biblioteca e os dados"
      ],
      "metadata": {
        "id": "e6crW9ELCk9n"
      }
    },
    {
      "cell_type": "markdown",
      "source": [
        "GeoPandas é uma biblioteca de código aberto em Python que facilita a manipulação e análise de dados geoespaciais. Ela estende a funcionalidade da biblioteca pandas, amplamente usada para manipulação de dados, adicionando suporte para operações geoespaciais. Isso inclui a capacidade de ler e escrever diferentes formatos de arquivo geoespaciais (como Shapefiles, GeoJSON, etc.), realizar operações geoespaciais (como união espacial, interseção, etc.), e criar visualizações geoespaciais. A GeoPandas integra-se bem com outras bibliotecas Python amplamente utilizadas, como Matplotlib para visualização e NumPy para manipulação de dados numéricos. Ao proporcionar uma interface de alto nível e fácil de usar para operações geoespaciais complexas, a GeoPandas tornou-se uma ferramenta importante para geocientistas, urbanistas e outros que trabalham com dados geoespaciais."
      ],
      "metadata": {
        "id": "Rcf5ynlKbUPR"
      }
    },
    {
      "cell_type": "code",
      "source": [
        "!pip install geopandas"
      ],
      "metadata": {
        "id": "sLpUAIUWCKfD"
      },
      "execution_count": null,
      "outputs": []
    },
    {
      "cell_type": "code",
      "execution_count": null,
      "metadata": {
        "id": "mMdKcour_9ms"
      },
      "outputs": [],
      "source": [
        "import geopandas as gpd"
      ]
    },
    {
      "cell_type": "markdown",
      "source": [
        "https://www.ibge.gov.br/geociencias/organizacao-do-territorio/malhas-territoriais/15774-malhas.html"
      ],
      "metadata": {
        "id": "c585__WCFtdK"
      }
    },
    {
      "cell_type": "code",
      "source": [
        "url = 'https://github.com/alura-cursos/curso_geopandas/raw/main/dados/RJ_Municipios_2022.shp'"
      ],
      "metadata": {
        "id": "hhWZNHG3IOIV"
      },
      "execution_count": null,
      "outputs": []
    },
    {
      "cell_type": "code",
      "source": [
        "rj = gpd.read_file(url)"
      ],
      "metadata": {
        "id": "2XEtxSAWCTia"
      },
      "execution_count": null,
      "outputs": []
    },
    {
      "cell_type": "code",
      "source": [
        "type(rj)"
      ],
      "metadata": {
        "id": "2YqqOr5GIeEy"
      },
      "execution_count": null,
      "outputs": []
    },
    {
      "cell_type": "code",
      "source": [
        "rj.head()"
      ],
      "metadata": {
        "id": "95LhpdgiIQ32"
      },
      "execution_count": null,
      "outputs": []
    },
    {
      "cell_type": "code",
      "source": [
        "rj.plot()"
      ],
      "metadata": {
        "id": "8DcBkm66IVpy"
      },
      "execution_count": null,
      "outputs": []
    },
    {
      "cell_type": "code",
      "source": [
        "rj.plot(color='white',edgecolor='black',figsize=(15,8))"
      ],
      "metadata": {
        "id": "IZTDrJ9FIyc8"
      },
      "execution_count": null,
      "outputs": []
    },
    {
      "cell_type": "markdown",
      "source": [
        "## Vídeo 1.3 - Trabalhando com Shapefiles"
      ],
      "metadata": {
        "id": "Az0TMh4yR_pP"
      }
    },
    {
      "cell_type": "markdown",
      "source": [
        "Shapefiles são um formato de arquivo de dados geoespaciais desenvolvido pela Esri, uma das principais empresas de software de Sistemas de Informação Geográfica (SIG). Eles são amplamente utilizados para armazenar dados de localização geográfica e atributos associados a essa localização. Um shapefile na verdade consiste em um conjunto de arquivos correlacionados (.shp, .shx, .dbf, e potencialmente outros) que juntos expressam vetores geoespaciais - pontos, linhas ou polígonos - juntamente com informações atributivas, que podem incluir detalhes como nomes, categorias e outras características associadas a cada entidade geográfica. Shapefiles são comumente usados em uma variedade de campos, incluindo urbanismo, geografia, logística, e muitos outros que requerem a análise e a visualização de dados geoespaciais."
      ],
      "metadata": {
        "id": "HmZqpAQYa906"
      }
    },
    {
      "cell_type": "code",
      "source": [
        "rj.plot(color='white',edgecolor='black',figsize=(15,8))"
      ],
      "metadata": {
        "id": "T5VUCkewLHA4"
      },
      "execution_count": null,
      "outputs": []
    },
    {
      "cell_type": "code",
      "source": [
        "rj = rj[rj['NM_MUN']=='Rio de Janeiro']"
      ],
      "metadata": {
        "id": "i99Yoaq9TflW"
      },
      "execution_count": null,
      "outputs": []
    },
    {
      "cell_type": "code",
      "source": [
        "rj"
      ],
      "metadata": {
        "id": "l8OtqBqJT-pQ"
      },
      "execution_count": null,
      "outputs": []
    },
    {
      "cell_type": "code",
      "source": [
        "rj.plot(color='orange',edgecolor='black',figsize=(15,8))"
      ],
      "metadata": {
        "id": "KA_1Ob4ZUEOs"
      },
      "execution_count": null,
      "outputs": []
    },
    {
      "cell_type": "code",
      "source": [
        "rj.to_file('RJ-MUNIC.shp')"
      ],
      "metadata": {
        "id": "lxQCpScEUhcw"
      },
      "execution_count": null,
      "outputs": []
    },
    {
      "cell_type": "code",
      "source": [
        "rj_munic = gpd.read_file('RJ-MUNIC.shp')"
      ],
      "metadata": {
        "id": "kfkiGRu4VDkw"
      },
      "execution_count": null,
      "outputs": []
    },
    {
      "cell_type": "code",
      "source": [
        "rj_munic.plot(color='orange',edgecolor='black',figsize=(15,8))"
      ],
      "metadata": {
        "id": "DNSsEavIVTRL"
      },
      "execution_count": null,
      "outputs": []
    }
  ]
}