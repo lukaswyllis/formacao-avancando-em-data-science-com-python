{
  "nbformat": 4,
  "nbformat_minor": 0,
  "metadata": {
    "colab": {
      "provenance": []
    },
    "kernelspec": {
      "name": "python3",
      "display_name": "Python 3"
    },
    "language_info": {
      "name": "python"
    }
  },
  "cells": [
    {
      "cell_type": "markdown",
      "source": [
        "# Data Visualization: criando gráficos com bibliotecas Python"
      ],
      "metadata": {
        "id": "9bNd_mofZqaL"
      }
    },
    {
      "cell_type": "markdown",
      "source": [
        "## Conhecendo a biblioteca Matplotlib"
      ],
      "metadata": {
        "id": "us5f3CYuZr0Y"
      }
    },
    {
      "cell_type": "code",
      "source": [
        "import pandas as pd\n",
        "import matplotlib.pyplot as plt"
      ],
      "metadata": {
        "id": "uaWIg6qyZu2b"
      },
      "execution_count": null,
      "outputs": []
    },
    {
      "cell_type": "code",
      "source": [
        "url = 'https://raw.githubusercontent.com/lukaswyllis/formacao-avancando-em-data-science-com-python/refs/heads/master/dados-curso1/imigrantes_canada.csv'"
      ],
      "metadata": {
        "id": "PoSrquJqbKqt"
      },
      "execution_count": null,
      "outputs": []
    },
    {
      "cell_type": "code",
      "source": [
        "df = pd.read_csv(url)"
      ],
      "metadata": {
        "id": "r25nRiUBb7Gp"
      },
      "execution_count": null,
      "outputs": []
    },
    {
      "cell_type": "code",
      "source": [
        "df"
      ],
      "metadata": {
        "id": "3ZdarSJ1b_js"
      },
      "execution_count": null,
      "outputs": []
    },
    {
      "cell_type": "code",
      "source": [
        "df.info()"
      ],
      "metadata": {
        "id": "byKPDsLFcBRi"
      },
      "execution_count": null,
      "outputs": []
    },
    {
      "cell_type": "code",
      "source": [
        "df.set_index('País', inplace=True)"
      ],
      "metadata": {
        "id": "Z5IdfTNRcFPu"
      },
      "execution_count": null,
      "outputs": []
    },
    {
      "cell_type": "code",
      "source": [
        "df"
      ],
      "metadata": {
        "id": "WjJRt1VPcZtG"
      },
      "execution_count": null,
      "outputs": []
    },
    {
      "cell_type": "code",
      "source": [
        "anos = list(map(str, range(1980, 2014)))"
      ],
      "metadata": {
        "id": "g5L9OuQ4caUi"
      },
      "execution_count": null,
      "outputs": []
    },
    {
      "cell_type": "code",
      "source": [
        "anos"
      ],
      "metadata": {
        "id": "MqPrNN_yc2Xy"
      },
      "execution_count": null,
      "outputs": []
    },
    {
      "cell_type": "code",
      "source": [
        "brasil = df.loc['Brasil', anos]"
      ],
      "metadata": {
        "id": "YB6S6pYac2pq"
      },
      "execution_count": null,
      "outputs": []
    },
    {
      "cell_type": "code",
      "source": [
        "brasil"
      ],
      "metadata": {
        "id": "fysgWhundFt6"
      },
      "execution_count": null,
      "outputs": []
    },
    {
      "cell_type": "code",
      "source": [
        "brasil_dict = {\n",
        "    'ano': brasil.index.tolist(),\n",
        "    'imigrantes': brasil.values.tolist()\n",
        "}"
      ],
      "metadata": {
        "id": "9e7_-uyPdGIZ"
      },
      "execution_count": null,
      "outputs": []
    },
    {
      "cell_type": "code",
      "source": [
        "dados_brasil = pd.DataFrame(brasil_dict)"
      ],
      "metadata": {
        "id": "YlFbEVZLdyy7"
      },
      "execution_count": null,
      "outputs": []
    },
    {
      "cell_type": "code",
      "source": [
        "dados_brasil"
      ],
      "metadata": {
        "id": "K0zXuoqCd3mw"
      },
      "execution_count": null,
      "outputs": []
    },
    {
      "cell_type": "code",
      "source": [
        "plt.plot(dados_brasil['ano'], dados_brasil['imigrantes'])"
      ],
      "metadata": {
        "id": "kFcgcW0ad4Eg"
      },
      "execution_count": null,
      "outputs": []
    },
    {
      "cell_type": "code",
      "source": [
        "plt.figure(figsize=(8, 4)) # em polegadas, primeiro largura e depois altura\n",
        "plt.plot(dados_brasil['ano'], dados_brasil['imigrantes']) # plota o gráfico\n",
        "plt.title('Imigração do Brasil para o Canadá') # adiciona um título ao gráfico\n",
        "plt.xlabel('Ano') # adiciona o título ao eixo x\n",
        "plt.ylabel('Número de imigrantes') # adiciona o título ao eixo y\n",
        "plt.xticks(['1980', '1985', '1990', '1995', '2000', '2005', '2010', '2015']) # explicita o eixo x\n",
        "plt.yticks([500, 1000, 1500, 2000, 2500, 3000]) # explicita o eixo\n",
        "plt.show() # deve ser a última linha, qualquer coisa depois disso não é executada"
      ],
      "metadata": {
        "id": "_Ny6ZIjDiEmP"
      },
      "execution_count": null,
      "outputs": []
    },
    {
      "cell_type": "markdown",
      "source": [
        "### Desafio 1: comparando tendências de imigração"
      ],
      "metadata": {
        "id": "3d8-uibhk9pu"
      }
    },
    {
      "cell_type": "code",
      "source": [
        "argentina = df.loc['Argentina', anos]\n",
        "argentina"
      ],
      "metadata": {
        "id": "1SqN6WnPn0fG"
      },
      "execution_count": null,
      "outputs": []
    },
    {
      "cell_type": "code",
      "source": [
        "plt.figure(figsize=(8, 4))\n",
        "plt.plot(anos, argentina, label='Argentina')\n",
        "plt.plot(anos, brasil, label='Brasil')\n",
        "plt.title('Imigração da Argentina e Brasil para o Canadá')\n",
        "plt.xlabel('Ano')\n",
        "plt.ylabel('Número de imigrantes')\n",
        "plt.xticks(['1980', '1985', '1990', '1995', '2000', '2005', '2010', '2015'])\n",
        "plt.legend()\n",
        "plt.show()"
      ],
      "metadata": {
        "id": "asPc2wYOmoqR"
      },
      "execution_count": null,
      "outputs": []
    },
    {
      "cell_type": "markdown",
      "source": [
        "## Criando figuras com o Matplotlib"
      ],
      "metadata": {
        "id": "TkXxTEUVozLx"
      }
    },
    {
      "cell_type": "code",
      "source": [],
      "metadata": {
        "id": "fAZ9Hf6Ho00g"
      },
      "execution_count": null,
      "outputs": []
    }
  ]
}