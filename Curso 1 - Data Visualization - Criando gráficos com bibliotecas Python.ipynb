{
  "nbformat": 4,
  "nbformat_minor": 0,
  "metadata": {
    "colab": {
      "provenance": []
    },
    "kernelspec": {
      "name": "python3",
      "display_name": "Python 3"
    },
    "language_info": {
      "name": "python"
    }
  },
  "cells": [
    {
      "cell_type": "markdown",
      "source": [
        "# Data Visualization: criando gráficos com bibliotecas Python"
      ],
      "metadata": {
        "id": "9bNd_mofZqaL"
      }
    },
    {
      "cell_type": "markdown",
      "source": [
        "## Conhecendo a biblioteca Matplotlib"
      ],
      "metadata": {
        "id": "us5f3CYuZr0Y"
      }
    },
    {
      "cell_type": "code",
      "source": [
        "import pandas as pd\n",
        "import matplotlib.pyplot as plt"
      ],
      "metadata": {
        "id": "uaWIg6qyZu2b"
      },
      "execution_count": null,
      "outputs": []
    },
    {
      "cell_type": "code",
      "source": [
        "url = 'https://raw.githubusercontent.com/lukaswyllis/formacao-avancando-em-data-science-com-python/refs/heads/master/dados-curso1/imigrantes_canada.csv'"
      ],
      "metadata": {
        "id": "PoSrquJqbKqt"
      },
      "execution_count": null,
      "outputs": []
    },
    {
      "cell_type": "code",
      "source": [
        "df = pd.read_csv(url)"
      ],
      "metadata": {
        "id": "r25nRiUBb7Gp"
      },
      "execution_count": null,
      "outputs": []
    },
    {
      "cell_type": "code",
      "source": [
        "df"
      ],
      "metadata": {
        "id": "3ZdarSJ1b_js"
      },
      "execution_count": null,
      "outputs": []
    },
    {
      "cell_type": "code",
      "source": [
        "df.info()"
      ],
      "metadata": {
        "id": "byKPDsLFcBRi"
      },
      "execution_count": null,
      "outputs": []
    },
    {
      "cell_type": "code",
      "source": [
        "df.set_index('País', inplace=True)"
      ],
      "metadata": {
        "id": "Z5IdfTNRcFPu"
      },
      "execution_count": null,
      "outputs": []
    },
    {
      "cell_type": "code",
      "source": [
        "df"
      ],
      "metadata": {
        "id": "WjJRt1VPcZtG"
      },
      "execution_count": null,
      "outputs": []
    },
    {
      "cell_type": "code",
      "source": [
        "anos = list(map(str, range(1980, 2014)))"
      ],
      "metadata": {
        "id": "g5L9OuQ4caUi"
      },
      "execution_count": null,
      "outputs": []
    },
    {
      "cell_type": "code",
      "source": [
        "anos"
      ],
      "metadata": {
        "id": "MqPrNN_yc2Xy"
      },
      "execution_count": null,
      "outputs": []
    },
    {
      "cell_type": "code",
      "source": [
        "brasil = df.loc['Brasil', anos]"
      ],
      "metadata": {
        "id": "YB6S6pYac2pq"
      },
      "execution_count": null,
      "outputs": []
    },
    {
      "cell_type": "code",
      "source": [
        "brasil"
      ],
      "metadata": {
        "id": "fysgWhundFt6"
      },
      "execution_count": null,
      "outputs": []
    },
    {
      "cell_type": "code",
      "source": [
        "brasil_dict = {\n",
        "    'ano': brasil.index.tolist(),\n",
        "    'imigrantes': brasil.values.tolist()\n",
        "}"
      ],
      "metadata": {
        "id": "9e7_-uyPdGIZ"
      },
      "execution_count": null,
      "outputs": []
    },
    {
      "cell_type": "code",
      "source": [
        "dados_brasil = pd.DataFrame(brasil_dict)"
      ],
      "metadata": {
        "id": "YlFbEVZLdyy7"
      },
      "execution_count": null,
      "outputs": []
    },
    {
      "cell_type": "code",
      "source": [
        "dados_brasil"
      ],
      "metadata": {
        "id": "K0zXuoqCd3mw"
      },
      "execution_count": null,
      "outputs": []
    },
    {
      "cell_type": "code",
      "source": [
        "plt.plot(dados_brasil['ano'], dados_brasil['imigrantes'])"
      ],
      "metadata": {
        "id": "kFcgcW0ad4Eg"
      },
      "execution_count": null,
      "outputs": []
    },
    {
      "cell_type": "code",
      "source": [
        "plt.figure(figsize=(8, 4)) # em polegadas, primeiro largura e depois altura\n",
        "plt.plot(dados_brasil['ano'], dados_brasil['imigrantes']) # plota o gráfico\n",
        "plt.title('Imigração do Brasil para o Canadá') # adiciona um título ao gráfico\n",
        "plt.xlabel('Ano') # adiciona o título ao eixo x\n",
        "plt.ylabel('Número de imigrantes') # adiciona o título ao eixo y\n",
        "plt.xticks(['1980', '1985', '1990', '1995', '2000', '2005', '2010', '2015']) # explicita o eixo x\n",
        "plt.yticks([500, 1000, 1500, 2000, 2500, 3000]) # explicita o eixo\n",
        "plt.show() # deve ser a última linha, qualquer coisa depois disso não é executada"
      ],
      "metadata": {
        "id": "_Ny6ZIjDiEmP"
      },
      "execution_count": null,
      "outputs": []
    },
    {
      "cell_type": "markdown",
      "source": [
        "### Desafio 1: comparando tendências de imigração"
      ],
      "metadata": {
        "id": "3d8-uibhk9pu"
      }
    },
    {
      "cell_type": "code",
      "source": [
        "argentina = df.loc['Argentina', anos]\n",
        "argentina"
      ],
      "metadata": {
        "id": "1SqN6WnPn0fG"
      },
      "execution_count": null,
      "outputs": []
    },
    {
      "cell_type": "code",
      "source": [
        "plt.figure(figsize=(8, 4))\n",
        "plt.plot(anos, argentina, label='Argentina')\n",
        "plt.plot(anos, brasil, label='Brasil')\n",
        "plt.title('Imigração da Argentina e Brasil para o Canadá')\n",
        "plt.xlabel('Ano')\n",
        "plt.ylabel('Número de imigrantes')\n",
        "plt.xticks(['1980', '1985', '1990', '1995', '2000', '2005', '2010', '2015'])\n",
        "plt.legend()\n",
        "plt.show()"
      ],
      "metadata": {
        "id": "asPc2wYOmoqR"
      },
      "execution_count": null,
      "outputs": []
    },
    {
      "cell_type": "markdown",
      "source": [
        "## Criando figuras com o Matplotlib"
      ],
      "metadata": {
        "id": "TkXxTEUVozLx"
      }
    },
    {
      "cell_type": "code",
      "source": [
        "fig, ax = plt.subplots(figsize=(8, 4))\n",
        "ax.plot(dados_brasil['ano'], dados_brasil['imigrantes'])\n",
        "plt.show()"
      ],
      "metadata": {
        "id": "fAZ9Hf6Ho00g"
      },
      "execution_count": null,
      "outputs": []
    },
    {
      "cell_type": "code",
      "source": [
        "fig, ax = plt.subplots(figsize=(8, 4))\n",
        "ax.plot(dados_brasil['ano'], dados_brasil['imigrantes'])\n",
        "ax.xaxis.set_major_locator(plt.MultipleLocator(5)) #seta o eixo x de 5 em 5 anos\n",
        "plt.show()"
      ],
      "metadata": {
        "id": "L-N9LtIh69Mj"
      },
      "execution_count": null,
      "outputs": []
    },
    {
      "cell_type": "code",
      "source": [
        "fig, ax = plt.subplots(figsize=(8, 4))\n",
        "ax.plot(dados_brasil['ano'], dados_brasil['imigrantes'])\n",
        "ax.set_title('Imigração do Brasil para o Canadá\\n1980 a 2013')\n",
        "ax.xaxis.set_major_locator(plt.MultipleLocator(5)) #seta o eixo x de 5 em 5 anos\n",
        "plt.show()"
      ],
      "metadata": {
        "id": "SO_N2Sys7Yds"
      },
      "execution_count": null,
      "outputs": []
    },
    {
      "cell_type": "code",
      "source": [
        "fig, ax = plt.subplots(figsize=(8, 4))\n",
        "ax.plot(dados_brasil['ano'], dados_brasil['imigrantes'])\n",
        "ax.set_title('Imigração do Brasil para o Canadá\\n1980 a 2013')\n",
        "ax.set_xlabel('Ano')\n",
        "ax.set_ylabel('Número de imigrantes')\n",
        "ax.xaxis.set_major_locator(plt.MultipleLocator(5)) #seta o eixo x de 5 em 5 anos\n",
        "plt.show()"
      ],
      "metadata": {
        "id": "G9yYaV1v7z2i"
      },
      "execution_count": null,
      "outputs": []
    },
    {
      "cell_type": "code",
      "source": [
        "fig, axs = plt.subplots(1, 2, figsize=(15, 5))\n",
        "\n",
        "axs[0].plot(dados_brasil['ano'], dados_brasil['imigrantes'])\n",
        "axs[0].set_title('Imigração do Brasil para o Canadá\\n1980 a 2013')\n",
        "axs[0].set_xlabel('Ano')\n",
        "axs[0].set_ylabel('Número de imigrantes')\n",
        "axs[0].xaxis.set_major_locator(plt.MultipleLocator(5))\n",
        "axs[0].grid()\n",
        "\n",
        "axs[1].boxplot(dados_brasil['imigrantes'])\n",
        "axs[1].set_title('Boxplot da imigração do Brasil para o Canadá\\n1980 a 2013')\n",
        "axs[1].set_xlabel('Brasil')\n",
        "axs[1].set_ylabel('Número de imigrantes')\n",
        "axs[1].grid()\n",
        "\n",
        "plt.show()"
      ],
      "metadata": {
        "id": "7ygDGJEs8KJa"
      },
      "execution_count": null,
      "outputs": []
    },
    {
      "cell_type": "code",
      "source": [
        "dados_brasil.describe()"
      ],
      "metadata": {
        "id": "y_7pffVRAYPe"
      },
      "execution_count": null,
      "outputs": []
    },
    {
      "cell_type": "code",
      "source": [
        "fig, axs = plt.subplots(2, 2, figsize=(10,6))\n",
        "fig.subplots_adjust(hspace=0.5, wspace=0.3) # espaçamento horizontal e vertical, respectivamente\n",
        "fig.suptitle('Imigração dos quatro maiores países da américa do sul para o Canadá\\n1980 a 2013')\n",
        "\n",
        "axs[0,0].plot(df.loc['Brasil', anos])\n",
        "axs[0,0].set_title('Brasil')\n",
        "\n",
        "axs[0,1].plot(df.loc['Colômbia', anos])\n",
        "axs[0,1].set_title('Colômbia')\n",
        "\n",
        "axs[1,0].plot(df.loc['Argentina', anos])\n",
        "axs[1,0].set_title('Argentina')\n",
        "\n",
        "axs[1,1].plot(df.loc['Peru', anos])\n",
        "axs[1,1].set_title('Peru')\n",
        "\n",
        "for ax in axs.flat:\n",
        "  ax.xaxis.set_major_locator(plt.MultipleLocator(5))\n",
        "  ax.set_xlabel('Ano')\n",
        "  ax.set_ylabel('Número de imigrantes')\n",
        "\n",
        "ymin = 0\n",
        "ymax = 7000\n",
        "\n",
        "for ax in axs.ravel():\n",
        "  ax.set_ylim(ymin, ymax)\n",
        "\n",
        "plt.show()"
      ],
      "metadata": {
        "id": "57FIeawHBXf8"
      },
      "execution_count": null,
      "outputs": []
    },
    {
      "cell_type": "markdown",
      "source": [
        "## Desafio: visualizando dados de vendas de diferentes lojas"
      ],
      "metadata": {
        "id": "4DB9pGZkGm4-"
      }
    },
    {
      "cell_type": "code",
      "source": [
        "lojas = ['A', 'B', 'C', 'D']\n",
        "\n",
        "vendas_2022 = {'Jan': [100, 80, 150, 50],\n",
        "    'Fev': [120, 90, 170, 60],\n",
        "    'Mar': [150, 100, 200, 80],\n",
        "    'Abr': [180, 110, 230, 90],\n",
        "    'Mai': [220, 190, 350, 200],\n",
        "    'Jun': [230, 150, 280, 120],\n",
        "    'Jul': [250, 170, 300, 140],\n",
        "    'Ago': [260, 180, 310, 150],\n",
        "    'Set': [240, 160, 290, 130],\n",
        "    'Out': [220, 140, 270, 110],\n",
        "    'Nov': [400, 220, 350, 190],\n",
        "    'Dez': [300, 350, 400, 250]\n",
        "}\n",
        "vendas = pd.DataFrame(vendas_2022, index=lojas)\n",
        "meses = list(vendas.columns)\n",
        "vendas\n"
      ],
      "metadata": {
        "id": "EzhfS3LFGnfb"
      },
      "execution_count": null,
      "outputs": []
    },
    {
      "cell_type": "code",
      "source": [
        "fig, axs = plt.subplots(2, 2, figsize=(14,8))\n",
        "fig.subplots_adjust(hspace=0.5, wspace=0.3) # espaçamento horizontal e vertical, respectivamente\n",
        "fig.suptitle('Vendas 2022')\n",
        "\n",
        "axs[0,0].plot(meses, vendas.loc['A'])\n",
        "axs[0,0].set_title('Loja A')\n",
        "\n",
        "axs[0,1].plot(meses, vendas.loc['B'])\n",
        "axs[0,1].set_title('Loja B')\n",
        "\n",
        "axs[1,0].plot(meses, vendas.loc['C'])\n",
        "axs[1,0].set_title('Loja C')\n",
        "\n",
        "axs[1,1].plot(meses, vendas.loc['D'])\n",
        "axs[1,1].set_title('Loja D')\n",
        "\n",
        "for ax in axs.flat:\n",
        "    ax.set_xlabel('Mês')\n",
        "    ax.set_ylabel('Número de vendas')\n",
        "\n",
        "plt.show()"
      ],
      "metadata": {
        "id": "duvatqICI_ua"
      },
      "execution_count": null,
      "outputs": []
    },
    {
      "cell_type": "code",
      "source": [],
      "metadata": {
        "id": "G47OOFmPJd3r"
      },
      "execution_count": null,
      "outputs": []
    },
    {
      "cell_type": "markdown",
      "source": [
        "## Customizando com Matplotlib"
      ],
      "metadata": {
        "id": "BkgTY34bsZuC"
      }
    },
    {
      "cell_type": "code",
      "source": [
        "fig, ax = plt.subplots(figsize =(8,4))\n",
        "ax.plot(dados_brasil['ano'], dados_brasil['imigrantes'], lw=2, color='springgreen')\n",
        "ax.set_title('Imigração do Brasil para o Canadá\\n1980 a 2013', fontsize=18, loc='left')\n",
        "ax.set_xlabel('Ano', fontsize=14)\n",
        "ax.set_ylabel('Número de imigrantes', fontsize=14)\n",
        "ax.xaxis.set_tick_params(labelsize=12) # determina os parametros do rotulo do eixo x\n",
        "ax.yaxis.set_tick_params(labelsize=12) # determina os parametros do rotulo do eixo y\n",
        "ax.xaxis.set_major_locator(plt.MultipleLocator(5))\n",
        "\n",
        "plt.show()"
      ],
      "metadata": {
        "id": "Nxdw_FT5sdYf"
      },
      "execution_count": null,
      "outputs": []
    },
    {
      "cell_type": "code",
      "source": [
        "america_sul = df.query('Região == \"América do Sul\"')"
      ],
      "metadata": {
        "id": "Sxcs5u69xQW7"
      },
      "execution_count": null,
      "outputs": []
    },
    {
      "cell_type": "code",
      "source": [
        "america_sul"
      ],
      "metadata": {
        "id": "XfP8SVNpxQwy"
      },
      "execution_count": null,
      "outputs": []
    },
    {
      "cell_type": "code",
      "source": [
        "cores = ['royalblue', 'orange', 'forestgreen', 'orchid', 'purple', 'brown', 'slateblue', 'gray', 'olive', 'navy', 'teal', 'tomato']\n",
        "fig, ax = plt.subplots(figsize=(12,5))\n",
        "ax.barh(america_sul.index, america_sul['Total'], color=cores)\n",
        "ax.set_title('Imigração da América do sul para o Canadá\\n1980 a 2013', loc='left', fontsize=16)\n",
        "ax.set_ylabel('')\n",
        "ax.set_xlabel('Número de imigrantes', fontsize=12)\n",
        "ax.xaxis.set_tick_params(labelsize=12)\n",
        "ax.yaxis.set_tick_params(labelsize=12)\n",
        "\n",
        "plt.show()"
      ],
      "metadata": {
        "id": "FJGlUjBuxe01"
      },
      "execution_count": null,
      "outputs": []
    },
    {
      "cell_type": "code",
      "source": [
        "america_sul_sorted = america_sul.sort_values('Total', ascending=True)"
      ],
      "metadata": {
        "id": "ACkvL5VNzaLZ"
      },
      "execution_count": null,
      "outputs": []
    },
    {
      "cell_type": "code",
      "source": [
        "cores = ['royalblue', 'orange', 'forestgreen', 'orchid', 'purple', 'brown', 'slateblue', 'gray', 'olive', 'navy', 'teal', 'tomato']\n",
        "fig, ax = plt.subplots(figsize=(12,5))\n",
        "ax.barh(america_sul_sorted.index, america_sul_sorted['Total'], color=cores)\n",
        "ax.set_title('Imigração da América do sul para o Canadá\\n1980 a 2013', loc='left', fontsize=16)\n",
        "ax.set_ylabel('')\n",
        "ax.set_xlabel('Número de imigrantes', fontsize=12)\n",
        "ax.xaxis.set_tick_params(labelsize=12)\n",
        "ax.yaxis.set_tick_params(labelsize=12)\n",
        "\n",
        "plt.show()"
      ],
      "metadata": {
        "id": "H58BoOuP05hy"
      },
      "execution_count": null,
      "outputs": []
    },
    {
      "cell_type": "code",
      "source": [
        "cores = []\n",
        "\n",
        "for pais in america_sul_sorted.index:\n",
        "  if pais == 'Brasil':\n",
        "    cores.append('green')\n",
        "  else:\n",
        "    cores.append('silver')\n",
        "\n",
        "\n",
        "fig, ax = plt.subplots(figsize=(12,5))\n",
        "ax.barh(america_sul_sorted.index, america_sul_sorted['Total'], color=cores)\n",
        "ax.set_title('América do Sul: Brasil foi o quarto país com mais imigrantes\\npara o Canadá no período de 1980 a 2013', loc='left', fontsize=14)\n",
        "ax.set_ylabel('')\n",
        "ax.set_xlabel('Número de imigrantes', fontsize=12)\n",
        "ax.xaxis.set_tick_params(labelsize=12)\n",
        "ax.yaxis.set_tick_params(labelsize=12)\n",
        "\n",
        "for i, v in enumerate(america_sul_sorted['Total']):\n",
        "  ax.text(v + 20, i, str(v), color='black', fontsize=10, ha='left', va='center')\n",
        "\n",
        "ax.set_frame_on(False)\n",
        "ax.get_xaxis().set_visible(False)\n",
        "ax.tick_params(axis='both', which='both', length=0)\n",
        "\n",
        "plt.show()"
      ],
      "metadata": {
        "id": "QOkj-_Hr08IU"
      },
      "execution_count": null,
      "outputs": []
    },
    {
      "cell_type": "code",
      "source": [
        "print(fig.canvas.get_supported_filetypes())"
      ],
      "metadata": {
        "id": "IQ0Lskib4Bjs"
      },
      "execution_count": null,
      "outputs": []
    },
    {
      "cell_type": "code",
      "source": [
        "fig, ax = plt.subplots(figsize =(8,4))\n",
        "ax.plot(dados_brasil['ano'], dados_brasil['imigrantes'], lw=2, color='springgreen')\n",
        "ax.set_title('Imigração do Brasil para o Canadá\\n1980 a 2013', fontsize=18, loc='left')\n",
        "ax.set_xlabel('Ano', fontsize=14)\n",
        "ax.set_ylabel('Número de imigrantes', fontsize=14)\n",
        "ax.xaxis.set_tick_params(labelsize=12) # determina os parametros do rotulo do eixo x\n",
        "ax.yaxis.set_tick_params(labelsize=12) # determina os parametros do rotulo do eixo y\n",
        "ax.xaxis.set_major_locator(plt.MultipleLocator(5))\n",
        "\n",
        "ax.spines['top'].set_visible(False)\n",
        "ax.spines['right'].set_visible(False)\n",
        "\n",
        "fig.savefig('imigracao_brasil_canada.png', transparent=False, dpi=300, bbox_inches='tight')\n",
        "\n",
        "plt.show()"
      ],
      "metadata": {
        "id": "54kpedYmK2my"
      },
      "execution_count": null,
      "outputs": []
    },
    {
      "cell_type": "code",
      "source": [],
      "metadata": {
        "id": "ei9K1X6kLhk_"
      },
      "execution_count": null,
      "outputs": []
    }
  ]
}