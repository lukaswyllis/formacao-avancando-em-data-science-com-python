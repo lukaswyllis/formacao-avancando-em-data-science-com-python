{
  "nbformat": 4,
  "nbformat_minor": 0,
  "metadata": {
    "colab": {
      "provenance": []
    },
    "kernelspec": {
      "name": "python3",
      "display_name": "Python 3"
    },
    "language_info": {
      "name": "python"
    }
  },
  "cells": [
    {
      "cell_type": "markdown",
      "source": [
        "# Data Visualization: criando gráficos com bibliotecas Python"
      ],
      "metadata": {
        "id": "9bNd_mofZqaL"
      }
    },
    {
      "cell_type": "markdown",
      "source": [
        "## Conhecendo a biblioteca Matplotlib"
      ],
      "metadata": {
        "id": "us5f3CYuZr0Y"
      }
    },
    {
      "cell_type": "code",
      "source": [
        "import pandas as pd"
      ],
      "metadata": {
        "id": "uaWIg6qyZu2b"
      },
      "execution_count": 1,
      "outputs": []
    },
    {
      "cell_type": "code",
      "source": [
        "url ="
      ],
      "metadata": {
        "id": "PoSrquJqbKqt"
      },
      "execution_count": null,
      "outputs": []
    }
  ]
}