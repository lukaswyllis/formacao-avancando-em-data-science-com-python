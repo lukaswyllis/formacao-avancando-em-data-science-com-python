{
  "nbformat": 4,
  "nbformat_minor": 0,
  "metadata": {
    "colab": {
      "provenance": []
    },
    "kernelspec": {
      "name": "python3",
      "display_name": "Python 3"
    },
    "language_info": {
      "name": "python"
    }
  },
  "cells": [
    {
      "cell_type": "markdown",
      "source": [
        "## Introdução ao GeoPandas"
      ],
      "metadata": {
        "id": "rJGpFWQ54qJP"
      }
    },
    {
      "cell_type": "code",
      "source": [
        "!pip install geopandas==0.14.4"
      ],
      "metadata": {
        "id": "n7JVevP3yj55"
      },
      "execution_count": null,
      "outputs": []
    },
    {
      "cell_type": "code",
      "source": [
        "import geopandas as gpd"
      ],
      "metadata": {
        "id": "lzHSyfVV5fEI"
      },
      "execution_count": null,
      "outputs": []
    },
    {
      "cell_type": "code",
      "source": [
        "url = 'https://github.com/lukaswyllis/formacao-avancando-em-data-science-com-python/raw/refs/heads/master/dados-curso8/RJ_Municipios_2022.shp'"
      ],
      "metadata": {
        "id": "uBUDhtPc43js"
      },
      "execution_count": null,
      "outputs": []
    },
    {
      "cell_type": "code",
      "source": [
        "rj = gpd.read_file(url)"
      ],
      "metadata": {
        "id": "irXsaMSvt3PF"
      },
      "execution_count": null,
      "outputs": []
    },
    {
      "cell_type": "code",
      "source": [
        "rj.head()"
      ],
      "metadata": {
        "id": "6IKDdZKhuX-N"
      },
      "execution_count": null,
      "outputs": []
    },
    {
      "cell_type": "code",
      "source": [
        "rj.plot()"
      ],
      "metadata": {
        "id": "4JtKGPJGyDaP"
      },
      "execution_count": null,
      "outputs": []
    },
    {
      "cell_type": "code",
      "source": [
        "rj.plot(color='white', edgecolor='black')"
      ],
      "metadata": {
        "id": "4I1hOFJpyE2n"
      },
      "execution_count": null,
      "outputs": []
    },
    {
      "cell_type": "code",
      "source": [
        "rj = rj[rj['NM_MUN'] == 'Rio de Janeiro']"
      ],
      "metadata": {
        "id": "8wSYIuN8yL53"
      },
      "execution_count": null,
      "outputs": []
    },
    {
      "cell_type": "code",
      "source": [
        "rj.plot(color='orange', edgecolor='black')"
      ],
      "metadata": {
        "id": "ZEr4xhMVyqD4"
      },
      "execution_count": null,
      "outputs": []
    },
    {
      "cell_type": "code",
      "source": [
        "rj.to_file('RJ-MUNIC.shp')"
      ],
      "metadata": {
        "id": "rda8C_zEyq4v"
      },
      "execution_count": null,
      "outputs": []
    },
    {
      "cell_type": "code",
      "source": [
        "rj_munic = gpd.read_file('RJ-MUNIC.shp')"
      ],
      "metadata": {
        "id": "E3kkWP2Ny39Y"
      },
      "execution_count": null,
      "outputs": []
    },
    {
      "cell_type": "code",
      "source": [
        "rj_munic"
      ],
      "metadata": {
        "id": "ZqQc-fH5zF8Z"
      },
      "execution_count": null,
      "outputs": []
    },
    {
      "cell_type": "markdown",
      "source": [
        "## Desafio: carregando dados"
      ],
      "metadata": {
        "id": "jPqiQYTXzjUb"
      }
    },
    {
      "cell_type": "code",
      "source": [
        "url_sp = 'https://github.com/alura-cursos/curso_geopandas/raw/main/dados/Estado_SP.shp'"
      ],
      "metadata": {
        "id": "h6nBd-1EzGlP"
      },
      "execution_count": null,
      "outputs": []
    },
    {
      "cell_type": "code",
      "source": [
        "sp = gpd.read_file(url_sp)"
      ],
      "metadata": {
        "id": "jjDnRlRgziuY"
      },
      "execution_count": null,
      "outputs": []
    },
    {
      "cell_type": "code",
      "source": [
        "sp.head()"
      ],
      "metadata": {
        "id": "PbtwAdS4zwI8"
      },
      "execution_count": null,
      "outputs": []
    },
    {
      "cell_type": "code",
      "source": [
        "sp.plot()"
      ],
      "metadata": {
        "id": "SFv3HQqizpZ3"
      },
      "execution_count": null,
      "outputs": []
    },
    {
      "cell_type": "code",
      "source": [
        "sp = sp[sp['NM_MUN'] == 'São Paulo']"
      ],
      "metadata": {
        "id": "WVG09MEwzqUr"
      },
      "execution_count": null,
      "outputs": []
    },
    {
      "cell_type": "code",
      "source": [
        "sp.plot()"
      ],
      "metadata": {
        "id": "xQenGcrkzysr"
      },
      "execution_count": null,
      "outputs": []
    },
    {
      "cell_type": "markdown",
      "source": [
        "## Trabalhando com sistemas de coordenadas"
      ],
      "metadata": {
        "id": "xTh28J2-20C4"
      }
    },
    {
      "cell_type": "code",
      "source": [
        "import pandas as pd"
      ],
      "metadata": {
        "id": "ub0NOELZ21-_"
      },
      "execution_count": null,
      "outputs": []
    },
    {
      "cell_type": "code",
      "source": [
        "url_dados = 'https://github.com/lukaswyllis/formacao-avancando-em-data-science-com-python/raw/refs/heads/master/dados-curso8/dados.csv'"
      ],
      "metadata": {
        "id": "p281pHRV23uz"
      },
      "execution_count": null,
      "outputs": []
    },
    {
      "cell_type": "code",
      "source": [
        "df = pd.read_csv(url_dados, sep='\\t')"
      ],
      "metadata": {
        "id": "uKOfn5up3B-E"
      },
      "execution_count": null,
      "outputs": []
    },
    {
      "cell_type": "code",
      "source": [
        "df.head()"
      ],
      "metadata": {
        "id": "_8E7GLjP3GWn"
      },
      "execution_count": null,
      "outputs": []
    },
    {
      "cell_type": "code",
      "source": [
        "type(df)"
      ],
      "metadata": {
        "id": "MrOAgfb13HE_"
      },
      "execution_count": null,
      "outputs": []
    },
    {
      "cell_type": "code",
      "source": [
        "list(zip(df['Longitude'], df['Latitude']))"
      ],
      "metadata": {
        "id": "lzvNuWOv3QsH"
      },
      "execution_count": null,
      "outputs": []
    },
    {
      "cell_type": "code",
      "source": [
        "from shapely import Point"
      ],
      "metadata": {
        "id": "5D0kJz4O38aJ"
      },
      "execution_count": null,
      "outputs": []
    },
    {
      "cell_type": "code",
      "source": [
        "pontos_geometricos = [Point(x) for x in zip(df['Longitude'], df['Latitude'])]"
      ],
      "metadata": {
        "id": "qD-zXXnb3eUo"
      },
      "execution_count": null,
      "outputs": []
    },
    {
      "cell_type": "code",
      "source": [
        "pontos_geometricos"
      ],
      "metadata": {
        "id": "DuXaoDDa4Kvt"
      },
      "execution_count": null,
      "outputs": []
    },
    {
      "cell_type": "code",
      "source": [
        "crs = {'proj': 'latlong', 'ellps': 'WGS84', 'datum': 'WGS84', 'no_defs':True} # sistema de coordenadas geográficas, parâmetros importantes pro geodataframe\n",
        "geo_dados = gpd.GeoDataFrame(df, crs=crs, geometry=pontos_geometricos)"
      ],
      "metadata": {
        "id": "Kv45P_Kn4LiX"
      },
      "execution_count": 30,
      "outputs": []
    },
    {
      "cell_type": "code",
      "source": [
        "geo_dados.to_file('DATASET.shp')"
      ],
      "metadata": {
        "id": "pWm3G8exf5v7"
      },
      "execution_count": 31,
      "outputs": []
    },
    {
      "cell_type": "code",
      "source": [
        "geo_dados.plot(alpha=0.2)"
      ],
      "metadata": {
        "id": "i5A2A5TrgqHn",
        "outputId": "4f9a8b4f-491d-42fe-9d7b-460f88b0872a",
        "colab": {
          "base_uri": "https://localhost:8080/",
          "height": 447
        }
      },
      "execution_count": 33,
      "outputs": [
        {
          "output_type": "execute_result",
          "data": {
            "text/plain": [
              "<Axes: >"
            ]
          },
          "metadata": {},
          "execution_count": 33
        },
        {
          "output_type": "display_data",
          "data": {
            "text/plain": [
              "<Figure size 640x480 with 1 Axes>"
            ],
            "image/png": "[encoded data removed]"
          },
          "metadata": {}
        }
      ]
    },
    {
      "cell_type": "code",
      "source": [],
      "metadata": {
        "id": "WEOC6FV-gwXm"
      },
      "execution_count": null,
      "outputs": []
    }
  ]
}