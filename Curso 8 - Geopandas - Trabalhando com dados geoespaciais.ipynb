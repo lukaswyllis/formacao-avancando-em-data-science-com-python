{
 "cells": [
  {
   "cell_type": "markdown",
   "metadata": {
    "id": "rJGpFWQ54qJP"
   },
   "source": [
    "## Introdução ao GeoPandas"
   ]
  },
  {
   "cell_type": "code",
   "execution_count": 1,
   "metadata": {
    "colab": {
     "base_uri": "https://localhost:8080/"
    },
    "id": "yyVeYJvC4yq4",
    "outputId": "71fcbf19-ad5b-46f4-fbe4-5857ce73b54b"
   },
   "outputs": [
    {
<<<<<<< HEAD
     "name": "stdout",
     "output_type": "stream",
     "text": [
      "Collecting geopandas==0.13.2\n",
      "  Downloading geopandas-0.13.2-py3-none-any.whl.metadata (1.5 kB)\n",
      "Collecting fiona>=1.8.19 (from geopandas==0.13.2)\n",
      "  Downloading fiona-1.10.1-cp312-cp312-win_amd64.whl.metadata (58 kB)\n",
      "Requirement already satisfied: packaging in c:\\users\\lukas.oliveira\\appdata\\local\\anaconda3\\lib\\site-packages (from geopandas==0.13.2) (24.1)\n",
      "Requirement already satisfied: pandas>=1.1.0 in c:\\users\\lukas.oliveira\\appdata\\local\\anaconda3\\lib\\site-packages (from geopandas==0.13.2) (2.2.2)\n",
      "Collecting pyproj>=3.0.1 (from geopandas==0.13.2)\n",
      "  Downloading pyproj-3.7.1-cp312-cp312-win_amd64.whl.metadata (31 kB)\n",
      "Collecting shapely>=1.7.1 (from geopandas==0.13.2)\n",
      "  Downloading shapely-2.0.7-cp312-cp312-win_amd64.whl.metadata (7.1 kB)\n",
      "Requirement already satisfied: attrs>=19.2.0 in c:\\users\\lukas.oliveira\\appdata\\local\\anaconda3\\lib\\site-packages (from fiona>=1.8.19->geopandas==0.13.2) (23.1.0)\n",
      "Requirement already satisfied: certifi in c:\\users\\lukas.oliveira\\appdata\\local\\anaconda3\\lib\\site-packages (from fiona>=1.8.19->geopandas==0.13.2) (2024.8.30)\n",
      "Requirement already satisfied: click~=8.0 in c:\\users\\lukas.oliveira\\appdata\\local\\anaconda3\\lib\\site-packages (from fiona>=1.8.19->geopandas==0.13.2) (8.1.7)\n",
      "Collecting click-plugins>=1.0 (from fiona>=1.8.19->geopandas==0.13.2)\n",
      "  Downloading click_plugins-1.1.1-py2.py3-none-any.whl.metadata (6.4 kB)\n",
      "Collecting cligj>=0.5 (from fiona>=1.8.19->geopandas==0.13.2)\n",
      "  Downloading cligj-0.7.2-py3-none-any.whl.metadata (5.0 kB)\n",
      "Requirement already satisfied: numpy>=1.26.0 in c:\\users\\lukas.oliveira\\appdata\\local\\anaconda3\\lib\\site-packages (from pandas>=1.1.0->geopandas==0.13.2) (1.26.4)\n",
      "Requirement already satisfied: python-dateutil>=2.8.2 in c:\\users\\lukas.oliveira\\appdata\\local\\anaconda3\\lib\\site-packages (from pandas>=1.1.0->geopandas==0.13.2) (2.9.0.post0)\n",
      "Requirement already satisfied: pytz>=2020.1 in c:\\users\\lukas.oliveira\\appdata\\local\\anaconda3\\lib\\site-packages (from pandas>=1.1.0->geopandas==0.13.2) (2024.1)\n",
      "Requirement already satisfied: tzdata>=2022.7 in c:\\users\\lukas.oliveira\\appdata\\local\\anaconda3\\lib\\site-packages (from pandas>=1.1.0->geopandas==0.13.2) (2023.3)\n",
      "Requirement already satisfied: colorama in c:\\users\\lukas.oliveira\\appdata\\local\\anaconda3\\lib\\site-packages (from click~=8.0->fiona>=1.8.19->geopandas==0.13.2) (0.4.6)\n",
      "Requirement already satisfied: six>=1.5 in c:\\users\\lukas.oliveira\\appdata\\local\\anaconda3\\lib\\site-packages (from python-dateutil>=2.8.2->pandas>=1.1.0->geopandas==0.13.2) (1.16.0)\n",
      "Downloading geopandas-0.13.2-py3-none-any.whl (1.1 MB)\n",
      "   ---------------------------------------- 0.0/1.1 MB ? eta -:--:--\n",
      "   --------- ------------------------------ 0.3/1.1 MB ? eta -:--:--\n",
      "   ---------------------------- ----------- 0.8/1.1 MB 2.6 MB/s eta 0:00:01\n",
      "   ---------------------------------------- 1.1/1.1 MB 2.3 MB/s eta 0:00:00\n",
      "Downloading fiona-1.10.1-cp312-cp312-win_amd64.whl (24.5 MB)\n",
      "   ---------------------------------------- 0.0/24.5 MB ? eta -:--:--\n",
      "    --------------------------------------- 0.5/24.5 MB 4.2 MB/s eta 0:00:06\n",
      "   -- ------------------------------------- 1.3/24.5 MB 3.5 MB/s eta 0:00:07\n",
      "   --- ------------------------------------ 2.4/24.5 MB 3.9 MB/s eta 0:00:06\n",
      "   ----- ---------------------------------- 3.4/24.5 MB 4.2 MB/s eta 0:00:06\n",
      "   ------- -------------------------------- 4.5/24.5 MB 4.4 MB/s eta 0:00:05\n",
      "   --------- ------------------------------ 5.8/24.5 MB 4.7 MB/s eta 0:00:04\n",
      "   ------------ --------------------------- 7.3/24.5 MB 5.1 MB/s eta 0:00:04\n",
      "   --------------- ------------------------ 9.4/24.5 MB 5.9 MB/s eta 0:00:03\n",
      "   ------------------- -------------------- 11.8/24.5 MB 6.5 MB/s eta 0:00:02\n",
      "   ------------------------ --------------- 14.7/24.5 MB 7.2 MB/s eta 0:00:02\n",
      "   ----------------------------- ---------- 17.8/24.5 MB 7.9 MB/s eta 0:00:01\n",
      "   ---------------------------------- ----- 21.0/24.5 MB 8.6 MB/s eta 0:00:01\n",
      "   ---------------------------------------  24.4/24.5 MB 9.1 MB/s eta 0:00:01\n",
      "   ---------------------------------------- 24.5/24.5 MB 8.8 MB/s eta 0:00:00\n",
      "Downloading pyproj-3.7.1-cp312-cp312-win_amd64.whl (6.3 MB)\n",
      "   ---------------------------------------- 0.0/6.3 MB ? eta -:--:--\n",
      "   ------------------ --------------------- 2.9/6.3 MB 14.0 MB/s eta 0:00:01\n",
      "   -------------------------------------- - 6.0/6.3 MB 14.8 MB/s eta 0:00:01\n",
      "   ---------------------------------------- 6.3/6.3 MB 13.3 MB/s eta 0:00:00\n",
      "Downloading shapely-2.0.7-cp312-cp312-win_amd64.whl (1.4 MB)\n",
      "   ---------------------------------------- 0.0/1.4 MB ? eta -:--:--\n",
      "   ---------------------------------------- 1.4/1.4 MB 12.6 MB/s eta 0:00:00\n",
      "Downloading click_plugins-1.1.1-py2.py3-none-any.whl (7.5 kB)\n",
      "Downloading cligj-0.7.2-py3-none-any.whl (7.1 kB)\n",
      "Installing collected packages: shapely, pyproj, cligj, click-plugins, fiona, geopandas\n",
      "Successfully installed click-plugins-1.1.1 cligj-0.7.2 fiona-1.10.1 geopandas-0.13.2 pyproj-3.7.1 shapely-2.0.7\n"
     ]
=======
      "cell_type": "code",
      "source": [
        "!pip install geopandas==0.14.4"
      ],
      "metadata": {
        "id": "n7JVevP3yj55"
      },
      "execution_count": null,
      "outputs": []
    },
    {
      "cell_type": "code",
      "source": [
        "import geopandas as gpd"
      ],
      "metadata": {
        "id": "lzHSyfVV5fEI"
      },
      "execution_count": null,
      "outputs": []
    },
    {
      "cell_type": "code",
      "source": [
        "url = 'https://github.com/lukaswyllis/formacao-avancando-em-data-science-com-python/raw/refs/heads/master/dados-curso8/RJ_Municipios_2022.shp'"
      ],
      "metadata": {
        "id": "uBUDhtPc43js"
      },
      "execution_count": null,
      "outputs": []
    },
    {
      "cell_type": "code",
      "source": [
        "rj = gpd.read_file(url)"
      ],
      "metadata": {
        "id": "irXsaMSvt3PF"
      },
      "execution_count": null,
      "outputs": []
    },
    {
      "cell_type": "code",
      "source": [
        "rj.head()"
      ],
      "metadata": {
        "id": "6IKDdZKhuX-N"
      },
      "execution_count": null,
      "outputs": []
    },
    {
      "cell_type": "code",
      "source": [
        "rj.plot()"
      ],
      "metadata": {
        "id": "4JtKGPJGyDaP"
      },
      "execution_count": null,
      "outputs": []
    },
    {
      "cell_type": "code",
      "source": [
        "rj.plot(color='white', edgecolor='black')"
      ],
      "metadata": {
        "id": "4I1hOFJpyE2n"
      },
      "execution_count": null,
      "outputs": []
    },
    {
      "cell_type": "code",
      "source": [
        "rj = rj[rj['NM_MUN'] == 'Rio de Janeiro']"
      ],
      "metadata": {
        "id": "8wSYIuN8yL53"
      },
      "execution_count": null,
      "outputs": []
    },
    {
      "cell_type": "code",
      "source": [
        "rj.plot(color='orange', edgecolor='black')"
      ],
      "metadata": {
        "id": "ZEr4xhMVyqD4"
      },
      "execution_count": null,
      "outputs": []
    },
    {
      "cell_type": "code",
      "source": [
        "rj.to_file('RJ-MUNIC.shp')"
      ],
      "metadata": {
        "id": "rda8C_zEyq4v"
      },
      "execution_count": null,
      "outputs": []
    },
    {
      "cell_type": "code",
      "source": [
        "rj_munic = gpd.read_file('RJ-MUNIC.shp')"
      ],
      "metadata": {
        "id": "E3kkWP2Ny39Y"
      },
      "execution_count": null,
      "outputs": []
    },
    {
      "cell_type": "code",
      "source": [
        "rj_munic"
      ],
      "metadata": {
        "id": "ZqQc-fH5zF8Z"
      },
      "execution_count": null,
      "outputs": []
    },
    {
      "cell_type": "markdown",
      "source": [
        "## Desafio: carregando dados"
      ],
      "metadata": {
        "id": "jPqiQYTXzjUb"
      }
    },
    {
      "cell_type": "code",
      "source": [
        "url_sp = 'https://github.com/alura-cursos/curso_geopandas/raw/main/dados/Estado_SP.shp'"
      ],
      "metadata": {
        "id": "h6nBd-1EzGlP"
      },
      "execution_count": null,
      "outputs": []
    },
    {
      "cell_type": "code",
      "source": [
        "sp = gpd.read_file(url_sp)"
      ],
      "metadata": {
        "id": "jjDnRlRgziuY"
      },
      "execution_count": null,
      "outputs": []
    },
    {
      "cell_type": "code",
      "source": [
        "sp.head()"
      ],
      "metadata": {
        "id": "PbtwAdS4zwI8"
      },
      "execution_count": null,
      "outputs": []
    },
    {
      "cell_type": "code",
      "source": [
        "sp.plot()"
      ],
      "metadata": {
        "id": "SFv3HQqizpZ3"
      },
      "execution_count": null,
      "outputs": []
    },
    {
      "cell_type": "code",
      "source": [
        "sp = sp[sp['NM_MUN'] == 'São Paulo']"
      ],
      "metadata": {
        "id": "WVG09MEwzqUr"
      },
      "execution_count": null,
      "outputs": []
    },
    {
      "cell_type": "code",
      "source": [
        "sp.plot()"
      ],
      "metadata": {
        "id": "xQenGcrkzysr"
      },
      "execution_count": null,
      "outputs": []
    },
    {
      "cell_type": "markdown",
      "source": [
        "## Trabalhando com sistemas de coordenadas"
      ],
      "metadata": {
        "id": "xTh28J2-20C4"
      }
    },
    {
      "cell_type": "code",
      "source": [
        "import pandas as pd"
      ],
      "metadata": {
        "id": "ub0NOELZ21-_"
      },
      "execution_count": null,
      "outputs": []
    },
    {
      "cell_type": "code",
      "source": [
        "url_dados = 'https://github.com/lukaswyllis/formacao-avancando-em-data-science-com-python/raw/refs/heads/master/dados-curso8/dados.csv'"
      ],
      "metadata": {
        "id": "p281pHRV23uz"
      },
      "execution_count": null,
      "outputs": []
    },
    {
      "cell_type": "code",
      "source": [
        "df = pd.read_csv(url_dados, sep='\\t')"
      ],
      "metadata": {
        "id": "uKOfn5up3B-E"
      },
      "execution_count": null,
      "outputs": []
    },
    {
      "cell_type": "code",
      "source": [
        "df.head()"
      ],
      "metadata": {
        "id": "_8E7GLjP3GWn"
      },
      "execution_count": null,
      "outputs": []
    },
    {
      "cell_type": "code",
      "source": [
        "type(df)"
      ],
      "metadata": {
        "id": "MrOAgfb13HE_"
      },
      "execution_count": null,
      "outputs": []
    },
    {
      "cell_type": "code",
      "source": [
        "list(zip(df['Longitude'], df['Latitude']))"
      ],
      "metadata": {
        "id": "lzvNuWOv3QsH"
      },
      "execution_count": null,
      "outputs": []
    },
    {
      "cell_type": "code",
      "source": [
        "from shapely import Point"
      ],
      "metadata": {
        "id": "5D0kJz4O38aJ"
      },
      "execution_count": null,
      "outputs": []
    },
    {
      "cell_type": "code",
      "source": [
        "pontos_geometricos = [Point(x) for x in zip(df['Longitude'], df['Latitude'])]"
      ],
      "metadata": {
        "id": "qD-zXXnb3eUo"
      },
      "execution_count": null,
      "outputs": []
    },
    {
      "cell_type": "code",
      "source": [
        "pontos_geometricos"
      ],
      "metadata": {
        "id": "DuXaoDDa4Kvt"
      },
      "execution_count": null,
      "outputs": []
    },
    {
      "cell_type": "code",
      "source": [
        "crs = {'proj': 'latlong', 'ellps': 'WGS84', 'datum': 'WGS84', 'no_defs':True} # sistema de coordenadas geográficas, parâmetros importantes pro geodataframe\n",
        "geo_dados = gpd.GeoDataFrame(df, crs=crs, geometry=pontos_geometricos)"
      ],
      "metadata": {
        "id": "Kv45P_Kn4LiX"
      },
      "execution_count": 30,
      "outputs": []
    },
    {
      "cell_type": "code",
      "source": [
        "geo_dados.to_file('DATASET.shp')"
      ],
      "metadata": {
        "id": "pWm3G8exf5v7"
      },
      "execution_count": 31,
      "outputs": []
    },
    {
      "cell_type": "code",
      "source": [
        "geo_dados.plot(alpha=0.2)"
      ],
      "metadata": {
        "id": "i5A2A5TrgqHn",
        "outputId": "4f9a8b4f-491d-42fe-9d7b-460f88b0872a",
        "colab": {
          "base_uri": "https://localhost:8080/",
          "height": 447
        }
      },
      "execution_count": 33,
      "outputs": [
        {
          "output_type": "execute_result",
          "data": {
            "text/plain": [
              "<Axes: >"
            ]
          },
          "metadata": {},
          "execution_count": 33
        },
        {
          "output_type": "display_data",
          "data": {
            "text/plain": [
              "<Figure size 640x480 with 1 Axes>"
            ],
            "image/png": "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\n"
          },
          "metadata": {}
        }
      ]
    },
    {
      "cell_type": "code",
      "source": [],
      "metadata": {
        "id": "WEOC6FV-gwXm"
      },
      "execution_count": null,
      "outputs": []
>>>>>>> b1f047b3717f993f84ddb217759ae6f2daae170a
    }
   ],
   "source": [
    "!pip install geopandas==0.13.2"
   ]
  },
  {
   "cell_type": "code",
   "execution_count": 2,
   "metadata": {
    "id": "lzHSyfVV5fEI"
   },
   "outputs": [],
   "source": [
    "import geopandas as gpd"
   ]
  },
  {
   "cell_type": "code",
   "execution_count": 3,
   "metadata": {
    "id": "uBUDhtPc43js"
   },
   "outputs": [],
   "source": [
    "url = 'https://github.com/lukaswyllis/formacao-avancando-em-data-science-com-python/raw/refs/heads/master/dados-curso8/RJ_Municipios_2022.shp'"
   ]
  },
  {
   "cell_type": "code",
   "execution_count": 4,
   "metadata": {
    "colab": {
     "base_uri": "https://localhost:8080/",
     "height": 200
    },
    "id": "irXsaMSvt3PF",
    "outputId": "53e7c378-ed75-439e-c2f3-1dd54ae0ce2c"
   },
   "outputs": [
    {
     "ename": "AttributeError",
     "evalue": "module 'fiona' has no attribute 'path'",
     "output_type": "error",
     "traceback": [
      "\u001b[1;31m---------------------------------------------------------------------------\u001b[0m",
      "\u001b[1;31mAttributeError\u001b[0m                            Traceback (most recent call last)",
      "Cell \u001b[1;32mIn[4], line 1\u001b[0m\n\u001b[1;32m----> 1\u001b[0m rj \u001b[38;5;241m=\u001b[39m gpd\u001b[38;5;241m.\u001b[39mread_file(url)\n",
      "File \u001b[1;32m~\\AppData\\Local\\anaconda3\\Lib\\site-packages\\geopandas\\io\\file.py:281\u001b[0m, in \u001b[0;36m_read_file\u001b[1;34m(filename, bbox, mask, rows, engine, **kwargs)\u001b[0m\n\u001b[0;32m    278\u001b[0m     \u001b[38;5;28;01melse\u001b[39;00m:\n\u001b[0;32m    279\u001b[0m         path_or_bytes \u001b[38;5;241m=\u001b[39m filename\n\u001b[1;32m--> 281\u001b[0m     \u001b[38;5;28;01mreturn\u001b[39;00m _read_file_fiona(\n\u001b[0;32m    282\u001b[0m         path_or_bytes, from_bytes, bbox\u001b[38;5;241m=\u001b[39mbbox, mask\u001b[38;5;241m=\u001b[39mmask, rows\u001b[38;5;241m=\u001b[39mrows, \u001b[38;5;241m*\u001b[39m\u001b[38;5;241m*\u001b[39mkwargs\n\u001b[0;32m    283\u001b[0m     )\n\u001b[0;32m    285\u001b[0m \u001b[38;5;28;01melse\u001b[39;00m:\n\u001b[0;32m    286\u001b[0m     \u001b[38;5;28;01mraise\u001b[39;00m \u001b[38;5;167;01mValueError\u001b[39;00m(\u001b[38;5;124mf\u001b[39m\u001b[38;5;124m\"\u001b[39m\u001b[38;5;124munknown engine \u001b[39m\u001b[38;5;124m'\u001b[39m\u001b[38;5;132;01m{\u001b[39;00mengine\u001b[38;5;132;01m}\u001b[39;00m\u001b[38;5;124m'\u001b[39m\u001b[38;5;124m\"\u001b[39m)\n",
      "File \u001b[1;32m~\\AppData\\Local\\anaconda3\\Lib\\site-packages\\geopandas\\io\\file.py:299\u001b[0m, in \u001b[0;36m_read_file_fiona\u001b[1;34m(path_or_bytes, from_bytes, bbox, mask, rows, where, **kwargs)\u001b[0m\n\u001b[0;32m    293\u001b[0m     \u001b[38;5;28;01mraise\u001b[39;00m \u001b[38;5;167;01mNotImplementedError\u001b[39;00m(\u001b[38;5;124m\"\u001b[39m\u001b[38;5;124mwhere requires fiona 1.9+\u001b[39m\u001b[38;5;124m\"\u001b[39m)\n\u001b[0;32m    295\u001b[0m \u001b[38;5;28;01mif\u001b[39;00m \u001b[38;5;129;01mnot\u001b[39;00m from_bytes:\n\u001b[0;32m    296\u001b[0m     \u001b[38;5;66;03m# Opening a file via URL or file-like-object above automatically detects a\u001b[39;00m\n\u001b[0;32m    297\u001b[0m     \u001b[38;5;66;03m# zipped file. In order to match that behavior, attempt to add a zip scheme\u001b[39;00m\n\u001b[0;32m    298\u001b[0m     \u001b[38;5;66;03m# if missing.\u001b[39;00m\n\u001b[1;32m--> 299\u001b[0m     \u001b[38;5;28;01mif\u001b[39;00m _is_zip(\u001b[38;5;28mstr\u001b[39m(path_or_bytes)):\n\u001b[0;32m    300\u001b[0m         parsed \u001b[38;5;241m=\u001b[39m fiona\u001b[38;5;241m.\u001b[39mparse_path(\u001b[38;5;28mstr\u001b[39m(path_or_bytes))\n\u001b[0;32m    301\u001b[0m         \u001b[38;5;28;01mif\u001b[39;00m \u001b[38;5;28misinstance\u001b[39m(parsed, fiona\u001b[38;5;241m.\u001b[39mpath\u001b[38;5;241m.\u001b[39mParsedPath):\n\u001b[0;32m    302\u001b[0m             \u001b[38;5;66;03m# If fiona is able to parse the path, we can safely look at the scheme\u001b[39;00m\n\u001b[0;32m    303\u001b[0m             \u001b[38;5;66;03m# and update it to have a zip scheme if necessary.\u001b[39;00m\n",
      "File \u001b[1;32m~\\AppData\\Local\\anaconda3\\Lib\\site-packages\\geopandas\\io\\file.py:166\u001b[0m, in \u001b[0;36m_is_zip\u001b[1;34m(path)\u001b[0m\n\u001b[0;32m    164\u001b[0m \u001b[38;5;28;01mdef\u001b[39;00m \u001b[38;5;21m_is_zip\u001b[39m(path):\n\u001b[0;32m    165\u001b[0m \u001b[38;5;250m    \u001b[39m\u001b[38;5;124;03m\"\"\"Check if a given path is a zipfile\"\"\"\u001b[39;00m\n\u001b[1;32m--> 166\u001b[0m     parsed \u001b[38;5;241m=\u001b[39m fiona\u001b[38;5;241m.\u001b[39mpath\u001b[38;5;241m.\u001b[39mParsedPath\u001b[38;5;241m.\u001b[39mfrom_uri(path)\n\u001b[0;32m    167\u001b[0m     \u001b[38;5;28;01mreturn\u001b[39;00m (\n\u001b[0;32m    168\u001b[0m         parsed\u001b[38;5;241m.\u001b[39marchive\u001b[38;5;241m.\u001b[39mendswith(\u001b[38;5;124m\"\u001b[39m\u001b[38;5;124m.zip\u001b[39m\u001b[38;5;124m\"\u001b[39m)\n\u001b[0;32m    169\u001b[0m         \u001b[38;5;28;01mif\u001b[39;00m parsed\u001b[38;5;241m.\u001b[39marchive\n\u001b[0;32m    170\u001b[0m         \u001b[38;5;28;01melse\u001b[39;00m parsed\u001b[38;5;241m.\u001b[39mpath\u001b[38;5;241m.\u001b[39mendswith(\u001b[38;5;124m\"\u001b[39m\u001b[38;5;124m.zip\u001b[39m\u001b[38;5;124m\"\u001b[39m)\n\u001b[0;32m    171\u001b[0m     )\n",
      "\u001b[1;31mAttributeError\u001b[0m: module 'fiona' has no attribute 'path'"
     ]
    }
   ],
   "source": [
    "rj = gpd.read_file(url)"
   ]
  },
  {
   "cell_type": "code",
   "execution_count": null,
   "metadata": {
    "id": "6IKDdZKhuX-N"
   },
   "outputs": [],
   "source": []
  }
 ],
 "metadata": {
  "colab": {
   "provenance": []
  },
  "kernelspec": {
   "display_name": "Python 3 (ipykernel)",
   "language": "python",
   "name": "python3"
  },
  "language_info": {
   "codemirror_mode": {
    "name": "ipython",
    "version": 3
   },
   "file_extension": ".py",
   "mimetype": "text/x-python",
   "name": "python",
   "nbconvert_exporter": "python",
   "pygments_lexer": "ipython3",
   "version": "3.12.7"
  }
 },
 "nbformat": 4,
 "nbformat_minor": 4
}
