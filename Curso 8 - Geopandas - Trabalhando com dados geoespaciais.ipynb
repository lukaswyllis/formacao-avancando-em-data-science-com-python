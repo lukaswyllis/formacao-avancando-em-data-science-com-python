{
 "cells": [
  {
   "cell_type": "markdown",
   "metadata": {
    "id": "rJGpFWQ54qJP"
   },
   "source": [
    "## Introdução ao GeoPandas"
   ]
  },
  {
   "cell_type": "code",
   "execution_count": 1,
   "metadata": {
    "colab": {
     "base_uri": "https://localhost:8080/"
    },
    "id": "yyVeYJvC4yq4",
    "outputId": "71fcbf19-ad5b-46f4-fbe4-5857ce73b54b"
   },
   "outputs": [
    {
     "name": "stdout",
     "output_type": "stream",
     "text": [
      "Collecting geopandas==0.13.2\n",
      "  Downloading geopandas-0.13.2-py3-none-any.whl.metadata (1.5 kB)\n",
      "Collecting fiona>=1.8.19 (from geopandas==0.13.2)\n",
      "  Downloading fiona-1.10.1-cp312-cp312-win_amd64.whl.metadata (58 kB)\n",
      "Requirement already satisfied: packaging in c:\\users\\lukas.oliveira\\appdata\\local\\anaconda3\\lib\\site-packages (from geopandas==0.13.2) (24.1)\n",
      "Requirement already satisfied: pandas>=1.1.0 in c:\\users\\lukas.oliveira\\appdata\\local\\anaconda3\\lib\\site-packages (from geopandas==0.13.2) (2.2.2)\n",
      "Collecting pyproj>=3.0.1 (from geopandas==0.13.2)\n",
      "  Downloading pyproj-3.7.1-cp312-cp312-win_amd64.whl.metadata (31 kB)\n",
      "Collecting shapely>=1.7.1 (from geopandas==0.13.2)\n",
      "  Downloading shapely-2.0.7-cp312-cp312-win_amd64.whl.metadata (7.1 kB)\n",
      "Requirement already satisfied: attrs>=19.2.0 in c:\\users\\lukas.oliveira\\appdata\\local\\anaconda3\\lib\\site-packages (from fiona>=1.8.19->geopandas==0.13.2) (23.1.0)\n",
      "Requirement already satisfied: certifi in c:\\users\\lukas.oliveira\\appdata\\local\\anaconda3\\lib\\site-packages (from fiona>=1.8.19->geopandas==0.13.2) (2024.8.30)\n",
      "Requirement already satisfied: click~=8.0 in c:\\users\\lukas.oliveira\\appdata\\local\\anaconda3\\lib\\site-packages (from fiona>=1.8.19->geopandas==0.13.2) (8.1.7)\n",
      "Collecting click-plugins>=1.0 (from fiona>=1.8.19->geopandas==0.13.2)\n",
      "  Downloading click_plugins-1.1.1-py2.py3-none-any.whl.metadata (6.4 kB)\n",
      "Collecting cligj>=0.5 (from fiona>=1.8.19->geopandas==0.13.2)\n",
      "  Downloading cligj-0.7.2-py3-none-any.whl.metadata (5.0 kB)\n",
      "Requirement already satisfied: numpy>=1.26.0 in c:\\users\\lukas.oliveira\\appdata\\local\\anaconda3\\lib\\site-packages (from pandas>=1.1.0->geopandas==0.13.2) (1.26.4)\n",
      "Requirement already satisfied: python-dateutil>=2.8.2 in c:\\users\\lukas.oliveira\\appdata\\local\\anaconda3\\lib\\site-packages (from pandas>=1.1.0->geopandas==0.13.2) (2.9.0.post0)\n",
      "Requirement already satisfied: pytz>=2020.1 in c:\\users\\lukas.oliveira\\appdata\\local\\anaconda3\\lib\\site-packages (from pandas>=1.1.0->geopandas==0.13.2) (2024.1)\n",
      "Requirement already satisfied: tzdata>=2022.7 in c:\\users\\lukas.oliveira\\appdata\\local\\anaconda3\\lib\\site-packages (from pandas>=1.1.0->geopandas==0.13.2) (2023.3)\n",
      "Requirement already satisfied: colorama in c:\\users\\lukas.oliveira\\appdata\\local\\anaconda3\\lib\\site-packages (from click~=8.0->fiona>=1.8.19->geopandas==0.13.2) (0.4.6)\n",
      "Requirement already satisfied: six>=1.5 in c:\\users\\lukas.oliveira\\appdata\\local\\anaconda3\\lib\\site-packages (from python-dateutil>=2.8.2->pandas>=1.1.0->geopandas==0.13.2) (1.16.0)\n",
      "Downloading geopandas-0.13.2-py3-none-any.whl (1.1 MB)\n",
      "   ---------------------------------------- 0.0/1.1 MB ? eta -:--:--\n",
      "   --------- ------------------------------ 0.3/1.1 MB ? eta -:--:--\n",
      "   ---------------------------- ----------- 0.8/1.1 MB 2.6 MB/s eta 0:00:01\n",
      "   ---------------------------------------- 1.1/1.1 MB 2.3 MB/s eta 0:00:00\n",
      "Downloading fiona-1.10.1-cp312-cp312-win_amd64.whl (24.5 MB)\n",
      "   ---------------------------------------- 0.0/24.5 MB ? eta -:--:--\n",
      "    --------------------------------------- 0.5/24.5 MB 4.2 MB/s eta 0:00:06\n",
      "   -- ------------------------------------- 1.3/24.5 MB 3.5 MB/s eta 0:00:07\n",
      "   --- ------------------------------------ 2.4/24.5 MB 3.9 MB/s eta 0:00:06\n",
      "   ----- ---------------------------------- 3.4/24.5 MB 4.2 MB/s eta 0:00:06\n",
      "   ------- -------------------------------- 4.5/24.5 MB 4.4 MB/s eta 0:00:05\n",
      "   --------- ------------------------------ 5.8/24.5 MB 4.7 MB/s eta 0:00:04\n",
      "   ------------ --------------------------- 7.3/24.5 MB 5.1 MB/s eta 0:00:04\n",
      "   --------------- ------------------------ 9.4/24.5 MB 5.9 MB/s eta 0:00:03\n",
      "   ------------------- -------------------- 11.8/24.5 MB 6.5 MB/s eta 0:00:02\n",
      "   ------------------------ --------------- 14.7/24.5 MB 7.2 MB/s eta 0:00:02\n",
      "   ----------------------------- ---------- 17.8/24.5 MB 7.9 MB/s eta 0:00:01\n",
      "   ---------------------------------- ----- 21.0/24.5 MB 8.6 MB/s eta 0:00:01\n",
      "   ---------------------------------------  24.4/24.5 MB 9.1 MB/s eta 0:00:01\n",
      "   ---------------------------------------- 24.5/24.5 MB 8.8 MB/s eta 0:00:00\n",
      "Downloading pyproj-3.7.1-cp312-cp312-win_amd64.whl (6.3 MB)\n",
      "   ---------------------------------------- 0.0/6.3 MB ? eta -:--:--\n",
      "   ------------------ --------------------- 2.9/6.3 MB 14.0 MB/s eta 0:00:01\n",
      "   -------------------------------------- - 6.0/6.3 MB 14.8 MB/s eta 0:00:01\n",
      "   ---------------------------------------- 6.3/6.3 MB 13.3 MB/s eta 0:00:00\n",
      "Downloading shapely-2.0.7-cp312-cp312-win_amd64.whl (1.4 MB)\n",
      "   ---------------------------------------- 0.0/1.4 MB ? eta -:--:--\n",
      "   ---------------------------------------- 1.4/1.4 MB 12.6 MB/s eta 0:00:00\n",
      "Downloading click_plugins-1.1.1-py2.py3-none-any.whl (7.5 kB)\n",
      "Downloading cligj-0.7.2-py3-none-any.whl (7.1 kB)\n",
      "Installing collected packages: shapely, pyproj, cligj, click-plugins, fiona, geopandas\n",
      "Successfully installed click-plugins-1.1.1 cligj-0.7.2 fiona-1.10.1 geopandas-0.13.2 pyproj-3.7.1 shapely-2.0.7\n"
     ]
    }
   ],
   "source": [
    "!pip install geopandas==0.13.2"
   ]
  },
  {
   "cell_type": "code",
   "execution_count": 2,
   "metadata": {
    "id": "lzHSyfVV5fEI"
   },
   "outputs": [],
   "source": [
    "import geopandas as gpd"
   ]
  },
  {
   "cell_type": "code",
   "execution_count": 3,
   "metadata": {
    "id": "uBUDhtPc43js"
   },
   "outputs": [],
   "source": [
    "url = 'https://github.com/lukaswyllis/formacao-avancando-em-data-science-com-python/raw/refs/heads/master/dados-curso8/RJ_Municipios_2022.shp'"
   ]
  },
  {
   "cell_type": "code",
   "execution_count": 4,
   "metadata": {
    "colab": {
     "base_uri": "https://localhost:8080/",
     "height": 200
    },
    "id": "irXsaMSvt3PF",
    "outputId": "53e7c378-ed75-439e-c2f3-1dd54ae0ce2c"
   },
   "outputs": [
    {
     "ename": "AttributeError",
     "evalue": "module 'fiona' has no attribute 'path'",
     "output_type": "error",
     "traceback": [
      "\u001b[1;31m---------------------------------------------------------------------------\u001b[0m",
      "\u001b[1;31mAttributeError\u001b[0m                            Traceback (most recent call last)",
      "Cell \u001b[1;32mIn[4], line 1\u001b[0m\n\u001b[1;32m----> 1\u001b[0m rj \u001b[38;5;241m=\u001b[39m gpd\u001b[38;5;241m.\u001b[39mread_file(url)\n",
      "File \u001b[1;32m~\\AppData\\Local\\anaconda3\\Lib\\site-packages\\geopandas\\io\\file.py:281\u001b[0m, in \u001b[0;36m_read_file\u001b[1;34m(filename, bbox, mask, rows, engine, **kwargs)\u001b[0m\n\u001b[0;32m    278\u001b[0m     \u001b[38;5;28;01melse\u001b[39;00m:\n\u001b[0;32m    279\u001b[0m         path_or_bytes \u001b[38;5;241m=\u001b[39m filename\n\u001b[1;32m--> 281\u001b[0m     \u001b[38;5;28;01mreturn\u001b[39;00m _read_file_fiona(\n\u001b[0;32m    282\u001b[0m         path_or_bytes, from_bytes, bbox\u001b[38;5;241m=\u001b[39mbbox, mask\u001b[38;5;241m=\u001b[39mmask, rows\u001b[38;5;241m=\u001b[39mrows, \u001b[38;5;241m*\u001b[39m\u001b[38;5;241m*\u001b[39mkwargs\n\u001b[0;32m    283\u001b[0m     )\n\u001b[0;32m    285\u001b[0m \u001b[38;5;28;01melse\u001b[39;00m:\n\u001b[0;32m    286\u001b[0m     \u001b[38;5;28;01mraise\u001b[39;00m \u001b[38;5;167;01mValueError\u001b[39;00m(\u001b[38;5;124mf\u001b[39m\u001b[38;5;124m\"\u001b[39m\u001b[38;5;124munknown engine \u001b[39m\u001b[38;5;124m'\u001b[39m\u001b[38;5;132;01m{\u001b[39;00mengine\u001b[38;5;132;01m}\u001b[39;00m\u001b[38;5;124m'\u001b[39m\u001b[38;5;124m\"\u001b[39m)\n",
      "File \u001b[1;32m~\\AppData\\Local\\anaconda3\\Lib\\site-packages\\geopandas\\io\\file.py:299\u001b[0m, in \u001b[0;36m_read_file_fiona\u001b[1;34m(path_or_bytes, from_bytes, bbox, mask, rows, where, **kwargs)\u001b[0m\n\u001b[0;32m    293\u001b[0m     \u001b[38;5;28;01mraise\u001b[39;00m \u001b[38;5;167;01mNotImplementedError\u001b[39;00m(\u001b[38;5;124m\"\u001b[39m\u001b[38;5;124mwhere requires fiona 1.9+\u001b[39m\u001b[38;5;124m\"\u001b[39m)\n\u001b[0;32m    295\u001b[0m \u001b[38;5;28;01mif\u001b[39;00m \u001b[38;5;129;01mnot\u001b[39;00m from_bytes:\n\u001b[0;32m    296\u001b[0m     \u001b[38;5;66;03m# Opening a file via URL or file-like-object above automatically detects a\u001b[39;00m\n\u001b[0;32m    297\u001b[0m     \u001b[38;5;66;03m# zipped file. In order to match that behavior, attempt to add a zip scheme\u001b[39;00m\n\u001b[0;32m    298\u001b[0m     \u001b[38;5;66;03m# if missing.\u001b[39;00m\n\u001b[1;32m--> 299\u001b[0m     \u001b[38;5;28;01mif\u001b[39;00m _is_zip(\u001b[38;5;28mstr\u001b[39m(path_or_bytes)):\n\u001b[0;32m    300\u001b[0m         parsed \u001b[38;5;241m=\u001b[39m fiona\u001b[38;5;241m.\u001b[39mparse_path(\u001b[38;5;28mstr\u001b[39m(path_or_bytes))\n\u001b[0;32m    301\u001b[0m         \u001b[38;5;28;01mif\u001b[39;00m \u001b[38;5;28misinstance\u001b[39m(parsed, fiona\u001b[38;5;241m.\u001b[39mpath\u001b[38;5;241m.\u001b[39mParsedPath):\n\u001b[0;32m    302\u001b[0m             \u001b[38;5;66;03m# If fiona is able to parse the path, we can safely look at the scheme\u001b[39;00m\n\u001b[0;32m    303\u001b[0m             \u001b[38;5;66;03m# and update it to have a zip scheme if necessary.\u001b[39;00m\n",
      "File \u001b[1;32m~\\AppData\\Local\\anaconda3\\Lib\\site-packages\\geopandas\\io\\file.py:166\u001b[0m, in \u001b[0;36m_is_zip\u001b[1;34m(path)\u001b[0m\n\u001b[0;32m    164\u001b[0m \u001b[38;5;28;01mdef\u001b[39;00m \u001b[38;5;21m_is_zip\u001b[39m(path):\n\u001b[0;32m    165\u001b[0m \u001b[38;5;250m    \u001b[39m\u001b[38;5;124;03m\"\"\"Check if a given path is a zipfile\"\"\"\u001b[39;00m\n\u001b[1;32m--> 166\u001b[0m     parsed \u001b[38;5;241m=\u001b[39m fiona\u001b[38;5;241m.\u001b[39mpath\u001b[38;5;241m.\u001b[39mParsedPath\u001b[38;5;241m.\u001b[39mfrom_uri(path)\n\u001b[0;32m    167\u001b[0m     \u001b[38;5;28;01mreturn\u001b[39;00m (\n\u001b[0;32m    168\u001b[0m         parsed\u001b[38;5;241m.\u001b[39marchive\u001b[38;5;241m.\u001b[39mendswith(\u001b[38;5;124m\"\u001b[39m\u001b[38;5;124m.zip\u001b[39m\u001b[38;5;124m\"\u001b[39m)\n\u001b[0;32m    169\u001b[0m         \u001b[38;5;28;01mif\u001b[39;00m parsed\u001b[38;5;241m.\u001b[39marchive\n\u001b[0;32m    170\u001b[0m         \u001b[38;5;28;01melse\u001b[39;00m parsed\u001b[38;5;241m.\u001b[39mpath\u001b[38;5;241m.\u001b[39mendswith(\u001b[38;5;124m\"\u001b[39m\u001b[38;5;124m.zip\u001b[39m\u001b[38;5;124m\"\u001b[39m)\n\u001b[0;32m    171\u001b[0m     )\n",
      "\u001b[1;31mAttributeError\u001b[0m: module 'fiona' has no attribute 'path'"
     ]
    }
   ],
   "source": [
    "rj = gpd.read_file(url)"
   ]
  },
  {
   "cell_type": "code",
   "execution_count": null,
   "metadata": {
    "id": "6IKDdZKhuX-N"
   },
   "outputs": [],
   "source": []
  }
 ],
 "metadata": {
  "colab": {
   "provenance": []
  },
  "kernelspec": {
   "display_name": "Python 3 (ipykernel)",
   "language": "python",
   "name": "python3"
  },
  "language_info": {
   "codemirror_mode": {
    "name": "ipython",
    "version": 3
   },
   "file_extension": ".py",
   "mimetype": "text/x-python",
   "name": "python",
   "nbconvert_exporter": "python",
   "pygments_lexer": "ipython3",
   "version": "3.12.7"
  }
 },
 "nbformat": 4,
 "nbformat_minor": 4
}
