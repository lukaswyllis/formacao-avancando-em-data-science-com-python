{
  "nbformat": 4,
  "nbformat_minor": 0,
  "metadata": {
    "colab": {
      "provenance": []
    },
    "kernelspec": {
      "name": "python3",
      "display_name": "Python 3"
    },
    "language_info": {
      "name": "python"
    }
  },
  "cells": [
    {
      "cell_type": "markdown",
      "source": [
        "# Data Visualization: gráficos de composição e relacionamento"
      ],
      "metadata": {
        "id": "m_a3x5e_qB7r"
      }
    },
    {
      "cell_type": "markdown",
      "source": [
        "## Proporção dos Dados"
      ],
      "metadata": {
        "id": "BemsiIZBqTVB"
      }
    },
    {
      "cell_type": "code",
      "source": [],
      "metadata": {
        "id": "_fnGo42aqCtb"
      },
      "execution_count": null,
      "outputs": []
    }
  ]
}