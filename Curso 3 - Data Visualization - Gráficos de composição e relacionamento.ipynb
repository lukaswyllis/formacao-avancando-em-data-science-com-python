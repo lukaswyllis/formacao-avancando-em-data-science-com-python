{
  "nbformat": 4,
  "nbformat_minor": 0,
  "metadata": {
    "colab": {
      "provenance": []
    },
    "kernelspec": {
      "name": "python3",
      "display_name": "Python 3"
    },
    "language_info": {
      "name": "python"
    }
  },
  "cells": [
    {
      "cell_type": "markdown",
      "source": [
        "# <font color=green> Data visualization: Gráficos</font>\n",
        "---"
      ],
      "metadata": {
        "id": "7D3n0DACbyjf"
      }
    },
    {
      "cell_type": "markdown",
      "source": [
        "# **Aula 1 - Comparando dados**"
      ],
      "metadata": {
        "id": "Au2nZsz9ezur"
      }
    },
    {
      "cell_type": "markdown",
      "source": [
        "## **1.1 Introdução**\n",
        "\n",
        "---\n",
        "\n",
        "\n",
        "Neste curso, vamos construir um portfólio com as análises de **duas** bases de dados diferentes, explorando cada uma e respondendo aos questionamentos levantados em torno de seus dados. Todas as bases estão no formato CSV e podem ser acessadas por meio do Github.\n",
        "\n",
        "> **Bases de dados:**\n",
        "\n",
        "1.   Vendas de uma rede de lojas de departamentos que opera em todo Brasil\n",
        "\n",
        "2.   Distribuição de volumes e medidas de produtos de uma empresa de itens de limpeza\n",
        "\n",
        " 2.1 Volume de um amaciante de 1L em um total de 1000 amostras medidas.\n",
        "\n",
        " 2.2 Medidas de altura, comprimento e largura de uma caixa de sabão em pó em um total de 1000 amostras medidas\n",
        "\n",
        "A cada aula, vamos passar por uma das bases de dados e tecer nossas análises de acordo com as perguntas que forem apresentadas buscando respondê-las por meio da utilização de recursos visuais (gráficos e elementos visuais)."
      ],
      "metadata": {
        "id": "zozK6sjqX0YH"
      }
    },
    {
      "cell_type": "markdown",
      "source": [
        "### Paleta de cores"
      ],
      "metadata": {
        "id": "YvLE4O2iemTx"
      }
    },
    {
      "cell_type": "markdown",
      "source": [
        "|Azul|||||\n",
        "|------|------|------|------|------|\n",
        "| AZUL1 |AZUL2 |AZUL3 |AZUL4 |AZUL5 |\n",
        "|#03045e | #0077b6 | #00b4d8| #90e0ef | #CDDBF3 |\n",
        "|![adicionar desc](https://github.com/afonsosr2/dataviz-graficos/blob/master/imagens/AZUL1.png?raw=true)|![adicionar desc](https://github.com/afonsosr2/dataviz-graficos/blob/master/imagens/AZUL2.png?raw=true)|![adicionar desc](https://github.com/afonsosr2/dataviz-graficos/blob/master/imagens/AZUL3.png?raw=true)|![adicionar desc](https://github.com/afonsosr2/dataviz-graficos/blob/master/imagens/AZUL4.png?raw=true)|![adicionar desc](https://github.com/afonsosr2/dataviz-graficos/blob/master/imagens/AZUL5.png?raw=true)|\n",
        "\n",
        "&nbsp;\n",
        "\n",
        "|Cinza|||||\n",
        "|------|------|------|------|------|\n",
        "| CINZA1 |CINZA2 |CINZA3 |CINZA4 |CINZA5|\n",
        "|#212529 | #495057| #adb5bd | #dee2e6| #f8f9fa |\n",
        "| ![adicionar desc](https://github.com/afonsosr2/dataviz-graficos/blob/master/imagens/CINZA1.png?raw=true)  |![adicionar desc](https://github.com/afonsosr2/dataviz-graficos/blob/master/imagens/CINZA2.png?raw=true) |![adicionar desc](https://github.com/afonsosr2/dataviz-graficos/blob/master/imagens/CINZA3.png?raw=true) |![adicionar desc](https://github.com/afonsosr2/dataviz-graficos/blob/master/imagens/CINZA4.png?raw=true) |![adicionar desc](https://github.com/afonsosr2/dataviz-graficos/blob/master/imagens/CINZA5.png?raw=true)|\n",
        "&nbsp;\n",
        "\n",
        "|Misto|||||\n",
        "|------|------|------|------|------|\n",
        "| VERMELHO1 |LARANJA1 |AMARELO1 | VERDE1 |VERDE2 |\n",
        "|#e76f51 | #f4a261 | #e9c46a |#0C8040 | #4c956c |#2a9d8f|\n",
        "| ![adicionar desc](https://github.com/afonsosr2/dataviz-graficos/blob/master/imagens/VERMELHO1.png?raw=true) |![adicionar desc](https://github.com/afonsosr2/dataviz-graficos/blob/master/imagens/LARANJA1.png?raw=true)|![adicionar desc](https://github.com/afonsosr2/dataviz-graficos/blob/master/imagens/AMARELO1.png?raw=true)| ![adicionar desc](https://github.com/afonsosr2/dataviz-graficos/blob/master/imagens/VERDE1.png?raw=true) | ![adicionar desc](https://github.com/afonsosr2/dataviz-graficos/blob/master/imagens/VERDE2.png?raw=true) |\n"
      ],
      "metadata": {
        "id": "sAuABmczf3Ev"
      }
    },
    {
      "cell_type": "code",
      "source": [
        "# Definindo a paleta de cores\n",
        "AZUL1, AZUL2, AZUL3, AZUL4, AZUL5 = '#03045e', '#0077b6', \"#00b4d8\", '#90e0ef', '#CDDBF3'\n",
        "CINZA1, CINZA2, CINZA3, CINZA4, CINZA5 = '#212529', '#495057', '#adb5bd', '#dee2e6', '#f8f9fa'\n",
        "VERMELHO1, LARANJA1, AMARELO1, VERDE1, VERDE2, VERDE3 = '#e76f51', '#f4a261',\t'#e9c46a', '#4c956c', '#2a9d8f', '#264653'"
      ],
      "metadata": {
        "id": "_LZKF5MzesCL"
      },
      "execution_count": null,
      "outputs": []
    },
    {
      "cell_type": "markdown",
      "source": [
        "## **1.2 - Gráficos de colunas**\n",
        "\n",
        "\n",
        "---\n",
        "\n",
        "\n"
      ],
      "metadata": {
        "id": "t8kjf_FpfBkJ"
      }
    },
    {
      "cell_type": "markdown",
      "source": [
        "### **Situação-problema 1**\n",
        "Uma rede de lojas de departamentos que opera em todo Brasil quer saber como os estados ou sua clientela estão se comportando nas vendas de seus produtos. Para isso, você como cientista de dados precisará analisar os dados que ela disponibilzou em um dataset com os pedidos das suas clientes entre o ano de 2016 e 2019.\n",
        "\n",
        "Aqui, vamos trabalhar com uma quantidade menor de dados, mas o racional é o mesmo para quantidade de dados maiores.\n"
      ],
      "metadata": {
        "id": "Pl-FzB1PjzRy"
      }
    },
    {
      "cell_type": "code",
      "source": [
        "import pandas as pd"
      ],
      "metadata": {
        "id": "FFJB10HlfBSJ"
      },
      "execution_count": null,
      "outputs": []
    },
    {
      "cell_type": "code",
      "source": [
        "# Importando o relatório de vendas e atualizando as colunas de pedido e envio para o tipo data\n",
        "vendas = pd.read_csv(\"https://raw.githubusercontent.com/lukaswyllis/formacao-avancando-em-data-science-com-python/refs/heads/master/dados-curso2/dados/relatorio_vendas.csv\")\n",
        "vendas['data_pedido'] = pd.to_datetime(vendas['data_pedido'], format='%Y-%m-%d')\n",
        "vendas['data_envio'] = pd.to_datetime(vendas['data_envio'], format='%Y-%m-%d')\n",
        "\n",
        "vendas"
      ],
      "metadata": {
        "id": "Rwjb5jaPkIzc"
      },
      "execution_count": null,
      "outputs": []
    },
    {
      "cell_type": "code",
      "source": [
        "# Verificando os tipos de dados e se existem dados nulos\n",
        "vendas.info()"
      ],
      "metadata": {
        "id": "UQjZEaUjkg8_"
      },
      "execution_count": null,
      "outputs": []
    },
    {
      "cell_type": "markdown",
      "source": [
        "Após visualizarmos de maneira rápida os dados que possuímos, vamos partir para as análises que podemos fazer com esses dados e quais os gráficos de comparação vamos utilizar a fim de apresentar esse tipo de informação.\n",
        "\n",
        "### **Questionamentos**\n",
        "\n",
        "1.   Qual o total de vendas por ano? E qual ano performou melhor em nossa base de dados?\n",
        "\n",
        "2.   Qual é o top 7 produtos que mais apresentaram lucros em nosso catálogo durante o período representado?\n",
        "\n",
        "3.   Se separarmos o total de vendas por ano por regiões? O que conseguimos observar em nossos dados?\n",
        "\n",
        "4.   Qual o modo de envio mais utilizado pelos clientes da loja? É proporcional para B2B e B2C?\n",
        "\n",
        "5.   Qual o total de vendas por trimestre do estado de São Paulo?\n",
        "\n",
        "6.   Qual o faturamento por trimestre em cada região?\n",
        "\n"
      ],
      "metadata": {
        "id": "O-KLnaiFj6hM"
      }
    },
    {
      "cell_type": "markdown",
      "source": [
        "## **1.3 - Gráficos de colunas**\n",
        "\n",
        "\n",
        "---\n",
        "\n",
        "\n"
      ],
      "metadata": {
        "id": "NPPKkTlpn_-A"
      }
    },
    {
      "cell_type": "markdown",
      "source": [
        "<img src=\"https://github.com/afonsosr2/dataviz-graficos/blob/b86ed16b3652d0226512a1ecf74d044d197723d8/imagens/Tipos_Graficos/Gr%C3%A1fico%20(comparando%20e%20agrupando%20dados).png?raw=true\" alt=\"inserir alt\" height=\"343\">\n",
        "\n",
        "\n",
        "<font size=2>Fonte: Andrew Abela (Extreme Presentation/Biuwer)</font>\n"
      ],
      "metadata": {
        "id": "ckQWjwb6XzeK"
      }
    },
    {
      "cell_type": "markdown",
      "source": [
        "### **Pergunta 1 -** Qual o total de vendas por ano? E qual ano performou melhor em nossa base de dados?"
      ],
      "metadata": {
        "id": "8sc3B4Xnj8gO"
      }
    },
    {
      "cell_type": "markdown",
      "source": [
        "#### Tratando os dados para gerar a visualização"
      ],
      "metadata": {
        "id": "q8kZdoa1o11o"
      }
    },
    {
      "cell_type": "code",
      "source": [
        "# Criando um df com os dados desejados\n",
        "df_vendas_ano = vendas.copy()\n",
        "df_vendas_ano = df_vendas_ano[['data_pedido', 'vendas']]\n",
        "\n",
        "# Gerando uma coluna que represente apenas os anos puxando-os da coluna data pedido e agrupando os dados por ano\n",
        "df_vendas_ano['ano'] = df_vendas_ano.data_pedido.dt.year\n",
        "df_vendas_ano.drop(labels = \"data_pedido\", axis = 1, inplace = True)\n",
        "df_vendas_ano = df_vendas_ano.groupby(['ano']).aggregate(\"sum\")\n",
        "\n",
        "df_vendas_ano"
      ],
      "metadata": {
        "id": "YUA5ibkLouAD"
      },
      "execution_count": null,
      "outputs": []
    },
    {
      "cell_type": "markdown",
      "source": [
        "#### Gerando o gráfico"
      ],
      "metadata": {
        "id": "odNP3nGIu8-J"
      }
    },
    {
      "cell_type": "code",
      "source": [
        "## Gerando a função para criar o gráfico de colunas\n",
        "\n",
        "def grafico_vendas(cores: list=[AZUL2]):\n",
        "  # Importando as bibliotecas\n",
        "  import matplotlib.pyplot as plt\n",
        "  import seaborn as sns\n",
        "\n",
        "  # Área do gráfico e tema da visualização\n",
        "  fig, ax = plt.subplots(figsize=(10,4))\n",
        "  sns.set_theme(style=\"white\")\n",
        "\n",
        "  # Gerando o gráfico de colunas\n",
        "  ax = sns.barplot(data=df_vendas_ano, y='vendas', x = df_vendas_ano.index, palette = cores)\n",
        "\n",
        "  # Personalizando o gráfico\n",
        "  ax.set_title('Vendas das lojas de departamentos\\nde 2016 a 2019', loc='left', fontsize=18, color = CINZA1)\n",
        "  ax.set_xlabel('')\n",
        "  ax.set_ylabel('')\n",
        "  ax.set_yticklabels([])\n",
        "  ax.xaxis.set_tick_params(labelsize=14, labelcolor = CINZA2)\n",
        "  sns.despine(left = True, bottom = True)\n",
        "\n",
        "  # Escrevendo os valores de cada barra no gráfico\n",
        "  for i, valor in enumerate(df_vendas_ano['vendas']):\n",
        "      qtd = f'R$ {valor:,.0f}'.replace(',','.')\n",
        "      offset = 1e5  # offset de 100.000\n",
        "      ax.text(i, valor + offset, qtd, color= CINZA2, fontsize=12, ha='center', va='center')\n",
        "\n",
        "  return ax\n",
        "\n",
        "ax = grafico_vendas()"
      ],
      "metadata": {
        "id": "DRVLh5HWu7SN"
      },
      "execution_count": null,
      "outputs": []
    },
    {
      "cell_type": "markdown",
      "source": [
        "## **1.4 - Adicionando textos na visualização**\n",
        "\n",
        "---\n",
        "\n"
      ],
      "metadata": {
        "id": "2DQ-Xi8ceNAp"
      }
    },
    {
      "cell_type": "code",
      "source": [
        "## Configurando o gráfico com parâmetros que potencializam a visualização dos dados\n",
        "\n",
        "# Definindo as cores do gráfico\n",
        "cores = []\n",
        "for ano in df_vendas_ano.index:\n",
        "    if df_vendas_ano.loc[ano,\"vendas\"] == df_vendas_ano[\"vendas\"].max():\n",
        "        cores.append(AZUL2)\n",
        "    else:\n",
        "        cores.append(AZUL5)\n",
        "\n",
        "## Chamando a função do gráfico de colunas\n",
        "ax = grafico_vendas(cores)\n",
        "\n",
        "# Anotando uma conclusão no gráfico\n",
        "ax.text(3.5, 1.5e6,\n",
        "         'Em $\\\\bf{2019}$, as vendas\\n'\n",
        "         'nas lojas subiram\\n'\n",
        "         'aproximadamente $\\\\bf{22,3}$%\\n'\n",
        "         'em relação ao ano de 2018.',\n",
        "         fontsize=14,\n",
        "         linespacing=1.45,\n",
        "         color=AZUL2)\n",
        "\n",
        "fig = ax.get_figure()"
      ],
      "metadata": {
        "id": "tlkEC1C0faZ5"
      },
      "execution_count": null,
      "outputs": []
    },
    {
      "cell_type": "markdown",
      "source": [
        "<font color=green size=4> Conclusões: </font>\n",
        "\n",
        "---\n",
        "\n",
        "Um gráfico de colunas é ideal para compararmos valores com poucas categorias ou pequenos intervalos de tempo. Utilizamos aqui o recurso de destaque por cor para orientar o nosso público a visualizar o último período em comparação aos outros. Além disso, passamos uma informação em forma de texto apontando a evolução em relação ao ano anterior.  \n",
        "\n",
        "Como sugestão, podemos testar essa técnica também com outros valores em nossa base de dados como, por exemplo, o lucro anual ou o faturamento em vendas pelo estado ou região que você preferir analisar."
      ],
      "metadata": {
        "id": "giWDQDtkXDBe"
      }
    },
    {
      "cell_type": "markdown",
      "source": [
        "## **1.5  - Gráfico de barras**\n",
        "\n",
        "---\n",
        "\n",
        "\n",
        "\n"
      ],
      "metadata": {
        "id": "o-h-SNCNejTH"
      }
    },
    {
      "cell_type": "markdown",
      "source": [
        "### **Pergunta 2 -** Qual é o top 7 produtos que mais apresentaram lucros em nosso catálogo durante o período representado?"
      ],
      "metadata": {
        "id": "TJ-JnYYsGMMz"
      }
    },
    {
      "cell_type": "markdown",
      "source": [
        "#### Tratando os dados para gerar a visualização"
      ],
      "metadata": {
        "id": "WI6f6ehgGMM4"
      }
    },
    {
      "cell_type": "code",
      "source": [
        "# Criando um df com os dados desejados\n",
        "top_lucro = vendas.copy()\n",
        "\n",
        "top_lucro = top_lucro[['tipo_produto','lucro']]\n",
        "top_lucro = top_lucro.groupby(['tipo_produto']).aggregate(\"sum\").sort_values('lucro', ascending = False)\n",
        "top_7 = top_lucro[:7]\n",
        "\n",
        "top_7"
      ],
      "metadata": {
        "id": "-8ZxHixDGMM5"
      },
      "execution_count": null,
      "outputs": []
    },
    {
      "cell_type": "markdown",
      "source": [
        "#### Gerando o gráfico"
      ],
      "metadata": {
        "id": "ibvPGfwBGMM5"
      }
    },
    {
      "cell_type": "code",
      "source": [
        "## Gerando a função para criar o gráfico de barras\n",
        "\n",
        "def grafico_top_7():\n",
        "  # Importando as bibliotecas\n",
        "  import matplotlib.pyplot as plt\n",
        "  import seaborn as sns\n",
        "\n",
        "  # Área do gráfico e tema da visualização\n",
        "  fig, ax = plt.subplots(figsize=(10,4))\n",
        "  fig.subplots_adjust(right=0.7)\n",
        "  sns.set_theme(style=\"white\")\n",
        "\n",
        "  # Definindo as cores do gráfico\n",
        "  cores = [AZUL2, AZUL2, AZUL2, VERDE1, VERDE1, CINZA3, VERDE1]\n",
        "\n",
        "  # Gerando o gráfico de colunas\n",
        "  ax = sns.barplot(data=top_7, x='lucro', y = top_7.index, palette = cores)\n",
        "\n",
        "  ## Personalizando o gráfico\n",
        "  ax.set_title('Top 7 produtos com maior lucro no catálogo (2016-2019)\\n', fontsize=18, color=CINZA1, loc='left')\n",
        "  ax.set_xlabel('')\n",
        "  ax.set_ylabel('')\n",
        "  ax.set_xticklabels([])\n",
        "  ax.yaxis.set_tick_params(labelsize=10, labelcolor = CINZA2)\n",
        "  sns.despine(left = True, bottom = True)\n",
        "\n",
        "  # Escrevendo os valores de cada barra no gráfico\n",
        "  for i, valor in enumerate(top_7['lucro']):\n",
        "      qtd = f'R$ {valor:,.0f}'.replace(',','.')\n",
        "      offset = 1e3  # offset de 1.000\n",
        "      ax.text(valor - offset, i, qtd, color= CINZA5, fontsize=10, fontweight='bold', ha='right', va='center')\n",
        "\n",
        "  return ax\n",
        "\n",
        "ax = grafico_top_7()"
      ],
      "metadata": {
        "id": "hV6ZxoDlm2w0"
      },
      "execution_count": null,
      "outputs": []
    },
    {
      "cell_type": "markdown",
      "source": [
        "## **Adicionando texto com destaques**\n",
        "\n",
        "---\n",
        "\n",
        "\n"
      ],
      "metadata": {
        "id": "PDPTH1XMnCQK"
      }
    },
    {
      "cell_type": "markdown",
      "source": [
        "Criando uma função para escrita de texto utilizando diferentes cores.\n",
        "\n",
        "> Não existe uma função nativa para isso. (Adaptado de https://github.com/empathy87/storytelling-with-data)\n",
        "\n"
      ],
      "metadata": {
        "id": "DtAwXsTzoirv"
      }
    },
    {
      "cell_type": "code",
      "source": [
        "from matplotlib import transforms\n",
        "\n",
        "def texto_colorido(x, y, texto, cores, esp=20, ax=None, **kw):\n",
        "    cores = list(reversed(cores))\n",
        "    t = ax.transData\n",
        "    canvas = ax.figure.canvas\n",
        "\n",
        "    for i, linha in enumerate(reversed(texto.split('\\n'))):\n",
        "        frases = linha.split('||')\n",
        "        for s, cor in zip(frases, cores[i]):\n",
        "            texto = ax.text(x, y, s, color=cor, transform=t, **kw)\n",
        "            texto.draw(canvas.get_renderer())\n",
        "            ex = texto.get_window_extent()\n",
        "            t = transforms.offset_copy(texto._transform, x=ex.width,\n",
        "                                       units='dots')\n",
        "\n",
        "        t = transforms.offset_copy(ax.transData, x=0, y=(i + 1) * esp, units='dots')"
      ],
      "metadata": {
        "id": "HQcEvuEOm2wu"
      },
      "execution_count": null,
      "outputs": []
    },
    {
      "cell_type": "markdown",
      "source": [
        "#### Gerando o gráfico"
      ],
      "metadata": {
        "id": "-tKaP-mKp4E5"
      }
    },
    {
      "cell_type": "code",
      "source": [
        "## Configurando o gráfico com parâmetros que potencializam a visualização dos dados\n",
        "\n",
        "# Chamando a função do gráfico de barras\n",
        "ax = grafico_top_7()\n",
        "\n",
        "# Anotando uma conclusão no gráfico\n",
        "texto_colorido(\n",
        "    9.2e4, 2.9,                                                        # coordenadas\n",
        "    'Os dados indicam que os 3 produtos que geram\\n'                    # texto\n",
        "    '$\\\\bf{maior\\ lucro}$|| são do departamento ||$\\\\bf{Automotivo}$.\\n'\n",
        "    '\\n'\n",
        "    'Podemos notar também que o departamento de\\n'\n",
        "    '$\\\\bf{Jardinagem\\ e\\ paisagismo}$|| possui 3 produtos com\\n'\n",
        "    'uma boa margem de lucro, sendo que um deles está\\n'\n",
        "    'abaixo de ||$\\\\bf{50\\ mil\\ reais}$|| no período mencionado.',\n",
        "    [[CINZA2],                        # linha 1                          # cores\n",
        "     [CINZA1, CINZA2, AZUL2],         # linha 2\n",
        "     [CINZA2],                        # linha 3\n",
        "     [CINZA2],                        # linha 4\n",
        "     [VERDE1, CINZA2],                # linha 5\n",
        "     [CINZA2],                        # linha 5\n",
        "     [CINZA2, CINZA1, CINZA2]        # linha 7\n",
        "    ],\n",
        "    esp=22, # espaçamento\n",
        "    ax=ax, # figura onde desenhar o texto\n",
        "    fontsize=10)\n",
        "\n",
        "fig = ax.get_figure()"
      ],
      "metadata": {
        "id": "XdFVO61aGMM5"
      },
      "execution_count": null,
      "outputs": []
    },
    {
      "cell_type": "markdown",
      "source": [
        "<font color=green size=4> Conclusões: </font>\n",
        "\n",
        "---\n",
        "\n",
        "Um gráfico de barras é ideal para compararmos valores com muitos itens (acima de 5), principalmente se os itens forem pequenas frases ou palavras. Utilizamos aqui o recurso de divisão de categorias por cor, além do destaque dessas no texto, orientando o público sobre qual dados em específico estamos explorando.\n",
        "\n",
        "Como sugestão, podemos testar essa técnica também com outros valores em nossa base de dados como, por exemplo, o faturamento em um dado período ou em relação ao departamento e/ou região que você preferir analisar."
      ],
      "metadata": {
        "id": "K_r5Hsc5GMM6"
      }
    },
    {
      "cell_type": "markdown",
      "source": [
        "# **Aula 2 - Agrupando dados**"
      ],
      "metadata": {
        "id": "jHqFqkNpsRqM"
      }
    },
    {
      "cell_type": "markdown",
      "source": [
        "<img src=\"https://github.com/afonsosr2/dataviz-graficos/blob/b86ed16b3652d0226512a1ecf74d044d197723d8/imagens/Tipos_Graficos/Gr%C3%A1fico%20(comparando%20e%20agrupando%20dados).png?raw=true\" alt=\"inserir alt\" height=\"343\">\n",
        "\n",
        "\n",
        "<font size=2>Fonte: Andrew Abela (Extreme Presentation/Biuwer)</font>\n"
      ],
      "metadata": {
        "id": "tLLaxZYpsq_j"
      }
    },
    {
      "cell_type": "markdown",
      "source": [
        "## **2.1 - Gráfico de colunas empilhadas**\n",
        "\n",
        "---\n",
        "\n"
      ],
      "metadata": {
        "id": "N6tv_s2QsamF"
      }
    },
    {
      "cell_type": "markdown",
      "source": [
        "### **Pergunta 3 -** Se separarmos o total de vendas por ano por região? O que conseguimos observar em nossos dados?"
      ],
      "metadata": {
        "id": "Yh0BtbNVRIk9"
      }
    },
    {
      "cell_type": "markdown",
      "source": [
        "#### Tratando os dados para gerar a visualização"
      ],
      "metadata": {
        "id": "ne-lgc1zRIlO"
      }
    },
    {
      "cell_type": "code",
      "source": [
        "# Criando um df com os dados desejados\n",
        "df_vendas_reg = vendas.copy()\n",
        "df_vendas_reg = df_vendas_reg[['data_pedido','regiao', 'vendas']]\n",
        "\n",
        "# Gerando uma coluna que represente apenas os anos puxando-os da coluna data pedido\n",
        "df_vendas_reg['ano'] = df_vendas_reg.data_pedido.dt.year\n",
        "df_vendas_reg.drop(labels = \"data_pedido\", axis = 1, inplace = True)\n",
        "\n",
        "df_vendas_reg"
      ],
      "metadata": {
        "id": "bt9DbcglRIlO"
      },
      "execution_count": null,
      "outputs": []
    },
    {
      "cell_type": "code",
      "source": [
        "# Criando uma tabela cruzada (crosstab) com os valores de venda de cada ano por região\n",
        "vendas_reg = pd.crosstab(index = df_vendas_reg.ano, columns = df_vendas_reg.regiao, values = df_vendas_reg.vendas, aggfunc=\"sum\")\n",
        "\n",
        "# Ajustando a tabela em ordem descrescente dos estados que mais executam vendas\n",
        "vendas_reg = vendas_reg[[\"Sudeste\", \"Nordeste\", \"Centro-Oeste\", \"Norte\", \"Sul\"]]\n",
        "vendas_reg"
      ],
      "metadata": {
        "id": "79kcFoWkfVIB"
      },
      "execution_count": null,
      "outputs": []
    },
    {
      "cell_type": "markdown",
      "source": [
        "#### Gerando o gráfico"
      ],
      "metadata": {
        "id": "PRIqzUHoRIlP"
      }
    },
    {
      "cell_type": "code",
      "source": [
        "## Gerando a função para criar o gráfico de barras\n",
        "\n",
        "def grafico_vendas_regiao():\n",
        "  # Definindo as cores do gráfico\n",
        "  cores = [AZUL2, AZUL3, AZUL4, CINZA3, CINZA4]\n",
        "\n",
        "  # Gerando o gráfico de colunas empilhadas\n",
        "  ax = vendas_reg.plot(kind='bar', stacked = True, figsize= (15, 8), color = cores)\n",
        "\n",
        "  # Personalizando o gráfico\n",
        "  ax.set_title('Vendas das lojas de departamentos por região\\nde 2016 a 2019', loc='left', fontsize=22, color = CINZA1)\n",
        "  ax.set_xlabel('')\n",
        "  ax.set_ylabel('')\n",
        "  ax.set_yticklabels([])\n",
        "  ax.xaxis.set_tick_params(labelsize=14, labelcolor = CINZA2, rotation = 0)\n",
        "  ax.set_frame_on(False)\n",
        "\n",
        "  # remover todos os ticks do eixo x e y\n",
        "  ax.tick_params(axis='both', which='both', length=0)\n",
        "\n",
        "  # Anotando uma conclusão no gráfico\n",
        "  ax.text(3.35, 1e6, '87%', fontweight='bold', fontsize=20, color=AZUL1)\n",
        "  ax.text(3.35, 5.5e5,\n",
        "          'das vendas nas lojas\\n'\n",
        "          'estão concentradas nas regiões\\n'\n",
        "          '$\\\\bf{Sudeste}$, $\\\\bf{Nordeste}$ e\\n'\n",
        "          '$\\\\bf{Centro-Oeste}$ em 2019.',\n",
        "          fontsize=14,\n",
        "          linespacing=1.45,\n",
        "          color=AZUL1)\n",
        "\n",
        "  return ax\n",
        "\n",
        "ax = grafico_vendas_regiao()"
      ],
      "metadata": {
        "id": "z_9iKlj4RIlP"
      },
      "execution_count": null,
      "outputs": []
    },
    {
      "cell_type": "markdown",
      "source": [
        "## **2.2 - Bar label e legenda**\n",
        "\n",
        "---\n",
        "\n"
      ],
      "metadata": {
        "id": "CS3Gw19q20ZB"
      }
    },
    {
      "cell_type": "code",
      "source": [
        "## Configurando o gráfico com parâmetros que potencializam a visualização dos dados\n",
        "\n",
        "# Chamando a função do gráfico de barras\n",
        "ax = grafico_vendas_regiao()\n",
        "\n",
        "# Personalizando a legenda\n",
        "ax.legend(bbox_to_anchor=(1, 1), title='Região', reverse=True, title_fontsize  = 12, fontsize = 12)\n",
        "\n",
        "# Adicionando os valores\n",
        "for container in ax.containers:\n",
        "    labels = [f'R$ {valor.get_height()/1000:,.0f}k'.replace(',','.') for valor in container]\n",
        "    ax.bar_label(container, label_type='center', labels = labels, size = 10, color = CINZA5, fontweight = 'bold')\n",
        "\n",
        "ax.axvline(3.3, ymin=0.0, ymax=0.83, color=AZUL1, linewidth=1.2)\n",
        "\n",
        "fig = ax.get_figure()"
      ],
      "metadata": {
        "id": "9TyLzlNC2r6v"
      },
      "execution_count": null,
      "outputs": []
    },
    {
      "cell_type": "markdown",
      "source": [
        "<font color=green size=4> Conclusões: </font>\n",
        "\n",
        "---\n",
        "\n",
        "Diferentemente de um gráfico de colunas simples, o gráfico de colunas empilhadas adiciona à comparação entre períodos ou categorias a comparação também entre os dados de cada período/categoria. É como se colocássemos uma \"lupa\" em cada coluna e vizualizássemos a composição de cada uma delas de acordo com a variável desejada (no nosso exemplo as regiões). Utilizamos aqui o recurso da legenda para divisão das regiões e os valores de cada coluna para comparação entre si\n",
        "\n",
        "Como sugestão, podemos testar essa técnica também com outros valores em nossa base de dados como, por exemplo, o lucro anual ou o faturamento em vendas por estados de uma mesma região que você preferir analisar."
      ],
      "metadata": {
        "id": "7ZfnaWSZRIlQ"
      }
    },
    {
      "cell_type": "markdown",
      "source": [
        "## **2.3 - Gráfico de barras empilhadas**\n",
        "\n",
        "---\n",
        "\n",
        "\n",
        "\n"
      ],
      "metadata": {
        "id": "eQlK9345-Ywv"
      }
    },
    {
      "cell_type": "markdown",
      "source": [
        "### **Pergunta 4 -** Qual o modo de envio mais utilizado pelos clientes da loja? É proporcional para B2B e B2C?"
      ],
      "metadata": {
        "id": "lmtvImYyEVyc"
      }
    },
    {
      "cell_type": "markdown",
      "source": [
        "#### Tratando os dados para gerar a visualização"
      ],
      "metadata": {
        "id": "i7h-azlhEVyi"
      }
    },
    {
      "cell_type": "code",
      "source": [
        "# Criando um df com os dados desejados\n",
        "df_envio = vendas.copy()\n",
        "df_envio = df_envio[['modo_envio', 'segmento_cliente']]\n",
        "\n",
        "# Criando uma tabela cruzada (crosstab) com os modos de envio divididos pelos clientes B2C e B2B\n",
        "df_envio_seg = pd.crosstab(index = df_envio.modo_envio, columns = df_envio.segmento_cliente).sort_values(\"B2B\")\n",
        "\n",
        "df_envio_seg"
      ],
      "metadata": {
        "id": "tqccIL-XEVyi"
      },
      "execution_count": null,
      "outputs": []
    },
    {
      "cell_type": "code",
      "source": [
        "# Criando uma tabela cruzada (crosstab) com os modos de envio divididos pelos clientes B2C e B2B nomarlizado\n",
        "df_envio_normalizado = pd.crosstab(index = df_envio.modo_envio, columns = df_envio.segmento_cliente, normalize = \"index\")\n",
        "\n",
        "df_envio_normalizado"
      ],
      "metadata": {
        "id": "ehCWQfSrRLa3"
      },
      "execution_count": null,
      "outputs": []
    },
    {
      "cell_type": "markdown",
      "source": [
        "#### Gerando o gráfico"
      ],
      "metadata": {
        "id": "nL4W3JaWEVyi"
      }
    },
    {
      "cell_type": "code",
      "source": [
        "# Função para escrita de texto utilizando diferentes cores. Não existe uma\n",
        "# função nativa para isso. (Adaptado de https://github.com/empathy87/storytelling-with-data)\n",
        "from matplotlib import transforms\n",
        "\n",
        "def texto_colorido(x, y, texto, cores, esp=20, ax=None, **kw):\n",
        "    cores = list(reversed(cores))\n",
        "    t = ax.transData\n",
        "    canvas = ax.figure.canvas\n",
        "\n",
        "    for i, linha in enumerate(reversed(texto.split('\\n'))):\n",
        "        frases = linha.split('||')\n",
        "        for s, cor in zip(frases, cores[i]):\n",
        "            texto = ax.text(x, y, s, color=cor, transform=t, **kw)\n",
        "            texto.draw(canvas.get_renderer())\n",
        "            ex = texto.get_window_extent()\n",
        "            t = transforms.offset_copy(texto._transform, x=ex.width,\n",
        "                                       units='dots')\n",
        "\n",
        "        t = transforms.offset_copy(ax.transData, x=0, y=(i + 1) * esp, units='dots')"
      ],
      "metadata": {
        "id": "tAyjAuyTfXnp"
      },
      "execution_count": null,
      "outputs": []
    },
    {
      "cell_type": "code",
      "source": [
        "## Configurando o gráfico com parâmetros que potencializam a visualização dos dados\n",
        "\n",
        "# Importando as bibliotecas\n",
        "import matplotlib.pyplot as plt\n",
        "\n",
        "# Área do gráfico e tema da visualização\n",
        "fig, axs = plt.subplots(1, 2, figsize=(15,6), sharey = True)\n",
        "\n",
        "# Definindo as cores do gráfico\n",
        "cores = [AZUL2, AZUL5]\n",
        "\n",
        "# GRÁFICO 1 - Barras empilhadas\n",
        "\n",
        "axs[0].barh(df_envio_seg.index, df_envio_seg[\"B2B\"], color = cores[0])\n",
        "axs[0].barh(df_envio_seg.index, df_envio_seg[\"B2C\"], left = df_envio_seg[\"B2B\"], color = cores[1])\n",
        "axs[0].set_title('Em valores absolutos\\n', color = CINZA2)\n",
        "axs[0].set_xlabel('')\n",
        "axs[0].set_ylabel('')\n",
        "axs[0].set_xticklabels([])\n",
        "axs[0].yaxis.set_tick_params(labelsize=14, color = CINZA2)\n",
        "axs[0].set_frame_on(False)\n",
        "\n",
        "# remover todos os ticks do eixo x e y\n",
        "axs[0].tick_params(axis='both', which='both', length=0)\n",
        "\n",
        "texto_colorido(0, 3.5, '$\\\\bf{B2B}$ | || $\\\\bf{B2C}$', cores = [cores], ax=axs[0], fontsize=12) # legenda\n",
        "\n",
        "#######################################\n",
        "\n",
        "# GRÁFICO 2 - Barras empilhadas 100 %\n",
        "\n",
        "axs[1].barh(df_envio_normalizado.index, df_envio_normalizado[\"B2B\"], color = cores[0])\n",
        "axs[1].barh(df_envio_normalizado.index, df_envio_normalizado[\"B2C\"], left = df_envio_normalizado[\"B2B\"], color = cores[1])\n",
        "axs[1].set_title('Em porcentagem\\n', color = CINZA2)\n",
        "axs[1].set_xlabel('100%', color = CINZA2, size = 14, loc='right')\n",
        "axs[1].set_ylabel('')\n",
        "axs[1].set_xticklabels([])\n",
        "axs[1].set_frame_on(False)\n",
        "\n",
        "# remover todos os ticks do eixo x e y\n",
        "axs[1].tick_params(axis='both', which='both', length=0)\n",
        "\n",
        "texto_colorido(0, 3.5, '$\\\\bf{B2B}$ | || $\\\\bf{B2C}$', cores = [cores], ax=axs[1], fontsize=12) # legenda\n",
        "\n",
        "#######################################\n",
        "\n",
        "# Título dos gráficos\n",
        "fig.suptitle(\"Modo de envio mais utilizado pelos clientes B2B/B2C (2016-2019)\\n\",\n",
        "             fontsize=18, color=CINZA1, ha = 'right', x = 0.55, y = 1.05)\n",
        "\n",
        "# Valores das barras\n",
        "for container in axs[0].containers:\n",
        "    labels = [str(valor.get_width()) if valor.get_width() > 300 else '' for valor in container]\n",
        "    axs[0].bar_label(container, label_type='center', labels = labels, size = 12, color = CINZA5, fontweight='bold')\n",
        "\n",
        "for container in axs[1].containers:\n",
        "    labels = [f'{valor.get_width()*100:.1f}%' for valor in container]\n",
        "    axs[1].bar_label(container, label_type='center', labels = labels, size = 12, color = CINZA5, fontweight='bold')\n",
        "\n",
        "fig.show()"
      ],
      "metadata": {
        "id": "_WiAez5LEVyj"
      },
      "execution_count": null,
      "outputs": []
    },
    {
      "cell_type": "markdown",
      "source": [
        "<font color=green size=4> Conclusões: </font>\n",
        "\n",
        "---\n",
        "O gráfico de barras empilhadas se assemelha ao gráfico de colunas na aplicação. Neste exemplo, apresentamos dois tipos de gráficos de barras empilhadas: o 1º focando nas diferenças absolutas (entre barras) e relativas (na mesma barra) dos dados e o 2º focando apenas nas diferenças relativas entre os dados.\n",
        "\n",
        "Como sugestão, podemos testar essa técnica verificando o comportamento em cada ano ou com outros valores em nossa base de dados como, por exemplo, entre os tipos de produto e modos de entrega."
      ],
      "metadata": {
        "id": "e6iExl0rEVyj"
      }
    },
    {
      "cell_type": "markdown",
      "source": [
        "# **Aula 3 - Séries de tempo**"
      ],
      "metadata": {
        "id": "5NvxSVNjAmb2"
      }
    },
    {
      "cell_type": "markdown",
      "source": [
        "<img src=\"https://github.com/afonsosr2/dataviz-graficos/blob/b86ed16b3652d0226512a1ecf74d044d197723d8/imagens/Tipos_Graficos/Gr%C3%A1fico%20(s%C3%A9ries%20de%20tempo).png?raw=true\" alt=\"inserir alt\" height=\"343\">\n",
        "\n",
        "<font size=2>Fonte: Andrew Abela (Extreme Presentation/Biuwer)</font>\n"
      ],
      "metadata": {
        "id": "ROb8IYUGTeDJ"
      }
    },
    {
      "cell_type": "markdown",
      "source": [
        "## **3.1 Gráfico de linha simples**\n",
        "\n",
        "---\n",
        "\n"
      ],
      "metadata": {
        "id": "1r_0T0wg6ByW"
      }
    },
    {
      "cell_type": "markdown",
      "source": [
        "### **Pergunta 5 -** Qual o total de vendas por trimestre do estado de São Paulo?"
      ],
      "metadata": {
        "id": "pKE9RgAlzeoR"
      }
    },
    {
      "cell_type": "markdown",
      "source": [
        "#### Tratando os dados para gerar a visualização"
      ],
      "metadata": {
        "id": "h7eQ1KAFzeon"
      }
    },
    {
      "cell_type": "code",
      "source": [
        "# Criando um df com os dados desejados\n",
        "df_sp = vendas.copy()\n",
        "df_sp = df_sp.query('estado == \"São Paulo\"')[[\"data_pedido\", \"vendas\"]]\n",
        "\n",
        "# Agrupando as vendas por trimestre e arredondando valores para milhares\n",
        "df_sp.set_index(\"data_pedido\", inplace =True)\n",
        "df_sp = df_sp.resample('Q').agg('sum')\n",
        "df_sp[\"vendas\"] = round(df_sp[\"vendas\"] / 1e3 , 2)\n",
        "df_sp = df_sp.reset_index()\n",
        "df_sp"
      ],
      "metadata": {
        "id": "topLDuXHzeoo"
      },
      "execution_count": null,
      "outputs": []
    },
    {
      "cell_type": "markdown",
      "source": [
        "#### Gerando o gráfico"
      ],
      "metadata": {
        "id": "MnA9gQ7xzeoq"
      }
    },
    {
      "cell_type": "code",
      "source": [
        "## Gerando a função para o gráfico de linha\n",
        "\n",
        "def grafico_vendas_sp_tri():\n",
        "  # Importando as bibliotecas\n",
        "  import matplotlib.pyplot as plt\n",
        "\n",
        "  # Área do gráfico e tema da visualização\n",
        "  fig, ax = plt.subplots(figsize=(14,4))\n",
        "\n",
        "  # Gráfico de linha\n",
        "  pontos_a_marcar = [True if mes == 12 else False for mes in df_sp[\"data_pedido\"].dt.month]\n",
        "\n",
        "  ax.plot(df_sp[\"data_pedido\"], df_sp[\"vendas\"], lw=3, color = AZUL5, marker =\"o\",\n",
        "          markersize = 10, markerfacecolor = AZUL2, markevery = pontos_a_marcar)\n",
        "\n",
        "  ## Personalizando o gráfico\n",
        "  ax.set_title('Vendas por trimestre no estado de São Paulo', fontsize = 18, color = CINZA1, loc='left')\n",
        "  ax.text(0.3, 0.95, \"De 2016 a 2019 (em milhares de reais)\", transform=ax.transAxes, color= CINZA2, fontsize=12, ha='right', va='center')\n",
        "  ax.set_xlabel('')\n",
        "  ax.set_ylabel('')\n",
        "  ax.set_yticklabels([])\n",
        "  ax.set_frame_on(False)\n",
        "  ax.xaxis.set_tick_params(labelsize=14, labelcolor = CINZA2)\n",
        "\n",
        "  # remover todos os ticks do eixo x e y\n",
        "  ax.tick_params(axis='both', which='both', length=0)\n",
        "\n",
        "  ## Ajustes no eixo y\n",
        "  # Descrevendo o limite mínimo e máximo do eixo y\n",
        "  plt.ylim(0, 400)\n",
        "\n",
        "  return ax\n",
        "\n",
        "ax = grafico_vendas_sp_tri()"
      ],
      "metadata": {
        "id": "qRrgpl4rzeor"
      },
      "execution_count": null,
      "outputs": []
    },
    {
      "cell_type": "markdown",
      "source": [
        "## **3.2 Definindo intervalos de tempo**\n",
        "\n",
        "---\n",
        "\n"
      ],
      "metadata": {
        "id": "wHp3YFLcg_Sh"
      }
    },
    {
      "cell_type": "code",
      "source": [
        "## Configurando o gráfico com parâmetros que potencializam a visualização dos dados\n",
        "\n",
        "# Importando as bibliotecas\n",
        "import matplotlib.dates as mdates\n",
        "\n",
        "# Chamando a função que gera o gráfico de linha\n",
        "ax = grafico_vendas_sp_tri()\n",
        "\n",
        "## Ajustes no eixo x\n",
        "# Definindo o intervalo em trimestres e colocando os nomes dos meses nos labels\n",
        "ax.xaxis.set_major_locator(mdates.MonthLocator(interval=3))\n",
        "ax.xaxis.set_major_formatter(mdates.DateFormatter('%b'))\n",
        "x_labels = [\"Mar\", \"Jun\", \"Set\", \"Dez\"] * 4 # traduzindo os labels do eixo X\n",
        "ax.set_xticks(df_sp.data_pedido)\n",
        "ax.set_xticklabels(x_labels, ha=\"center\")\n",
        "\n",
        "# Ajustando o eixo x colocando um nível acima de granularidade por meio da exibição do ano\n",
        "texto = [16*\" \" + str(i) + 16*\" \" for i in range(2016, 2020)]\n",
        "ax.text(ax.get_xbound()[0] + 35, - 80, f'|{texto[0]}|{texto[1]}|{texto[2]}|{texto[3]}|', fontsize=14, color=CINZA2)\n",
        "\n",
        "# Destacando os valores do 4º trimestre\n",
        "ano = 0\n",
        "for i in range(3, len(df_sp[\"vendas\"]), 4):\n",
        "  ax.text(x = ax.get_xticks()[i], y = df_sp[\"vendas\"][i] + 20, s = f\"R$ {df_sp['vendas'][i]} mil\", color = AZUL2, weight = \"bold\", fontsize = 10)\n",
        "  ax.text(x = ax.get_xticks()[i] + 160, y = df_sp[\"vendas\"][i] + 20, s = f\"(4º Tri {2016 + ano})\", color = CINZA2, weight = \"bold\", fontsize = 10)\n",
        "  ano +=1\n",
        "\n",
        "fig = ax.get_figure()"
      ],
      "metadata": {
        "id": "m_Dt4Hv3UJbY"
      },
      "execution_count": null,
      "outputs": []
    },
    {
      "cell_type": "markdown",
      "source": [
        "<font color=green size=4> Conclusões: </font>\n",
        "\n",
        "---\n",
        "\n",
        "Quando estamos visualizando dados com muitos períodos de tempo é ideal trabalharmos com gráficos de linha, pois elas representam bem essa progressão dos valores com o tempo. Aqui utilizamos outro recurso visual que é o de destaque dos pontos de interesse (4º trimestre de cada ano) apresentando a tendência do dado nesse período específico de tempo.\n",
        "\n",
        "Como sugestão, podemos testar essa técnica também com outros valores em nossa base de dados como, por exemplo, as vendas no seu estado de interesse ou que você mora, ou até em intervalos de tempo diferentes: por mês, semestre, etc."
      ],
      "metadata": {
        "id": "yi4mXqvQzeos"
      }
    },
    {
      "cell_type": "markdown",
      "source": [
        "# **3.3 - Gráfico de linhas**\n",
        "\n",
        "---\n",
        "\n"
      ],
      "metadata": {
        "id": "NrslRmfihO__"
      }
    },
    {
      "cell_type": "markdown",
      "source": [
        "### **Pergunta 6 -** Qual o faturamento por trimestre em cada região?"
      ],
      "metadata": {
        "id": "_ubWJruVc4NY"
      }
    },
    {
      "cell_type": "markdown",
      "source": [
        "#### Tratando os dados para gerar a visualização"
      ],
      "metadata": {
        "id": "54Lj3KS6c4Nc"
      }
    },
    {
      "cell_type": "code",
      "source": [
        "# Criando um df com os dados desejados\n",
        "df_regiao = vendas.copy()\n",
        "df_regiao = df_regiao[[\"regiao\", \"data_pedido\", \"vendas\"]]\n",
        "\n",
        "# Criando uma tabela cruzada (crosstab) com os valores de venda por dia por região\n",
        "df_regiao = pd.crosstab(index = df_regiao.data_pedido, columns = df_regiao.regiao, values = df_regiao.vendas, aggfunc=\"sum\")\n",
        "\n",
        "# Ajustando a tabela em ordem descrescente dos estados que mais executam vendas\n",
        "df_regiao = df_regiao[[\"Sudeste\", \"Nordeste\", \"Centro-Oeste\", \"Norte\", \"Sul\"]]\n",
        "df_regiao"
      ],
      "metadata": {
        "id": "ufVKlbxYc4Nd"
      },
      "execution_count": null,
      "outputs": []
    },
    {
      "cell_type": "code",
      "source": [
        "# Agrupando as vendas por trimestre\n",
        "df_regiao = df_regiao.resample('Q').agg('sum')\n",
        "df_regiao = round(df_regiao/1e3, 2)\n",
        "df_regiao"
      ],
      "metadata": {
        "id": "rQCkDOe9jmdF"
      },
      "execution_count": null,
      "outputs": []
    },
    {
      "cell_type": "markdown",
      "source": [
        "#### Gerando o gráfico"
      ],
      "metadata": {
        "id": "BKEOs7Dmc4Nd"
      }
    },
    {
      "cell_type": "code",
      "source": [
        "# Importando a biblioteca\n",
        "import plotly.express as px\n",
        "\n",
        "# Gerando um gráfico de linha com o faturamento da loja por trimestre dividido por região\n",
        "fig = px.line(df_regiao, x=df_regiao.index, y=df_regiao.columns, markers = True, labels={\"regiao\": \"Região\"},\n",
        "              color_discrete_sequence=[AZUL2, VERMELHO1, AMARELO1 , VERDE1, CINZA3])\n",
        "\n",
        "# Ajustando o layout do gráfico\n",
        "fig.update_layout(width=1300, height=600, font_family = 'DejaVu Sans', font_size=15,\n",
        "                  font_color= CINZA2, title_font_color= CINZA1, title_font_size=24,\n",
        "                  title_text='Faturamento da loja de departamentos por trimestre' +\n",
        "                             '<br><sup size=1 style=\"color:#555655\">De 2016 a 2019</sup>',\n",
        "                  xaxis_title='', yaxis_title='', plot_bgcolor= CINZA5)\n",
        "\n",
        "# Ajustando os ticks do eixo y para o formato em milhar\n",
        "fig.update_yaxes(tickprefix=\"R$ \", ticksuffix=\" mil\")\n",
        "\n",
        "# Ajustando o eixo x com os labels dos trimestres\n",
        "labels = ['T1<br>2016', 'T2<br>2016', 'T3<br>2016', 'T4<br>2016',\n",
        "          'T1<br>2017', 'T2<br>2017', 'T3<br>2017', 'T4<br>2017',\n",
        "          'T1<br>2018', 'T2<br>2018', 'T3<br>2018', 'T4<br>2018',\n",
        "          'T1<br>2019', 'T2<br>2019', 'T3<br>2019', 'T4<br>2019',]\n",
        "fig.update_xaxes(ticktext = labels, tickvals=df_regiao.index)\n",
        "\n",
        "fig.show()"
      ],
      "metadata": {
        "id": "aX6aTgYac4Nd"
      },
      "execution_count": null,
      "outputs": []
    },
    {
      "cell_type": "markdown",
      "source": [
        "# **3.4 - Personalizando o texto informativo (hover)**\n",
        "\n",
        "\n",
        "---\n",
        "\n"
      ],
      "metadata": {
        "id": "vlltqqeXiQ2m"
      }
    },
    {
      "cell_type": "code",
      "source": [
        "# Dados ao passar o mouse\n",
        "fig.update_traces(hovertemplate = \"<b>Período:</b> %{x} <br> <b>Faturamento:</b> %{y}\")\n",
        "fig.update_layout(hovermode=\"closest\")    # para exibir apenas do dado que passamos o mouse\n",
        "# fig.update_layout(hovermode=\"x\")          # para exibir todos os dados do período em cada linha\n",
        "# fig.update_layout(hovermode=\"x unified\")  # para exibir o resumo de todos os dados no período\n",
        "\n",
        "fig.show()"
      ],
      "metadata": {
        "id": "CHlMxVHtiJ1R"
      },
      "execution_count": null,
      "outputs": []
    },
    {
      "cell_type": "markdown",
      "source": [
        "<font color=green size=4> Conclusões: </font>\n",
        "\n",
        "---\n",
        "\n",
        "O ponto mais interessante nesse gráfico, gerado pelo plotly, é a seleção de dados de interesse, comparando diferentes regiões. É ideal não possuir muitas linhas para representação dos dados, para evitar uma dificuldade na análise das variáveis de interesse. Esse gráfico dinâmico também possibilita verificar os dados de interesse passando o mouse por cima do ponto desejado, o que evita a necessidade de escrita de cada valor nos pontos.\n",
        "\n",
        "Como sugestão, podemos testar essa técnica também com outros valores em nossa base de dados como, por exemplo, as vendas por estado em uma dada região, ou até em intervalos de tempo diferentes: por semestre e ano."
      ],
      "metadata": {
        "id": "_uIMl0NHc4Nd"
      }
    },
    {
      "cell_type": "markdown",
      "source": [
        "# **Aula 4 - Distribuindo dados**\n",
        "\n",
        "\n"
      ],
      "metadata": {
        "id": "GP5WxJh8AP7U"
      }
    },
    {
      "cell_type": "markdown",
      "source": [
        "### **Situação-problema 2**\n",
        "Uma fábrica de produtos de higiene e limpeza seleciona amostras de seus produtos fabricados regularmente e documenta o volume e as dimensões de seus produtos para que estejam dentro dos critérios de qualidade. Você como cientista de dados recebeu algumas amostras para analisar e descrever algumas métricas (média e mediana, por exemplo) das amostras utilizando gráficos para facilitar a compreensão desses valores.\n",
        "\n",
        "Nas próximas duas aulas, vamos trabalhar com duas bases de dados, sendo:\n",
        "1. Volumes de um amaciante de 1L em um total de 1000 amostras medidas.\n",
        "2. Medidas de altura, comprimento e largura de uma caixa de sabão em pó em um total de 1000 amostras medidas."
      ],
      "metadata": {
        "id": "SRUYr8PaAP7Z"
      }
    },
    {
      "cell_type": "markdown",
      "source": [
        "\n",
        "#### **Base de dados 1 - Amostra dos volumes do amaciante**"
      ],
      "metadata": {
        "id": "jSffEwr1FPAC"
      }
    },
    {
      "cell_type": "code",
      "source": [
        "import pandas as pd"
      ],
      "metadata": {
        "id": "uf0_yYaOAP7a"
      },
      "execution_count": null,
      "outputs": []
    },
    {
      "cell_type": "code",
      "source": [
        "# Importando a base de dados dos volumes de um amaciante em 1000 amostras realizadas\n",
        "vol_amaciante = pd.read_csv(\"https://raw.githubusercontent.com/afonsosr2/dataviz-graficos/master/dados/volume_amaciante.csv\")\n",
        "\n",
        "vol_amaciante.head()"
      ],
      "metadata": {
        "id": "2aimPHe6AP7a"
      },
      "execution_count": null,
      "outputs": []
    },
    {
      "cell_type": "code",
      "source": [
        "# Verificando a estatística descritiva das amostras de volume em forma de tabela\n",
        "vol_amaciante.describe()"
      ],
      "metadata": {
        "id": "hptB2KscAP7a"
      },
      "execution_count": null,
      "outputs": []
    },
    {
      "cell_type": "markdown",
      "source": [
        "Após visualizarmos de maneira rápida os dados que possuímos, vamos partir para as análises que podemos fazer com esses dados e quais os gráficos de distribuição vamos utilizar a fim de apresentar esse tipo de informação.\n",
        "\n",
        "### **Questionamentos**\n",
        "\n",
        "1.   Como estão distribuídos os dados dos volumes da amostra do amaciante? Qual seria seu valor central (média e mediana)\n",
        "\n",
        "2.   Como estão distribuídos os dados dos volumes do amaciante de acordo com a mediana e os quartis? Possuo dados discrepantes?\n",
        "\n",
        "\n",
        "\n"
      ],
      "metadata": {
        "id": "ssZbZe4zAP7a"
      }
    },
    {
      "cell_type": "markdown",
      "source": [
        "## **4.1 - Histograma**\n",
        "\n",
        "---\n",
        "\n"
      ],
      "metadata": {
        "id": "UhtlebbKBFjp"
      }
    },
    {
      "cell_type": "markdown",
      "source": [
        "<img src=\"https://github.com/afonsosr2/dataviz-graficos/blob/3853c7870952376102f2dd09593ef2965c19318c/imagens/Tipos_Graficos/Gr%C3%A1ficos%20de%20distribui%C3%A7%C3%A3o%20(distribuindo%20dados).png?raw=true\" alt=\"inserir alt\" height=\"343\">\n",
        "\n",
        "\n",
        "<font size=2>Fonte: Andrew Abela (Extreme Presentation/Biuwer)</font>\n"
      ],
      "metadata": {
        "id": "YiioTkl4jjng"
      }
    },
    {
      "cell_type": "markdown",
      "source": [
        "### **Pergunta 1 -** Como estão distribuídos os dados dos volumes da amostra do amaciante? Qual seria seu valor central (média e mediana)?"
      ],
      "metadata": {
        "id": "TgJynN1NAP7a"
      }
    },
    {
      "cell_type": "markdown",
      "source": [
        "#### Gerando o gráfico"
      ],
      "metadata": {
        "id": "xv3kTMF9AP7a"
      }
    },
    {
      "cell_type": "code",
      "source": [
        "## Configurando o gráfico com parâmetros que potencializam a visualização dos dados\n",
        "\n",
        "# Importando as bibliotecas\n",
        "import matplotlib.pyplot as plt\n",
        "import seaborn as sns\n",
        "\n",
        "# Área do gráfico e tema da visualização\n",
        "fig, ax = plt.subplots(figsize=(12,4))\n",
        "sns.set_theme(style=\"white\")\n",
        "\n",
        "# Gerando o histograma sem estimativa de densidade\n",
        "ax = sns.histplot(data=vol_amaciante, x = \"Volume\", binwidth = 0.1, color = AZUL2)  # ajustando o intervalo pelo largura dos bins\n",
        "# ax = sns.histplot(data=vol_amaciante, x = \"Volume\", bins = 30, color = AZUL2)  # ajustando o intervalo pelo quantidade de bins\n",
        "\n",
        "# # Personalizando o gráfico\n",
        "plt.suptitle('Distribuição dos volumes do amaciante', size=18, color=CINZA1, ha = 'right', x = 0.535, y = 1.05)\n",
        "plt.title('para uma amostra de 1000 unidades', fontsize=14, color=CINZA2, pad = 15, loc = \"left\")\n",
        "ax.set_xlabel('Volume (ml)', fontsize = 14)\n",
        "ax.set_ylabel('Quantidade', fontsize = 14)\n",
        "ax.yaxis.set_tick_params(labelsize=12, labelcolor = CINZA2)\n",
        "ax.xaxis.set_tick_params(labelsize=12, labelcolor = CINZA2)\n",
        "sns.despine()\n",
        "\n",
        "plt.show()"
      ],
      "metadata": {
        "id": "HDyCrEsUAP7a"
      },
      "execution_count": null,
      "outputs": []
    },
    {
      "cell_type": "markdown",
      "source": [
        "<font color=green size=4> Conclusões: </font>\n",
        "\n",
        "---\n",
        "\n",
        "O gráfico de histograma é ideal para quando queremos saber como uma amostra de dados ou população está distribuída. Como podemos observar, o número de intervalos ou a sua largura altera um pouco a visualização, mas não altera os valores centrais da sua distibuição de dados: média e mediana."
      ],
      "metadata": {
        "id": "izetzI6sv3eZ"
      }
    },
    {
      "cell_type": "markdown",
      "source": [
        "## **4.2 - Gráfico de densidade**\n",
        "\n",
        "---\n",
        "\n"
      ],
      "metadata": {
        "id": "xIZDl9S9vED2"
      }
    },
    {
      "cell_type": "code",
      "source": [
        "# Gerando a função que desenha a Densidade\n",
        "\n",
        "def grafico_densidade():\n",
        "  # Importando as bibliotecas\n",
        "  import matplotlib.pyplot as plt\n",
        "  import seaborn as sns\n",
        "\n",
        "  # Área do gráfico e tema da visualização\n",
        "  fig, ax = plt.subplots(figsize=(15,4))\n",
        "  sns.set_theme(style=\"white\")\n",
        "\n",
        "  # Gerando a curva de densidade\n",
        "  ax = sns.kdeplot(data=vol_amaciante, x = \"Volume\", color = AZUL3, lw = 0, fill = True)\n",
        "\n",
        "  # # Personalizando o gráfico\n",
        "  plt.suptitle('Distribuição dos volumes do amaciante (curva de densidade)', size=18, color=CINZA1, ha = 'right', x = 0.635, y = 1.05)\n",
        "  plt.title('para uma amostra de 1000 unidades', fontsize=14, color=CINZA2, pad = 15, loc = \"left\")\n",
        "  ax.set_xlabel('Volume', fontsize = 14)\n",
        "  ax.set_ylabel('Densidade', fontsize = 14)\n",
        "  ax.xaxis.set_tick_params(labelsize=12, labelcolor = CINZA2)\n",
        "  ax.yaxis.set_tick_params(labelsize=12, labelcolor = CINZA2)\n",
        "  ax.set_xlim(vol_amaciante.Volume.min(), vol_amaciante.Volume.max())\n",
        "  sns.despine(left = True, top = True)\n",
        "\n",
        "  return ax\n",
        "\n",
        "ax = grafico_densidade()"
      ],
      "metadata": {
        "id": "ske5KLUfipTJ"
      },
      "execution_count": null,
      "outputs": []
    },
    {
      "cell_type": "markdown",
      "source": [
        "## **4.3 - Adicionando linhas ao gráfico**\n",
        "\n",
        "---\n",
        "\n"
      ],
      "metadata": {
        "id": "J5eTR0vrF7kO"
      }
    },
    {
      "cell_type": "code",
      "source": [
        "## Configurando o gráfico com parâmetros que potencializam a visualização dos dados\n",
        "\n",
        "# Chamando a função que gera o gráfico de densidade\n",
        "ax = grafico_densidade()\n",
        "\n",
        "## Personalizando o gráfico\n",
        "ax.set_ylabel('')\n",
        "ax.set_yticklabels([])\n",
        "\n",
        "# Gerando as linhas de média, mediana e moda\n",
        "estat = vol_amaciante.Volume.mean(), vol_amaciante.Volume.median(), vol_amaciante.Volume.mode()[0]\n",
        "desc = [\"Média\", \"Mediana\", \"Moda\"]\n",
        "\n",
        "# Definindo as cores de cada estatística descritiva\n",
        "cores = [LARANJA1, VERDE1, CINZA3]\n",
        "\n",
        "# gerando 1 ou mais linhas na vertical a partir de um valor de x\n",
        "ax.vlines(x = estat, ymin = 0, ymax = 0.8, colors = cores, linestyles='--')\n",
        "\n",
        "# Anotando os valores de média, mediana e moda no gráfico\n",
        "for i in range(len(estat)):\n",
        "  ax.text(0.75, (0.6 - i/10), f'{desc[i]} = {estat[i]} ml', fontsize=14, color = cores[i], transform=ax.transAxes)\n",
        "\n",
        "fig = ax.get_figure()"
      ],
      "metadata": {
        "id": "gu2JimeYFiCw"
      },
      "execution_count": null,
      "outputs": []
    },
    {
      "cell_type": "markdown",
      "source": [
        "<font color=green size=4> Conclusões: </font>\n",
        "\n",
        "---\n",
        "\n",
        "O gráfico de densidade (histograma de linha) é ideal para muitas observações.\n",
        "\n",
        "Neste exemplo, podemos verificar uma distribuição normal, com uma leve assimetria à esquerda (mediana> média). A moda também está presente no gráfico. Essas 3 medidas de tendência central são importantes para a estatística descritiva dos dados e auxiliam na construção de modelos e análise dos dados."
      ],
      "metadata": {
        "id": "ZuCIA5WIAP7b"
      }
    },
    {
      "cell_type": "markdown",
      "source": [
        "## **4.4 - Boxplot**\n",
        "\n",
        "---\n",
        "\n"
      ],
      "metadata": {
        "id": "2QxHL_XYrUSs"
      }
    },
    {
      "cell_type": "markdown",
      "source": [
        "### **Pergunta 2 -** Como estão distribuídos os dados dos volumes do amaciante de acordo com a mediana e os quartis? Possuo dados discrepantes?"
      ],
      "metadata": {
        "id": "vw5UTufi2DDV"
      }
    },
    {
      "cell_type": "markdown",
      "source": [
        "#### Gerando o gráfico"
      ],
      "metadata": {
        "id": "5RYvVm5J2DDh"
      }
    },
    {
      "cell_type": "code",
      "source": [
        "## Configurando o gráfico com parâmetros que potencializam a visualização dos dados\n",
        "\n",
        "# Importando as bibliotecas\n",
        "import matplotlib.pyplot as plt\n",
        "from matplotlib.patches import Ellipse\n",
        "import seaborn as sns\n",
        "\n",
        "# Área do gráfico e tema da visualização\n",
        "fig, ax = plt.subplots(figsize=(6,8))\n",
        "sns.set_theme(style=\"white\")\n",
        "\n",
        "# Gerando o boxplot\n",
        "ax = sns.boxplot(data=vol_amaciante, y = \"Volume\", orient= \"v\", color = AZUL2)\n",
        "\n",
        "## Personalizando o gráfico\n",
        "plt.suptitle('Boxplot do volume do amaciante', size=18, color=CINZA1, ha = 'right', x = 0.81, y = 0.97)\n",
        "plt.title('para uma amostra de 1000 unidades', fontsize=14, color=CINZA2, pad = 15, loc = \"left\")\n",
        "ax.set_xlabel('')\n",
        "ax.set_ylabel('Volume (ml)', fontsize = 14)\n",
        "ax.yaxis.set_tick_params(labelsize=12, labelcolor = CINZA2)\n",
        "sns.despine(bottom=True)\n",
        "\n",
        "# Gerando outros elementos visuais (elipses dos outliers)\n",
        "y_min, y_max = ax.get_ybound()\n",
        "outlier_sup = Ellipse((0, y_max - 0.27), width = 0.1, height = 0.46, color=VERMELHO1, fill=False)\n",
        "outlier_inf = Ellipse((0, y_min + 0.4), width = 0.1, height = 0.6, color=VERMELHO1, fill=False)\n",
        "ax.add_patch(outlier_sup)\n",
        "ax.add_patch(outlier_inf)\n",
        "\n",
        "# Adicionando a explicação dos elementos de um boxplot\n",
        "ax.annotate(\"Outliers\", xy=(0 + 0.05, y_max - 0.27), xycoords='data',    # coordenadas do ponto desejado\n",
        "            bbox=dict(boxstyle=\"round\", fc=CINZA5, ec=VERMELHO1),         # caixa de texto\n",
        "            xytext=(50, 0), textcoords='offset points',                   # posição do texto\n",
        "            arrowprops=dict(arrowstyle=\"->\", color=VERMELHO1))            # propriedades da seta\n",
        "\n",
        "ax.annotate(\"Outliers\", xy=(0 + 0.05, y_min + 0.4), xycoords='data',\n",
        "            bbox=dict(boxstyle=\"round\", fc=CINZA5, ec=VERMELHO1),\n",
        "            xytext=(50, 0), textcoords='offset points',\n",
        "            arrowprops=dict(arrowstyle=\"->\", color=VERMELHO1))\n",
        "\n",
        "ax.annotate(\"1º Quartil / 25%\", xy=(0.4, vol_amaciante.quantile(.25)), xycoords='data',\n",
        "            bbox=dict(boxstyle=\"round\", fc=CINZA5, ec=CINZA3),\n",
        "            xytext=(50, 0), textcoords='offset points',\n",
        "            arrowprops=dict(arrowstyle=\"->\", color=CINZA3))\n",
        "\n",
        "ax.annotate(\"2º Quartil / Mediana\", xy=(0.4, vol_amaciante.median()), xycoords='data',\n",
        "            bbox=dict(boxstyle=\"round\", fc=CINZA5, ec=CINZA3),\n",
        "            xytext=(50, 0), textcoords='offset points',\n",
        "            arrowprops=dict(arrowstyle=\"->\", color=CINZA3))\n",
        "\n",
        "ax.annotate(\"3º Quartil / 75%\", xy=(0.4, vol_amaciante.quantile(.75)), xycoords='data',\n",
        "            bbox=dict(boxstyle=\"round\", fc=CINZA5, ec=CINZA3),\n",
        "            xytext=(50, 0), textcoords='offset points',\n",
        "            arrowprops=dict(arrowstyle=\"->\", color=CINZA3))\n",
        "\n",
        "plt.show()"
      ],
      "metadata": {
        "id": "sUxOZwa82DDi"
      },
      "execution_count": null,
      "outputs": []
    },
    {
      "cell_type": "markdown",
      "source": [
        "<font color=green size=4> Conclusões: </font>\n",
        "\n",
        "---\n",
        "\n",
        "O gráfico de boxplot é ideal para representar um conjunto de dados de acordo com 5 medidas de interesse: valor máximo, mínimo, 1º quartil (onde estão situados os primeiros 25% dos dados), 2º quartil ou mediana (onde estão situados 50% dos dados) e 3º quartil (onde estão situados 75% dos dados).\n",
        "\n",
        "Há também os outliers que são considerados os pontos discrepante, ou seja, valores que estão distante do padrão dos dados."
      ],
      "metadata": {
        "id": "zJXXnP7z2DDi"
      }
    },
    {
      "cell_type": "markdown",
      "source": [
        " # **Aula 5 - Explorando padrões nos dados**"
      ],
      "metadata": {
        "id": "Wz_59UEYAo-7"
      }
    },
    {
      "cell_type": "markdown",
      "source": [
        "## **5.1 - Violin Plot**\n",
        "\n",
        "---\n",
        "\n"
      ],
      "metadata": {
        "id": "72Td_hwbrc8I"
      }
    },
    {
      "cell_type": "markdown",
      "source": [
        "\n",
        "Retomando a nossa situação problema da fábrica de produtos de higiene e limpeza. Vamos agora analisar as observações com as medidas de altura, comprimento e largura de uma caixa de sabão em pó em um total de 1000 amostras medidas. Vamos buscar por padrões em nossas medidas e também verificar se uma das amostras possuem itens que são rejeitados de acordo com as regras do negócio."
      ],
      "metadata": {
        "id": "f9EhMcTSB0iU"
      }
    },
    {
      "cell_type": "markdown",
      "source": [
        "#### **Base de dados 2 - Amostras das medidas da embalagem de sabão em pó**"
      ],
      "metadata": {
        "id": "Hkjo742WBqw-"
      }
    },
    {
      "cell_type": "code",
      "source": [
        "# Importando a base de dados dos volumes de um amaciante em 1000 amostras realizadas\n",
        "import pandas as pd\n",
        "df_medidas = pd.read_csv(\"https://raw.githubusercontent.com/lukaswyllis/formacao-avancando-em-data-science-com-python/refs/heads/master/dados-curso2/dados/medidas_sabao_em_po.csv\")\n",
        "\n",
        "df_medidas.sample(5)"
      ],
      "metadata": {
        "id": "70zge8ynBqxZ"
      },
      "execution_count": null,
      "outputs": []
    },
    {
      "cell_type": "code",
      "source": [
        "# Verificando a estatística descritiva das amostras das medidas da embalagem de sabão em pó em forma de tabela\n",
        "df_medidas.describe()"
      ],
      "metadata": {
        "id": "a-kQxjeUBqxb"
      },
      "execution_count": null,
      "outputs": []
    },
    {
      "cell_type": "markdown",
      "source": [
        "Após visualizarmos de maneira rápida os dados que possuímos, vamos partir para as análises que podemos fazer com esses dados e quais os gráficos de distribuição vamos utilizar a fim de apresentar esse tipo de informação.\n",
        "\n",
        "### **Questionamentos**\n",
        "\n",
        "1.   Como está a distribuição das medidas de comprimento da embalagem de sabão em pó para cada uma das amostras?\n",
        "\n",
        "2.   Como estão dispostas as medidas de comprimento e altura da amostra A? Se quisermos rejeitar todos os itens em que o valor de comprimento e altura está 10% acima ou abaixo do valor de 20 e 15 respectivamente, quais seriam rejeitados?\n",
        "\n",
        "\n",
        "\n"
      ],
      "metadata": {
        "id": "K5hNJa0cBqxc"
      }
    },
    {
      "cell_type": "markdown",
      "source": [
        "### **Pergunta 3 -** Como está a distribuição das medidas de comprimento da embalagem de sabão em pó para cada uma das amostras?"
      ],
      "metadata": {
        "id": "9kyH1su1qAS6"
      }
    },
    {
      "cell_type": "markdown",
      "source": [
        "#### Visualizando os dados"
      ],
      "metadata": {
        "id": "COtXmfY2qvNU"
      }
    },
    {
      "cell_type": "code",
      "source": [
        "df_medidas.sample(5)"
      ],
      "metadata": {
        "id": "JC0UNDfJqt8P"
      },
      "execution_count": null,
      "outputs": []
    },
    {
      "cell_type": "markdown",
      "source": [
        "#### Gerando o gráfico"
      ],
      "metadata": {
        "id": "5Mw-ObDaqAS_"
      }
    },
    {
      "cell_type": "code",
      "source": [
        "## Configurando o gráfico com parâmetros que potencializam a visualização dos dados\n",
        "\n",
        "# Importando as bibliotecas\n",
        "import matplotlib.pyplot as plt\n",
        "import seaborn as sns\n",
        "\n",
        "# Área do gráfico e tema da visualização\n",
        "fig, axs = plt.subplots(figsize=(10,5))\n",
        "sns.set_theme(style=\"whitegrid\")\n",
        "\n",
        "# Gerando o violinplot de comprimento, altura e largura\n",
        "ax = sns.violinplot(data=df_medidas, x = \"amostra\",  y = \"comprimento\", palette=[AZUL2, LARANJA1, AZUL5, VERDE1, CINZA3])\n",
        "\n",
        "## Personalizando o gráfico\n",
        "plt.suptitle('Violin plot do comprimento da caixa de sabão em pó', size=18, color=CINZA1, ha = 'right', x = 0.785, y = 1.03)\n",
        "plt.title('Para 5 amostras com 200 observações cada', fontsize=14, color=CINZA2, pad = 15, loc = \"left\")\n",
        "ax.set_xlabel('Amostra',  fontsize = 14)\n",
        "ax.set_ylabel('Comprimento (cm)', fontsize = 14)\n",
        "ax.xaxis.set_tick_params(labelsize=12, labelcolor = CINZA2)\n",
        "ax.yaxis.set_tick_params(labelsize=12, labelcolor = CINZA2)\n",
        "sns.despine(bottom=True, left=True)\n",
        "\n",
        "plt.show()"
      ],
      "metadata": {
        "id": "9Yrq9J4MqAS_"
      },
      "execution_count": null,
      "outputs": []
    },
    {
      "cell_type": "markdown",
      "source": [
        "<font color=green size=4> Conclusões: </font>\n",
        "\n",
        "---\n",
        "\n",
        "O Violin plot é a união entre o histograma e o boxplot. Nele podemos verificar tanto a distribuição dos dados pela representação da curva, quanto dentro dele percebemos o boxplot com as variáveis de interesse.\n",
        "\n",
        "Como sugestão, podemos testar essa técnica também com outros valores em nossa base de dados como, por exemplo, na largura ou na altura da caixa. Vale a pena testar se possuímos uma grande diferença entre as amostras e o que podemos observar nessa distribuição."
      ],
      "metadata": {
        "id": "GalqiyyHqAS_"
      }
    },
    {
      "cell_type": "markdown",
      "source": [
        "## **5.2 Gráfico de dispersão**\n",
        "\n",
        "---\n",
        "\n"
      ],
      "metadata": {
        "id": "NNIqzEAjzxWc"
      }
    },
    {
      "cell_type": "markdown",
      "source": [
        "<img src=\"https://github.com/afonsosr2/dataviz-graficos/blob/3853c7870952376102f2dd09593ef2965c19318c/imagens/Tipos_Graficos/Gr%C3%A1ficos%20de%20distribui%C3%A7%C3%A3o%20(explorando%20padr%C3%B5es%20nos%20dados).png?raw=true\" alt=\"inserir alt\" height=\"343\">\n",
        "\n",
        "<font size=2>Fonte: Andrew Abela (Extreme Presentation/Biuwer)</font>\n"
      ],
      "metadata": {
        "id": "WBoL0D50Aqk_"
      }
    },
    {
      "cell_type": "markdown",
      "source": [
        "### **Pergunta 3 -** Como estão dispostas as medidas de comprimento e altura da amostra A? Se quisermos rejeitar todos os itens em que o valor de comprimento e altura está 1% acima ou abaixo do valor de 20 e 15, respectivamente, quais seriam rejeitados?"
      ],
      "metadata": {
        "id": "oeawtNNazxWh"
      }
    },
    {
      "cell_type": "markdown",
      "source": [
        "#### Visualizando os dados"
      ],
      "metadata": {
        "id": "5N6LxAIYzxWh"
      }
    },
    {
      "cell_type": "code",
      "source": [
        "df_a = df_medidas.query(\"amostra == 'A'\")[[\"comprimento\", \"altura\"]]\n",
        "df_a.head()"
      ],
      "metadata": {
        "id": "7_TqFJeYzxWh"
      },
      "execution_count": null,
      "outputs": []
    },
    {
      "cell_type": "markdown",
      "source": [
        "#### Gerando o gráfico"
      ],
      "metadata": {
        "id": "Mtsmy55bzxWh"
      }
    },
    {
      "cell_type": "code",
      "source": [
        "# Gerando a função que cria o gráfico de dispersão\n",
        "\n",
        "def grafico_dispersao(map_cores: list=[AZUL2], pct: float=0.01):\n",
        "  # Importando as bibliotecas\n",
        "  import matplotlib.pyplot as plt\n",
        "  import seaborn as sns\n",
        "\n",
        "  # Área do gráfico e tema da visualização\n",
        "  fig, ax = plt.subplots(figsize=(10,5))\n",
        "  sns.set_theme(style=\"white\")\n",
        "\n",
        "  # Gerando o gráfico de dispersão\n",
        "  ax = sns.scatterplot(data=df_a, x = \"comprimento\",  y = \"altura\", color = map_cores)\n",
        "\n",
        "  ## Personalizando o gráfico\n",
        "  plt.suptitle('Distribuição do comprimento x altura da caixa de sabão em pó', size=18, color=CINZA1, ha = 'right', x = 0.91, y = 1.03)\n",
        "  plt.title('Para a amostra A com 200 observações', fontsize=14, color=CINZA2, pad = 15, loc = \"left\")\n",
        "  ax.set_xlabel('Comprimento (cm)',  fontsize = 14)\n",
        "  ax.set_ylabel('Altura (cm)', fontsize = 14)\n",
        "  ax.xaxis.set_tick_params(labelsize=12, labelcolor = CINZA2)\n",
        "  ax.yaxis.set_tick_params(labelsize=12, labelcolor = CINZA2)\n",
        "  sns.despine()\n",
        "\n",
        "  # Desenhando a linha horizontal com o límite mínimo de altura desejado\n",
        "  ax.text(19.92, 14.855, 'Limite mínimo da altura', fontsize=12, color = CINZA2, va = \"bottom\")\n",
        "  plt.axhline(y = 15 * (1 - pct), color = CINZA4, linestyle='--')\n",
        "\n",
        "  # Desenhando a linha vertical com o límite mínimo de comprimento desejado\n",
        "  ax.text(20.205, 15.05, 'Limite máximo\\nde comprimento', fontsize=12, color = CINZA2, ha=\"left\")\n",
        "  plt.axvline(x = 20 * (1 + pct), color = CINZA4, linestyle='--')\n",
        "\n",
        "  return ax\n",
        "\n",
        "ax = grafico_dispersao()"
      ],
      "metadata": {
        "id": "CpUDIK2eI_Rd"
      },
      "execution_count": null,
      "outputs": []
    },
    {
      "cell_type": "markdown",
      "source": [
        "## **5.3 - Mapeando dados por cores**\n",
        "\n",
        "---\n",
        "\n"
      ],
      "metadata": {
        "id": "fjI9h_XZKtAY"
      }
    },
    {
      "cell_type": "code",
      "source": [
        "## Configurando o gráfico com parâmetros que potencializam a visualização dos dados\n",
        "\n",
        "# Importando as bibliotecas\n",
        "from matplotlib.patches import Ellipse\n",
        "import numpy as np\n",
        "\n",
        "# Definindo as cores do gráfico\n",
        "cores = [VERMELHO1, LARANJA1, AZUL2]\n",
        "\n",
        "# Gerando o gráfico de dispersão e rejeitando os valores fora da faixa requisitada (1%)\n",
        "pct=0.01\n",
        "rejeita_comp = [True if (c > 20*(1+pct) or c < 20*(1-pct)) else False for c in df_a[\"comprimento\"]]\n",
        "rejeita_alt = [True if (a > 15*(1+pct) or a < 15*(1-pct)) else False for a in df_a[\"altura\"]]\n",
        "map_cores = np.where(rejeita_comp, cores[0], np.where(rejeita_alt, cores[1], cores[2]))\n",
        "ax = grafico_dispersao(map_cores, pct)\n",
        "\n",
        "# Selecionando as áreas de rejeição\n",
        "rej_comp = Ellipse((20.165, 14.80), width = 0.065, height = 0.08, color=CINZA1, fill=False)\n",
        "rej_alt = Ellipse((20.24, 14.715), width = 0.04, height = 0.08, color=CINZA1, fill=False)\n",
        "ax.add_patch(rej_comp)\n",
        "ax.add_patch(rej_alt)\n",
        "\n",
        "ax.annotate(\"Rejeição pela faixa\\nde altura\", xy=(20.185, 14.82), xycoords='data',\n",
        "            bbox=dict(boxstyle=\"round\", fc=CINZA5, ec=CINZA3),\n",
        "            xytext=(50, -20), textcoords='offset points',\n",
        "            arrowprops=dict(arrowstyle=\"->\", color=CINZA3))\n",
        "\n",
        "ax.annotate(\"Rejeição pela faixa\\nde comprimento e altura\", xy=(20.22, 14.72), xycoords='data',\n",
        "            bbox=dict(boxstyle=\"round\", fc=CINZA5, ec=CINZA3),\n",
        "            xytext=(-180, -20), textcoords='offset points',\n",
        "            arrowprops=dict(arrowstyle=\"->\", color=CINZA3))\n",
        "\n",
        "fig = ax.get_figure()"
      ],
      "metadata": {
        "id": "Wi6m-sf4zxWh"
      },
      "execution_count": null,
      "outputs": []
    },
    {
      "cell_type": "markdown",
      "source": [
        "<font color=green size=4> Conclusões: </font>\n",
        "\n",
        "---\n",
        "\n",
        "Neste último gráfico de distribuição apresentamos o gráfico de dispersão. Utilizado também para o relacionamento entre os dados, este gráfico como distribuição aponta como as dimensões das caixas estão distruídas entre duas variáveis: comprimento e altura.\n",
        "\n",
        "Aqui utilizamos dois recursos visuais que é o de acercamento (gerado pela delimitação dos limites máximos e mínimos de comprimento e altura, respectivamente) e o de similaridade por meio das cores, representando os grupos dos valores aceitos, rejeitados por altura e rejeitados por altura e comprimento."
      ],
      "metadata": {
        "id": "JN_Du8WIzxWh"
      }
    },
    {
      "cell_type": "markdown",
      "source": [
        "# Desafios"
      ],
      "metadata": {
        "id": "uqna-O1vOt9y"
      }
    },
    {
      "cell_type": "markdown",
      "source": [
        "## Desafio 1: Quais são os lucros das vendas por ano? Em qual ano obtivemos o maior lucro?"
      ],
      "metadata": {
        "id": "X8wkFHQ9O0xw"
      }
    },
    {
      "cell_type": "code",
      "source": [
        "# Preparando os dados\n",
        "df_lucro_ano = vendas.copy()\n",
        "df_lucro_ano = df_lucro_ano[['data_pedido', 'lucro']]\n",
        "df_lucro_ano['ano'] = df_lucro_ano['data_pedido'].dt.year\n",
        "df_lucro_ano.drop('data_pedido', axis=1, inplace=True)\n",
        "df_lucro_ano = df_lucro_ano.groupby('ano').sum('lucro').sort_values('ano')\n",
        "\n",
        "## Gerando a função para criar o gráfico de colunas\n",
        "\n",
        "# Área do gráfico e tema da visualização\n",
        "fig, ax = plt.subplots(figsize=(10,4))\n",
        "sns.set_theme(style=\"white\")\n",
        "\n",
        "# Definindo as cores do gráfico\n",
        "cores = []\n",
        "for ano in df_lucro_ano.index:\n",
        "  if df_lucro_ano.loc[ano,\"lucro\"] == df_lucro_ano[\"lucro\"].max():\n",
        "    cores.append(AZUL2)\n",
        "  else:\n",
        "    cores.append(AZUL5)\n",
        "\n",
        "# Gerando o gráfico de colunas\n",
        "ax = sns.barplot(data = df_lucro_ano, x = df_lucro_ano.index, y=\"lucro\", hue=df_lucro_ano.index, legend=False, palette = cores)\n",
        "\n",
        "# Personalizando o gráfico\n",
        "ax.set_title(\"Lucro das vendas das lojas de departamentos de\\n2016 a 2019\", loc=\"left\", fontsize = 18, color = CINZA1)\n",
        "ax.set_xlabel(\"\")\n",
        "ax.set_ylabel(\"\")\n",
        "ax.xaxis.set_tick_params(labelsize = 14, labelcolor= CINZA2)\n",
        "sns.despine(left= True, bottom = True)\n",
        "\n",
        "# Escrevendo os valores de cada barra no gráfico\n",
        "ax.set_yticklabels([])\n",
        "for i, valor in enumerate(df_lucro_ano[\"lucro\"]):\n",
        "  qtd = f'R$ {valor:,.0f}'.replace(\",\",\".\")\n",
        "  offset = 1e4\n",
        "  ax.text(i, valor + offset, qtd, color = CINZA2, fontsize = 12, ha = \"center\", va = \"center\")\n",
        "\n",
        "# Anotando uma conclusão no gráfico\n",
        "ax.text(3.5, 1e5,\n",
        "         'O maior lucro registrado foi no ano $\\\\bf{2019}$.\\n'\n",
        "         'Em comparação com 2018, o lucro\\n'\n",
        "         'subiu aproximadamente $\\\\bf{14,04}$%.',\n",
        "         fontsize=14, linespacing=1.45, color=AZUL2)\n",
        "\n",
        "# Exibindo o gráfico\n",
        "plt.show()"
      ],
      "metadata": {
        "id": "2k3dbGzyQVJf"
      },
      "execution_count": null,
      "outputs": []
    },
    {
      "cell_type": "markdown",
      "source": [
        "## Desafio 2: Qual foi o faturamento (vendas) dos top 10 produtos durante o período de 2016 a 2019 do nosso conjunto de dados? Adicione um pequeno texto falando dos 3 produtos que mais venderam."
      ],
      "metadata": {
        "id": "3wnVzdjbVR0F"
      }
    },
    {
      "cell_type": "code",
      "source": [
        "# Preparando os dados\n",
        "df_vendas_top10 = vendas.copy()\n",
        "df_vendas_top10 = df_vendas_top10[['tipo_produto', 'vendas']]\n",
        "df_vendas_top10 = df_vendas_top10.groupby('tipo_produto').sum('vendas').sort_values('vendas', ascending=False)\n",
        "df_vendas_top10 = df_vendas_top10.iloc[0:10]\n",
        "\n",
        "## Gerando a função para criar o gráfico de barras\n",
        "\n",
        "# Área do gráfico e tema da visualização\n",
        "fig, ax = plt.subplots(figsize=(10,4))\n",
        "fig.subplots_adjust(right=0.7)\n",
        "sns.set_theme(style=\"white\")\n",
        "\n",
        "# Definindo as cores do gráfico: 3 primeiro em azul e restante em cinza\n",
        "cores = [AZUL2 if i < 3 else CINZA3 for i in range(10)]\n",
        "\n",
        "# Gerando o gráfico de barras\n",
        "ax = sns.barplot(data = df_vendas_top10, x=\"vendas\", y = df_vendas_top10.index, hue=df_vendas_top10.index, palette = cores)\n",
        "\n",
        "# Personalizando o gráfico\n",
        "ax.set_title('Top 10 produtos com maiores vendas no catálogo (2016-2019)\\n', fontsize=18, color=CINZA1, loc='left')\n",
        "ax.set_xlabel('')\n",
        "ax.set_ylabel('')\n",
        "ax.set_xticklabels([])\n",
        "ax.yaxis.set_tick_params(labelsize=10, labelcolor = CINZA2)\n",
        "sns.despine(left = True, bottom = True)\n",
        "\n",
        "# Escrevendo os valores de cada barra no gráfico\n",
        "for i, valor in enumerate(df_vendas_top10['vendas']):\n",
        "    qtd = f'R$ {valor:,.0f}'.replace(',','.')\n",
        "    offset = 1e4  # offset de 10.000\n",
        "    ax.text(valor - offset, i, qtd, color= CINZA5, fontsize=10, fontweight='bold', ha='right', va='center')\n",
        "\n",
        "# Gerando o texto colorido\n",
        "texto_colorido(\n",
        "    1.05e6, 4,                                                      # coordenadas\n",
        "    'Os dados indicam que os 3 produtos que || $\\\\bf{mais}$\\n'     # texto\n",
        "    'venderam foram: || $\\\\bf{pneus,\\ ferramentas\\ e\\ vasos}$.\\n'\n",
        "    '\\n'\n",
        "    'Podemos notar no período mencionado também que as\\n'\n",
        "    'ferramentas de jardinagem e materiais de revestimento\\n'\n",
        "    'também possuem uma boa saída.',\n",
        "    [[CINZA2, CINZA1],                # linha 1                     # cores\n",
        "     [CINZA2, AZUL2],                 # linha 2\n",
        "     [CINZA2],                        # linha 3\n",
        "     [CINZA2],                        # linha 4\n",
        "     [CINZA2],                        # linha 6\n",
        "     [CINZA2]\n",
        "    ],\n",
        "    esp=22,         # espaçamento\n",
        "    ax=ax,          # figura onde desenhar o texto\n",
        "    fontsize=10)\n",
        "\n",
        "# Exibindo o gráfico\n",
        "plt.show()"
      ],
      "metadata": {
        "id": "fc8LzSnSVVb5"
      },
      "execution_count": null,
      "outputs": []
    },
    {
      "cell_type": "markdown",
      "source": [
        "## Desafio 3: Como estão divididas as vendas das lojas de departamentos na Região Centro-Oeste nos anos de 2017 e 2018? O mesmo estado permaneceu como o que mais vendeu nesta região?"
      ],
      "metadata": {
        "id": "7JifYOQahItA"
      }
    },
    {
      "cell_type": "code",
      "source": [
        "# Criando um df com os dados desejados\n",
        "vendas_co = vendas.copy()\n",
        "vendas_co = vendas_co[['data_pedido','regiao', 'estado', 'vendas']]\n",
        "\n",
        "# Gerando uma coluna que represente apenas os anos puxando-os da coluna data pedido\n",
        "vendas_co['ano'] = vendas_co.data_pedido.dt.year\n",
        "\n",
        "# Selecionando apenas os dados do Centro-Oeste dos anos de 2017 e 2018 e removendo as colunas de data_pedido e região\n",
        "vendas_co = vendas_co.query(\"regiao == 'Centro-Oeste' and (ano == 2017 or ano == 2018)\")\n",
        "vendas_co.drop(labels = [\"data_pedido\",\"regiao\"], axis = 1, inplace = True)\n",
        "\n",
        "vendas_co"
      ],
      "metadata": {
        "id": "ZppbV_ghhKIN"
      },
      "execution_count": null,
      "outputs": []
    },
    {
      "cell_type": "code",
      "source": [
        "# Criando uma tabela cruzada (crosstab) com os valores de venda de cada ano por estado\n",
        "vendas_co_ano = pd.crosstab(index = vendas_co.ano, columns = vendas_co.estado,\n",
        "                         values = vendas_co.vendas, aggfunc = \"sum\")\n",
        "\n",
        "vendas_co_ano"
      ],
      "metadata": {
        "id": "fIYHu_-shSIE"
      },
      "execution_count": null,
      "outputs": []
    },
    {
      "cell_type": "code",
      "source": [
        "# Definindo as cores do gráfico\n",
        "cores = [VERMELHO1, AMARELO1, VERDE1, AZUL2]\n",
        "\n",
        "# Gerando o gráfico de colunas empilhadas\n",
        "ax = vendas_co_ano.plot(kind=\"bar\", stacked=True, figsize=(8,8), color = cores)\n",
        "\n",
        "# Personalizando o gráfico\n",
        "ax.set_title('Vendas das lojas de departamentos na Região Centro-Oeste\\nentre os anos de 2017 a 2018',\n",
        "             loc='left', fontsize=16, color = CINZA1)\n",
        "ax.set_xlabel('')\n",
        "ax.set_ylabel('')\n",
        "ax.set_yticklabels([])\n",
        "ax.xaxis.set_tick_params(labelsize=14, labelcolor = CINZA2, rotation = 0)\n",
        "ax.set_frame_on(False)\n",
        "\n",
        "# remover todos os ticks do eixo x e y\n",
        "ax.tick_params(axis=\"both\", which =\"both\", length=0)\n",
        "\n",
        "# Anotando uma conclusão no gráfico\n",
        "ax.text(-0.8, 1e5, 'O estado de Goiás\\nrealizou mais vendas\\nnas unidades do\\nCentro-Oeste em 2017.',\n",
        "        fontsize=10, linespacing=1.2, color=AZUL1)\n",
        "ax.text(1.3, 8e4, 'O Distrito Federal passou\\no estado de Goiás em vendas\\nno ano de 2018.',\n",
        "        fontsize=10, linespacing=1.2, color=AZUL1)\n",
        "\n",
        "# Personalizando a legenda\n",
        "ax.legend(bbox_to_anchor=(1,1), reverse = True, title= \"Estado\", title_fontsize = 10, fontsize = 10)\n",
        "\n",
        "# Adicionando os valores\n",
        "for container in ax.containers:\n",
        "  labels = [f'R$ {valor.get_height()/1000:,.2f} mil'.replace(\",\",\".\") for valor in container]\n",
        "  ax.bar_label(container, label_type=\"center\", labels = labels, size = 9, color = CINZA5, fontweight = \"bold\")\n",
        "\n",
        "fig = ax.get_figure()"
      ],
      "metadata": {
        "id": "dTwSFJ6PhT-i"
      },
      "execution_count": null,
      "outputs": []
    },
    {
      "cell_type": "markdown",
      "source": [
        "## Desafio 4: Analisando cada departamento, como estão divididos os modos de envio em cada um deles percentualmente?"
      ],
      "metadata": {
        "id": "1h43_5AOiLWE"
      }
    },
    {
      "cell_type": "code",
      "source": [
        "# Criando um df com os dados desejados\n",
        "df_depart = vendas.copy()\n",
        "df_depart = df_depart[['departamento','modo_envio']]\n",
        "\n",
        "## Criando uma tabela cruzada (crosstab) com a frequência de modos de envio por departamento\n",
        "df_depart = pd.crosstab(index = df_depart.departamento, columns = df_depart.modo_envio, normalize = \"index\")\n",
        "\n",
        "df_depart"
      ],
      "metadata": {
        "id": "i-eEMlB-iOPS"
      },
      "execution_count": null,
      "outputs": []
    },
    {
      "cell_type": "code",
      "source": [
        "# Código para gerar o texto colorido\n",
        "\n",
        "from matplotlib import transforms\n",
        "\n",
        "def texto_colorido(x, y, texto, cores, esp=20, ax=None, **kw):\n",
        "    cores = list(reversed(cores))\n",
        "    t = ax.transData\n",
        "    canvas = ax.figure.canvas\n",
        "\n",
        "    for i, linha in enumerate(reversed(texto.split('\\n'))):\n",
        "        frases = linha.split('||')\n",
        "        for s, cor in zip(frases, cores[i]):\n",
        "            texto = ax.text(x, y, s, color=cor, transform=t, **kw)\n",
        "            texto.draw(canvas.get_renderer())\n",
        "            ex = texto.get_window_extent()\n",
        "            t = transforms.offset_copy(texto._transform, x=ex.width,\n",
        "                                       units='dots')\n",
        "\n",
        "        t = transforms.offset_copy(ax.transData, x=0, y=(i + 1) * esp, units='dots')"
      ],
      "metadata": {
        "id": "dvqhj6cmiTKa"
      },
      "execution_count": null,
      "outputs": []
    },
    {
      "cell_type": "code",
      "source": [
        "# Definindo as cores do gráfico\n",
        "cores = [AZUL1, AZUL2, AZUL3, AZUL4]\n",
        "\n",
        "# Gerando o gráfico de barras empilhadas\n",
        "ax = df_depart.plot(kind=\"barh\", stacked=True, figsize=(12,6), color = cores, legend = None)\n",
        "ax.set_title(\"Distribuição percentual dos modos de envio por cada departamento (2016-2019)\\n\",\n",
        "             fontsize=16, loc=\"left\", color=CINZA1)\n",
        "ax.set_xlabel('')\n",
        "ax.set_ylabel('')\n",
        "ax.set_xticklabels([])\n",
        "ax.yaxis.set_tick_params(labelsize=12, color = CINZA2)\n",
        "ax.set_frame_on(False)\n",
        "\n",
        "# remover todos os ticks do eixo x e y\n",
        "ax.tick_params(axis='both', which='both', length=0)\n",
        "\n",
        "# legenda dos dados\n",
        "texto_colorido(0, 2.3, '$\\\\bf{24 horas}$ | || $\\\\bf{Econômica}$  | || $\\\\bf{Entrega\\ padrão}$ | || $\\\\bf{Envio\\ rápido}$', cores = [cores], ax=ax, fontsize=12)\n",
        "\n",
        "# Valores das barras\n",
        "for container in ax.containers:\n",
        "    labels = [f'{valor.get_width()*100:.1f}%' for valor in container]\n",
        "    ax.bar_label(container, label_type='center', labels = labels, size = 12, color = CINZA5, fontweight='bold')\n",
        "\n",
        "fig = ax.get_figure()"
      ],
      "metadata": {
        "id": "GiGYpNBFiUy_"
      },
      "execution_count": null,
      "outputs": []
    },
    {
      "cell_type": "markdown",
      "source": [
        "## Desafio 5: Como estão as vendas por semestre no estado em que você mora ou que deseja conhecer? Destaque os valores máximos e mínimos de venda para apresentá-los ao seu público."
      ],
      "metadata": {
        "id": "V6ULWZTlms07"
      }
    },
    {
      "cell_type": "code",
      "source": [
        "# Criando um df com os dados desejados\n",
        "df_estado = vendas.copy()\n",
        "df_estado = df_estado.query('estado == \"Bahia\"')[[\"data_pedido\", \"vendas\"]]\n",
        "\n",
        "# Agrupando as vendas por final do semestre (2Q)\n",
        "df_estado.set_index(\"data_pedido\", inplace = True)\n",
        "df_estado = df_estado.resample(\"2QE\", closed=\"left\").agg(\"sum\")\n",
        "df_estado = df_estado.reset_index()\n",
        "df_estado.head()"
      ],
      "metadata": {
        "id": "AvYQ2FSqmwZQ"
      },
      "execution_count": null,
      "outputs": []
    },
    {
      "cell_type": "code",
      "source": [
        "# Área do gráfico e tema da visualização\n",
        "fig, ax = plt.subplots(figsize=(16,4))\n",
        "\n",
        "# Resgatando o valor minimo, maximo das vendas\n",
        "venda_min = df_estado.vendas.min()\n",
        "venda_max = df_estado.vendas.max()\n",
        "valores = df_estado.vendas.values\n",
        "\n",
        "# Gerando a lista com os pontos a marcar (True apenas para mínimo e máximo)\n",
        "pontos_a_marcar = list((valores == venda_min) | (valores == venda_max))\n",
        "\n",
        "# Criando o gráfico de linha das vendas\n",
        "ax.plot(df_estado[\"data_pedido\"], df_estado[\"vendas\"], lw = 3, color = AZUL5, marker = \"o\",\n",
        "          markersize = 10, markerfacecolor = AZUL2, markevery =  pontos_a_marcar)\n",
        "\n",
        "## Personalizando o gráfico\n",
        "ax.set_title('Vendas no estado da Bahia (2016-2019)', fontsize = 16, loc='left', pad = 20)\n",
        "ax.set_xlabel('Meses', fontsize = 14)\n",
        "ax.set_ylabel('')\n",
        "ax.grid(axis = \"y\", linestyle=\"--\")\n",
        "ax.set_frame_on(False)\n",
        "\n",
        "# remover todos os ticks do eixo x e y\n",
        "ax.tick_params(axis='both', which='both', length=0)\n",
        "\n",
        "# Descrevendo o limite mínimo e máximo do eixo y\n",
        "plt.ylim(0, 1.25e5)\n",
        "\n",
        "# Definindo o intervalo semestral para os dados\n",
        "ax.xaxis.set_major_locator(mdates.MonthLocator(bymonth = [6,12]))\n",
        "labels = [\"1º Sem, 2016\", \"2º Sem, 2016\", \"1º Sem, 2017\", \"2º Sem, 2017\",\n",
        "          \"1º Sem, 2018\", \"2º Sem, 2018\", \"1º Sem, 2019\", \"2º Sem, 2019\"]\n",
        "ax.set_xticks(ax.get_xticks())\n",
        "ax.set_xticklabels(labels, ha = \"left\")\n",
        "\n",
        "# Escrevendo texto nos pontos de destaque\n",
        "for x, y in zip(df_estado.data_pedido, df_estado.vendas):\n",
        "  if y == venda_min:\n",
        "    ax.text(x, y = y - 1.2e4, s = f\" O 1º Semestre de 2017 registrou \\n a única venda abaixo de R$ 40 mil\", fontsize = 10)\n",
        "  if y == venda_max:\n",
        "    ax.text(x, y = y - 1.2e4, s = f\" As vendas ultrapassaram pela \\n 1ª vez a faixa de R$ 100 mil \\n no 2º Semestre de 2019\", fontsize = 10)\n",
        "\n",
        "plt.show()"
      ],
      "metadata": {
        "id": "qreNYJ58mzK7"
      },
      "execution_count": null,
      "outputs": []
    },
    {
      "cell_type": "markdown",
      "source": [
        "## Desafio 6: Compare os lucros anuais dos estados da região Nordeste por meio de um gráfico de linhas."
      ],
      "metadata": {
        "id": "K6nw1MLHoQ1t"
      }
    },
    {
      "cell_type": "code",
      "source": [
        "# Criando um df com os dados desejados\n",
        "df_ne = vendas.copy()\n",
        "df_ne = df_ne.query(\"regiao == 'Nordeste'\")[[\"estado\",\"data_pedido\", \"lucro\"]]\n",
        "df_ne"
      ],
      "metadata": {
        "id": "a0Acgj8poSMU"
      },
      "execution_count": null,
      "outputs": []
    },
    {
      "cell_type": "code",
      "source": [
        "# Criando uma tabela cruzada (crosstab) com os valores de lucro por dia por estado\n",
        "df_estados_ne = pd.crosstab(index = df_ne.data_pedido, columns = df_ne.estado, values = df_ne.lucro, aggfunc=\"sum\")\n",
        "\n",
        "# Agrupando os lucros por ano\n",
        "df_estados_ne = df_estados_ne.resample('Y').agg('sum')\n",
        "df_estados_ne = round(df_estados_ne/1e3, 2)\n",
        "df_estados_ne"
      ],
      "metadata": {
        "id": "cr9-Qb4ToW1H"
      },
      "execution_count": null,
      "outputs": []
    },
    {
      "cell_type": "code",
      "source": [
        "# Importando a biblioteca\n",
        "import plotly.express as px\n",
        "\n",
        "# Gerando um gráfico de linha com os lurcos das lojas por ano dividido por estado da região nordeste\n",
        "fig = px.line(df_estados_ne, x=df_estados_ne.index, y=df_estados_ne.columns, markers = True, labels={\"estado\": \"Estados\"},\n",
        "              color_discrete_sequence=[AZUL2, VERMELHO1, AMARELO1 , VERDE1, CINZA3, AZUL5, LARANJA1, CINZA1, AZUL4])\n",
        "\n",
        "# Ajustando o layout do gráfico\n",
        "fig.update_layout(width=1300, height=600, font_family = 'DejaVu Sans', font_size=15,\n",
        "                  font_color= CINZA2, title_font_color= CINZA1, title_font_size=24,\n",
        "                  title_text='Lucros das lojas de departamentos por ano na Região Nordeste' +\n",
        "                             '<br><sup size=1 style=\"color:#555655\">De 2016 a 2019</sup>',\n",
        "                  xaxis_title='', yaxis_title='', plot_bgcolor= CINZA5)\n",
        "\n",
        "# Ajustando os ticks do eixo y para o formato em milhar\n",
        "fig.update_yaxes(tickprefix=\"R$ \", ticksuffix=\" mil\")\n",
        "\n",
        "# Ajustando o eixo x com os labels dos anos\n",
        "labels = ['2016', '2017', '2018', '2019']\n",
        "fig.update_xaxes(ticktext = labels, tickvals=df_estados_ne.index)\n",
        "\n",
        "# Dados ao passar o mouse (hover)\n",
        "fig.update_traces(mode=\"markers+lines\", hovertemplate = \"<b>Período:</b> %{x} <br> <b>Lucro:</b> %{y}\")\n",
        "\n",
        "fig.show()"
      ],
      "metadata": {
        "id": "B9YNZBzmoZHK"
      },
      "execution_count": null,
      "outputs": []
    },
    {
      "cell_type": "markdown",
      "source": [
        "## Desafio 7: Baixe a base de dados com as amostras das idades dos moradores do município de Cidade Alegre e crie os histogramas de colunas e de linha lado a lado, buscando interpretar as diferenças entre eles e o que podem representar separadamente. Adicione também uma linha que define a mediana da distribuição no histograma de linha e escreva o valor dessa medida no gráfico."
      ],
      "metadata": {
        "id": "ce8kF6ihogOL"
      }
    },
    {
      "cell_type": "code",
      "source": [
        "import matplotlib.pyplot as plt\n",
        "import seaborn as sns\n",
        "import pandas as pd\n",
        "\n",
        "dados = pd.read_csv(\"https://raw.githubusercontent.com/lukaswyllis/formacao-avancando-em-data-science-com-python/refs/heads/master/dados-curso2/dados/pop_idade.csv\")\n",
        "dados.head()"
      ],
      "metadata": {
        "id": "tGAdrnhEokuq"
      },
      "execution_count": null,
      "outputs": []
    },
    {
      "cell_type": "code",
      "source": [
        "# Área do gráfico e tema da visualização\n",
        "fig, axs = plt.subplots(1, 2, figsize=(15,6))\n",
        "sns.set_theme(style=\"white\")\n",
        "\n",
        "# Título dos gráficos\n",
        "fig.suptitle(\"Distribuição da idade da população de Cidade Alegre \\npara uma amostra de 500 pessoas\",\n",
        "             fontsize=18, color=CINZA1, x = 0.1, y = 1.05, ha=\"left\")\n",
        "\n",
        "# GRÁFICO 1 - Histograma de Colunas\n",
        "\n",
        "sns.histplot(ax = axs[0], data = dados, x = \"idade\", binwidth = 5, color = AZUL2)\n",
        "axs[0].set_title('Distribuição para um intervalo de 5 anos', size=14, color=CINZA1, x = 0.35,  pad = 10)\n",
        "axs[0].set_xlabel('Idade', fontsize = 14)\n",
        "axs[0].set_ylabel('Quantidade', fontsize = 14)\n",
        "axs[0].yaxis.set_tick_params(labelsize=12, labelcolor = CINZA2)\n",
        "axs[0].xaxis.set_tick_params(labelsize=12, labelcolor = CINZA2)\n",
        "sns.despine()\n",
        "\n",
        "# GRÁFICO 2 - Histograma de Linhas\n",
        "\n",
        "sns.kdeplot(ax = axs[1], data = dados, x = \"idade\", color = AZUL2)\n",
        "axs[1].set_title('Com as medidas de tendência central', size=14, color=CINZA1, x = 0.35,  pad = 10)\n",
        "axs[1].set_xlabel('Idade', fontsize = 14)\n",
        "axs[1].set_ylabel('')\n",
        "axs[1].yaxis.set_tick_params(labelsize=12, labelcolor = CINZA2)\n",
        "axs[1].set_yticklabels([])\n",
        "sns.despine()\n",
        "\n",
        "# gerando a linha que define a mediana e anotando seu valor\n",
        "axs[1].vlines(x = dados.idade.median(), ymin = 0, ymax = 0.04, colors = CINZA3, linestyles = \"--\")\n",
        "axs[1].text(0.6, 0.6, f'Mediana = {int(dados.idade.median())} anos', fontsize=14, color = CINZA3, transform=axs[1].transAxes)\n",
        "\n",
        "plt.show()"
      ],
      "metadata": {
        "id": "JRkwxdKvptxr"
      },
      "execution_count": null,
      "outputs": []
    },
    {
      "cell_type": "markdown",
      "source": [
        "## Desafio 8: Represente no boxplot dos volumes do amaciante os limites superiores e inferiores do diagrama de caixa. Comente sobre o resultado encontrado ao desenhar esses limites no boxplot."
      ],
      "metadata": {
        "id": "jr0eFNKOp2s0"
      }
    },
    {
      "cell_type": "code",
      "source": [
        "# Importando as bibliotecas\n",
        "import pandas as pd\n",
        "import matplotlib.pyplot as plt\n",
        "from matplotlib.patches import Ellipse\n",
        "import seaborn as sns\n",
        "\n",
        "# Importando a base de dados dos volumes de um amaciante em 1000 amostras realizadas\n",
        "vol_amaciante = pd.read_csv(\"https://raw.githubusercontent.com/lukaswyllis/formacao-avancando-em-data-science-com-python/refs/heads/master/dados-curso2/dados/volume_amaciante.csv\")\n",
        "vol_amaciante.head()"
      ],
      "metadata": {
        "id": "jvYowWv0p4Q9"
      },
      "execution_count": null,
      "outputs": []
    },
    {
      "cell_type": "code",
      "source": [
        "# Área do gráfico e tema da visualização\n",
        "fig, ax = plt.subplots(figsize=(6,8))\n",
        "sns.set_theme(style=\"white\")\n",
        "\n",
        "# Gerando o boxplot\n",
        "ax = sns.boxplot(data = vol_amaciante, y = \"Volume\", orient = \"v\", color = AZUL2)\n",
        "\n",
        "## Personalizando o gráfico\n",
        "plt.suptitle('Boxplot do volume do amaciante', size=18, color=CINZA1, ha = 'right', x = 0.81, y = 0.97)\n",
        "plt.title('para uma amostra de 1000 unidades', fontsize=14, color=CINZA2, pad = 15, loc = \"left\")\n",
        "ax.set_xlabel('')\n",
        "ax.set_ylabel('Volume (ml)', fontsize = 14)\n",
        "ax.yaxis.set_tick_params(labelsize=12, labelcolor = CINZA2)\n",
        "sns.despine(bottom=True)\n",
        "\n",
        "# Calculando o intervalo interquartil(IIQ) e os limites máximos e mínimos\n",
        "IIQ = vol_amaciante[\"Volume\"].quantile(0.75) - vol_amaciante[\"Volume\"].quantile(0.25)\n",
        "limite_superior = vol_amaciante[\"Volume\"].quantile(0.75) + 1.5 * IIQ\n",
        "limite_inferior = vol_amaciante[\"Volume\"].quantile(0.25) - 1.5 * IIQ\n",
        "\n",
        "# Adicionando a anotação dos limites superiores e inferiores de um boxplot\n",
        "ax.annotate(\"Limite Superior\", xy=(0, limite_superior), xycoords='data',  # coordenadas do ponto desejado\n",
        "            bbox=dict(boxstyle=\"round\", fc=CINZA5, ec=CINZA3),                          # caixa de texto\n",
        "            xytext=(50, 0), textcoords='offset points',                                 # posição do texto\n",
        "            arrowprops=dict(arrowstyle=\"->\", color=CINZA3))                             # propriedades da seta\n",
        "\n",
        "ax.annotate(\"Limite Inferior\", xy=(0, limite_inferior), xycoords='data',\n",
        "            bbox=dict(boxstyle=\"round\", fc=CINZA5, ec=CINZA3),\n",
        "            xytext=(50, 0), textcoords='offset points',\n",
        "            arrowprops=dict(arrowstyle=\"->\", color=CINZA3))\n",
        "\n",
        "plt.show()"
      ],
      "metadata": {
        "id": "zBEf18QTqW2Y"
      },
      "execution_count": null,
      "outputs": []
    },
    {
      "cell_type": "markdown",
      "source": [
        "## Desafio 9: Baixe a base de dados com as notas das turmas de Data Visualization e crie o violinplot, buscando interpretar as diferenças entre cada uma delas e documentando os seus achados. Sinta-se livre para adicionar alguns dos recursos que aprendemos ao longo do curso, como anotações, textos e figuras."
      ],
      "metadata": {
        "id": "kMMEJC9yqkP3"
      }
    },
    {
      "cell_type": "code",
      "source": [
        "import pandas as pd\n",
        "import seaborn as sns\n",
        "import matplotlib.pyplot as plt\n",
        "\n",
        "notas = pd.read_csv(\"https://raw.githubusercontent.com/lukaswyllis/formacao-avancando-em-data-science-com-python/refs/heads/master/dados-curso2/dados/notas.csv\")\n",
        "notas.head()"
      ],
      "metadata": {
        "id": "ro3uGVa0qlvN"
      },
      "execution_count": null,
      "outputs": []
    },
    {
      "cell_type": "code",
      "source": [
        "# Área do gráfico e tema da visualização\n",
        "fig, ax = plt.subplots(figsize=(10,5))\n",
        "fig.subplots_adjust(right = 0.7)\n",
        "sns.set_theme(style=\"whitegrid\")\n",
        "\n",
        "# Gerando o violinplot das notas\n",
        "ax = sns.violinplot(data = notas, x = \"Turma\", y = \"Nota\", palette = \"vlag_r\")\n",
        "\n",
        "# Personalizando o gráfico\n",
        "plt.suptitle('Distribuição das notas das turmas de Data Visualization\\n(100 alunos cada)', size=18, color=CINZA1, ha = 'left', x = 0.1, y = 1.05)\n",
        "ax.set_xlabel('')\n",
        "ax.set_ylabel('Notas (0-100)', fontsize = 14)\n",
        "ax.xaxis.set_tick_params(labelsize=12, labelcolor = CINZA2)\n",
        "ax.yaxis.set_tick_params(labelsize=12, labelcolor = CINZA2)\n",
        "sns.despine(bottom=True)\n",
        "\n",
        "# Criando uma lista com as medianas de cada turma\n",
        "mediana = []\n",
        "for i in range(1,4):\n",
        "  mediana.append(notas.query(f\"Turma == 'Turma {i}'\").Nota.median())\n",
        "\n",
        "# Texto explicativo\n",
        "ax.text(2.6, 60,\n",
        "         'O gráfico acima mostra a distribuição dos valores entre\\n'\n",
        "         'três turmas do curso de Dataviz: $\\\\bf{Turma\\ 1}$, $\\\\bf{Turma\\ 2}$ e $\\\\bf{Turma\\ 3}$.\\n\\n'\n",
        "         'A $\\\\bf{Turma\\ 1}$ apresenta uma distribuição aproximadamente normal,\\n'\n",
        "         f'com a mediana de {mediana[0]} e uma variabilidade moderada.\\n\\n'\n",
        "         ' A $\\\\bf{Turma\\ 2}$ mostra uma distribuição mais estreita, com a mediana\\n'\n",
        "         f'de {mediana[1]} e uma variabilidade menor.\\n\\n'\n",
        "         'Enquanto isso, a $\\\\bf{Turma\\ 3}$ possui uma distribuição mais assimétrica,\\n'\n",
        "         f'com a mediana de {mediana[2]} e uma variabilidade maior em relação aos outros grupos.',\n",
        "         fontsize=10, linespacing=1.45, color=CINZA2)\n",
        "\n",
        "plt.show()"
      ],
      "metadata": {
        "id": "MIz2xEn0q2U8"
      },
      "execution_count": null,
      "outputs": []
    },
    {
      "cell_type": "markdown",
      "source": [
        "## Desafio 10: Crie o gráfico de dispersão que distribua as medidas de comprimento e largura da amostra B. Desenhe no gráfico as linhas de rejeição para os itens em que o valor de comprimento e largura seja acima de 2% ou abaixo do valor de 20 cm e 5 cm, respectivamente."
      ],
      "metadata": {
        "id": "4kq8_EKhq94C"
      }
    },
    {
      "cell_type": "code",
      "source": [
        "# Importando a base de dados dos volumes de um amaciante em 1000 amostras realizadas\n",
        "import pandas as pd\n",
        "import numpy as np\n",
        "import matplotlib.pyplot as plt\n",
        "import seaborn as sns\n",
        "\n",
        "df_medidas = pd.read_csv(\"https://raw.githubusercontent.com/lukaswyllis/formacao-avancando-em-data-science-com-python/refs/heads/master/dados-curso2/dados/medidas_sabao_em_po.csv\")\n",
        "df_b = df_medidas.query('amostra == \"B\"')[[\"comprimento\", \"largura\"]]\n",
        "\n",
        "df_b.head()"
      ],
      "metadata": {
        "id": "BY8YAdjIq_r3"
      },
      "execution_count": null,
      "outputs": []
    },
    {
      "cell_type": "code",
      "source": [
        "# Área do gráfico e tema da visualização\n",
        "fig, ax = plt.subplots(figsize=(10,5))\n",
        "sns.set_theme(style=\"white\")\n",
        "\n",
        "# Definindo as cores do gráfico e a porcentagem de rejeição\n",
        "cores = [VERMELHO1, LARANJA1, AZUL2]\n",
        "pct = 0.02\n",
        "\n",
        "# Mapeando as cores para a faixa requisitada (2%)\n",
        "rejeita_comp = [True if (c > 20*(1+pct) or c < 20*(1-pct)) else False for c in df_b[\"comprimento\"]]\n",
        "rejeita_larg = [True if (a > 5*(1+pct) or a < 5*(1-pct)) else False for a in df_b[\"largura\"]]\n",
        "map_cores = np.where(rejeita_comp, cores[0], np.where(rejeita_larg, cores[1], cores[2]))\n",
        "\n",
        "# Gerando o gráfico de dispersão\n",
        "ax = sns.scatterplot(data = df_b, x=\"comprimento\", y = \"largura\", color = map_cores)\n",
        "\n",
        "# Personalizando o gráfico\n",
        "plt.suptitle('Distribuição das medidas da caixa de sabão em pó (amostra B de 200 registros)', size=14, color=CINZA1, ha = 'right', x = 0.9, y = 1)\n",
        "ax.set_xlabel('Comprimento (cm)', fontsize = 12)\n",
        "ax.set_ylabel('Largura (cm)', fontsize = 12)\n",
        "ax.yaxis.set_tick_params(labelsize=10, labelcolor = CINZA2)\n",
        "ax.xaxis.set_tick_params(labelsize=10, labelcolor = CINZA2)\n",
        "sns.despine()\n",
        "\n",
        "### Desenhando as linhas verticais com os limites mínimos e máximo de largura desejada\n",
        "ax.text(20.15, 5.1, 'Limite máximo de largura', fontsize=12, color = CINZA2, ha=\"left\", va = \"bottom\")\n",
        "plt.axhline(y = 5 * (1 + pct), color = CINZA4, linestyle='--')\n",
        "ax.text(20.15, 4.9, 'Limite mínimo de largura', fontsize=12, color = CINZA2, ha=\"left\", va = \"top\")\n",
        "plt.axhline(y = 5 * (1 - pct), color = CINZA4, linestyle='--')\n",
        "\n",
        "plt.show()"
      ],
      "metadata": {
        "id": "tZj5SNcRrQPi"
      },
      "execution_count": null,
      "outputs": []
    }
  ]
}