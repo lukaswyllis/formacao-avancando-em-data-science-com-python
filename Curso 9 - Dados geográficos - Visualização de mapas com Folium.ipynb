{
  "nbformat": 4,
  "nbformat_minor": 0,
  "metadata": {
    "colab": {
      "provenance": []
    },
    "kernelspec": {
      "name": "python3",
      "display_name": "Python 3"
    },
    "language_info": {
      "name": "python"
    }
  },
  "cells": [
    {
      "cell_type": "markdown",
      "source": [
        "# Data Visualization: criando gráficos com bibliotecas Python"
      ],
      "metadata": {
        "id": "9bNd_mofZqaL"
      }
    },
    {
      "cell_type": "markdown",
      "source": [
        "## Conhecendo a biblioteca Matplotlib"
      ],
      "metadata": {
        "id": "us5f3CYuZr0Y"
      }
    },
    {
      "cell_type": "code",
      "source": [
        "import pandas as pd\n",
        "import matplotlib.pyplot as plt\n",
        "import seaborn as sns\n",
        "import plotly.express as px"
      ],
      "metadata": {
        "id": "uaWIg6qyZu2b"
      },
      "execution_count": null,
      "outputs": []
    },
    {
      "cell_type": "code",
      "source": [
        "url = 'https://raw.githubusercontent.com/lukaswyllis/formacao-avancando-em-data-science-com-python/refs/heads/master/dados-curso1/imigrantes_canada.csv'"
      ],
      "metadata": {
        "id": "PoSrquJqbKqt"
      },
      "execution_count": null,
      "outputs": []
    },
    {
      "cell_type": "code",
      "source": [
        "df = pd.read_csv(url)"
      ],
      "metadata": {
        "id": "r25nRiUBb7Gp"
      },
      "execution_count": null,
      "outputs": []
    },
    {
      "cell_type": "code",
      "source": [
        "df"
      ],
      "metadata": {
        "id": "3ZdarSJ1b_js"
      },
      "execution_count": null,
      "outputs": []
    },
    {
      "cell_type": "code",
      "source": [
        "df.info()"
      ],
      "metadata": {
        "id": "byKPDsLFcBRi"
      },
      "execution_count": null,
      "outputs": []
    },
    {
      "cell_type": "code",
      "source": [
        "df.set_index('País', inplace=True)"
      ],
      "metadata": {
        "id": "Z5IdfTNRcFPu"
      },
      "execution_count": null,
      "outputs": []
    },
    {
      "cell_type": "code",
      "source": [
        "df"
      ],
      "metadata": {
        "id": "WjJRt1VPcZtG"
      },
      "execution_count": null,
      "outputs": []
    },
    {
      "cell_type": "code",
      "source": [
        "anos = list(map(str, range(1980, 2014)))"
      ],
      "metadata": {
        "id": "g5L9OuQ4caUi"
      },
      "execution_count": null,
      "outputs": []
    },
    {
      "cell_type": "code",
      "source": [
        "anos"
      ],
      "metadata": {
        "id": "MqPrNN_yc2Xy"
      },
      "execution_count": null,
      "outputs": []
    },
    {
      "cell_type": "code",
      "source": [
        "brasil = df.loc['Brasil', anos]"
      ],
      "metadata": {
        "id": "YB6S6pYac2pq"
      },
      "execution_count": null,
      "outputs": []
    },
    {
      "cell_type": "code",
      "source": [
        "brasil"
      ],
      "metadata": {
        "id": "fysgWhundFt6"
      },
      "execution_count": null,
      "outputs": []
    },
    {
      "cell_type": "code",
      "source": [
        "brasil_dict = {\n",
        "    'ano': brasil.index.tolist(),\n",
        "    'imigrantes': brasil.values.tolist()\n",
        "}"
      ],
      "metadata": {
        "id": "9e7_-uyPdGIZ"
      },
      "execution_count": null,
      "outputs": []
    },
    {
      "cell_type": "code",
      "source": [
        "dados_brasil = pd.DataFrame(brasil_dict)"
      ],
      "metadata": {
        "id": "YlFbEVZLdyy7"
      },
      "execution_count": null,
      "outputs": []
    },
    {
      "cell_type": "code",
      "source": [
        "dados_brasil"
      ],
      "metadata": {
        "id": "K0zXuoqCd3mw"
      },
      "execution_count": null,
      "outputs": []
    },
    {
      "cell_type": "code",
      "source": [
        "plt.plot(dados_brasil['ano'], dados_brasil['imigrantes'])"
      ],
      "metadata": {
        "id": "kFcgcW0ad4Eg"
      },
      "execution_count": null,
      "outputs": []
    },
    {
      "cell_type": "code",
      "source": [
        "plt.figure(figsize=(8, 4)) # em polegadas, primeiro largura e depois altura\n",
        "plt.plot(dados_brasil['ano'], dados_brasil['imigrantes']) # plota o gráfico\n",
        "plt.title('Imigração do Brasil para o Canadá') # adiciona um título ao gráfico\n",
        "plt.xlabel('Ano') # adiciona o título ao eixo x\n",
        "plt.ylabel('Número de imigrantes') # adiciona o título ao eixo y\n",
        "plt.xticks(['1980', '1985', '1990', '1995', '2000', '2005', '2010', '2015']) # explicita o eixo x\n",
        "plt.yticks([500, 1000, 1500, 2000, 2500, 3000]) # explicita o eixo\n",
        "plt.show() # deve ser a última linha, qualquer coisa depois disso não é executada"
      ],
      "metadata": {
        "id": "_Ny6ZIjDiEmP"
      },
      "execution_count": null,
      "outputs": []
    },
    {
      "cell_type": "markdown",
      "source": [
        "### Desafio 1: comparando tendências de imigração"
      ],
      "metadata": {
        "id": "3d8-uibhk9pu"
      }
    },
    {
      "cell_type": "code",
      "source": [
        "argentina = df.loc['Argentina', anos]\n",
        "argentina"
      ],
      "metadata": {
        "id": "1SqN6WnPn0fG"
      },
      "execution_count": null,
      "outputs": []
    },
    {
      "cell_type": "code",
      "source": [
        "plt.figure(figsize=(8, 4))\n",
        "plt.plot(anos, argentina, label='Argentina')\n",
        "plt.plot(anos, brasil, label='Brasil')\n",
        "plt.title('Imigração da Argentina e Brasil para o Canadá')\n",
        "plt.xlabel('Ano')\n",
        "plt.ylabel('Número de imigrantes')\n",
        "plt.xticks(['1980', '1985', '1990', '1995', '2000', '2005', '2010', '2015'])\n",
        "plt.legend()\n",
        "plt.show()"
      ],
      "metadata": {
        "id": "asPc2wYOmoqR"
      },
      "execution_count": null,
      "outputs": []
    },
    {
      "cell_type": "markdown",
      "source": [
        "## Criando figuras com o Matplotlib"
      ],
      "metadata": {
        "id": "TkXxTEUVozLx"
      }
    },
    {
      "cell_type": "code",
      "source": [
        "fig, ax = plt.subplots(figsize=(8, 4))\n",
        "ax.plot(dados_brasil['ano'], dados_brasil['imigrantes'])\n",
        "plt.show()"
      ],
      "metadata": {
        "id": "fAZ9Hf6Ho00g"
      },
      "execution_count": null,
      "outputs": []
    },
    {
      "cell_type": "code",
      "source": [
        "fig, ax = plt.subplots(figsize=(8, 4))\n",
        "ax.plot(dados_brasil['ano'], dados_brasil['imigrantes'])\n",
        "ax.xaxis.set_major_locator(plt.MultipleLocator(5)) #seta o eixo x de 5 em 5 anos\n",
        "plt.show()"
      ],
      "metadata": {
        "id": "L-N9LtIh69Mj"
      },
      "execution_count": null,
      "outputs": []
    },
    {
      "cell_type": "code",
      "source": [
        "fig, ax = plt.subplots(figsize=(8, 4))\n",
        "ax.plot(dados_brasil['ano'], dados_brasil['imigrantes'])\n",
        "ax.set_title('Imigração do Brasil para o Canadá\\n1980 a 2013')\n",
        "ax.xaxis.set_major_locator(plt.MultipleLocator(5)) #seta o eixo x de 5 em 5 anos\n",
        "plt.show()"
      ],
      "metadata": {
        "id": "SO_N2Sys7Yds"
      },
      "execution_count": null,
      "outputs": []
    },
    {
      "cell_type": "code",
      "source": [
        "fig, ax = plt.subplots(figsize=(8, 4))\n",
        "ax.plot(dados_brasil['ano'], dados_brasil['imigrantes'])\n",
        "ax.set_title('Imigração do Brasil para o Canadá\\n1980 a 2013')\n",
        "ax.set_xlabel('Ano')\n",
        "ax.set_ylabel('Número de imigrantes')\n",
        "ax.xaxis.set_major_locator(plt.MultipleLocator(5)) #seta o eixo x de 5 em 5 anos\n",
        "plt.show()"
      ],
      "metadata": {
        "id": "G9yYaV1v7z2i"
      },
      "execution_count": null,
      "outputs": []
    },
    {
      "cell_type": "code",
      "source": [
        "fig, axs = plt.subplots(1, 2, figsize=(15, 5))\n",
        "\n",
        "axs[0].plot(dados_brasil['ano'], dados_brasil['imigrantes'])\n",
        "axs[0].set_title('Imigração do Brasil para o Canadá\\n1980 a 2013')\n",
        "axs[0].set_xlabel('Ano')\n",
        "axs[0].set_ylabel('Número de imigrantes')\n",
        "axs[0].xaxis.set_major_locator(plt.MultipleLocator(5))\n",
        "axs[0].grid()\n",
        "\n",
        "axs[1].boxplot(dados_brasil['imigrantes'])\n",
        "axs[1].set_title('Boxplot da imigração do Brasil para o Canadá\\n1980 a 2013')\n",
        "axs[1].set_xlabel('Brasil')\n",
        "axs[1].set_ylabel('Número de imigrantes')\n",
        "axs[1].grid()\n",
        "\n",
        "plt.show()"
      ],
      "metadata": {
        "id": "7ygDGJEs8KJa"
      },
      "execution_count": null,
      "outputs": []
    },
    {
      "cell_type": "code",
      "source": [
        "dados_brasil.describe()"
      ],
      "metadata": {
        "id": "y_7pffVRAYPe"
      },
      "execution_count": null,
      "outputs": []
    },
    {
      "cell_type": "code",
      "source": [
        "fig, axs = plt.subplots(2, 2, figsize=(10,6))\n",
        "fig.subplots_adjust(hspace=0.5, wspace=0.3) # espaçamento horizontal e vertical, respectivamente\n",
        "fig.suptitle('Imigração dos quatro maiores países da américa do sul para o Canadá\\n1980 a 2013')\n",
        "\n",
        "axs[0,0].plot(df.loc['Brasil', anos])\n",
        "axs[0,0].set_title('Brasil')\n",
        "\n",
        "axs[0,1].plot(df.loc['Colômbia', anos])\n",
        "axs[0,1].set_title('Colômbia')\n",
        "\n",
        "axs[1,0].plot(df.loc['Argentina', anos])\n",
        "axs[1,0].set_title('Argentina')\n",
        "\n",
        "axs[1,1].plot(df.loc['Peru', anos])\n",
        "axs[1,1].set_title('Peru')\n",
        "\n",
        "for ax in axs.flat:\n",
        "  ax.xaxis.set_major_locator(plt.MultipleLocator(5))\n",
        "  ax.set_xlabel('Ano')\n",
        "  ax.set_ylabel('Número de imigrantes')\n",
        "\n",
        "ymin = 0\n",
        "ymax = 7000\n",
        "\n",
        "for ax in axs.ravel():\n",
        "  ax.set_ylim(ymin, ymax)\n",
        "\n",
        "plt.show()"
      ],
      "metadata": {
        "id": "57FIeawHBXf8"
      },
      "execution_count": null,
      "outputs": []
    },
    {
      "cell_type": "markdown",
      "source": [
        "## Desafio: visualizando dados de vendas de diferentes lojas"
      ],
      "metadata": {
        "id": "4DB9pGZkGm4-"
      }
    },
    {
      "cell_type": "code",
      "source": [
        "lojas = ['A', 'B', 'C', 'D']\n",
        "\n",
        "vendas_2022 = {'Jan': [100, 80, 150, 50],\n",
        "    'Fev': [120, 90, 170, 60],\n",
        "    'Mar': [150, 100, 200, 80],\n",
        "    'Abr': [180, 110, 230, 90],\n",
        "    'Mai': [220, 190, 350, 200],\n",
        "    'Jun': [230, 150, 280, 120],\n",
        "    'Jul': [250, 170, 300, 140],\n",
        "    'Ago': [260, 180, 310, 150],\n",
        "    'Set': [240, 160, 290, 130],\n",
        "    'Out': [220, 140, 270, 110],\n",
        "    'Nov': [400, 220, 350, 190],\n",
        "    'Dez': [300, 350, 400, 250]\n",
        "}\n",
        "vendas = pd.DataFrame(vendas_2022, index=lojas)\n",
        "meses = list(vendas.columns)\n",
        "vendas\n"
      ],
      "metadata": {
        "id": "EzhfS3LFGnfb"
      },
      "execution_count": null,
      "outputs": []
    },
    {
      "cell_type": "code",
      "source": [
        "fig, axs = plt.subplots(2, 2, figsize=(14,8))\n",
        "fig.subplots_adjust(hspace=0.5, wspace=0.3) # espaçamento horizontal e vertical, respectivamente\n",
        "fig.suptitle('Vendas 2022')\n",
        "\n",
        "axs[0,0].plot(meses, vendas.loc['A'])\n",
        "axs[0,0].set_title('Loja A')\n",
        "\n",
        "axs[0,1].plot(meses, vendas.loc['B'])\n",
        "axs[0,1].set_title('Loja B')\n",
        "\n",
        "axs[1,0].plot(meses, vendas.loc['C'])\n",
        "axs[1,0].set_title('Loja C')\n",
        "\n",
        "axs[1,1].plot(meses, vendas.loc['D'])\n",
        "axs[1,1].set_title('Loja D')\n",
        "\n",
        "for ax in axs.flat:\n",
        "    ax.set_xlabel('Mês')\n",
        "    ax.set_ylabel('Número de vendas')\n",
        "\n",
        "plt.show()"
      ],
      "metadata": {
        "id": "duvatqICI_ua"
      },
      "execution_count": null,
      "outputs": []
    },
    {
      "cell_type": "markdown",
      "source": [],
      "metadata": {
        "id": "v8w_fN0o1G9J"
      }
    },
    {
      "cell_type": "code",
      "source": [],
      "metadata": {
        "id": "G47OOFmPJd3r"
      },
      "execution_count": null,
      "outputs": []
    },
    {
      "cell_type": "markdown",
      "source": [
        "## Customizando com Matplotlib"
      ],
      "metadata": {
        "id": "BkgTY34bsZuC"
      }
    },
    {
      "cell_type": "code",
      "source": [
        "fig, ax = plt.subplots(figsize =(8,4))\n",
        "ax.plot(dados_brasil['ano'], dados_brasil['imigrantes'], lw=2, color='springgreen')\n",
        "ax.set_title('Imigração do Brasil para o Canadá\\n1980 a 2013', fontsize=18, loc='left')\n",
        "ax.set_xlabel('Ano', fontsize=14)\n",
        "ax.set_ylabel('Número de imigrantes', fontsize=14)\n",
        "ax.xaxis.set_tick_params(labelsize=12) # determina os parametros do rotulo do eixo x\n",
        "ax.yaxis.set_tick_params(labelsize=12) # determina os parametros do rotulo do eixo y\n",
        "ax.xaxis.set_major_locator(plt.MultipleLocator(5))\n",
        "\n",
        "plt.show()"
      ],
      "metadata": {
        "id": "Nxdw_FT5sdYf"
      },
      "execution_count": null,
      "outputs": []
    },
    {
      "cell_type": "code",
      "source": [
        "america_sul = df.query('Região == \"América do Sul\"')"
      ],
      "metadata": {
        "id": "Sxcs5u69xQW7"
      },
      "execution_count": null,
      "outputs": []
    },
    {
      "cell_type": "code",
      "source": [
        "america_sul"
      ],
      "metadata": {
        "id": "XfP8SVNpxQwy"
      },
      "execution_count": null,
      "outputs": []
    },
    {
      "cell_type": "code",
      "source": [
        "cores = ['royalblue', 'orange', 'forestgreen', 'orchid', 'purple', 'brown', 'slateblue', 'gray', 'olive', 'navy', 'teal', 'tomato']\n",
        "fig, ax = plt.subplots(figsize=(12,5))\n",
        "ax.barh(america_sul.index, america_sul['Total'], color=cores)\n",
        "ax.set_title('Imigração da América do sul para o Canadá\\n1980 a 2013', loc='left', fontsize=16)\n",
        "ax.set_ylabel('')\n",
        "ax.set_xlabel('Número de imigrantes', fontsize=12)\n",
        "ax.xaxis.set_tick_params(labelsize=12)\n",
        "ax.yaxis.set_tick_params(labelsize=12)\n",
        "\n",
        "plt.show()"
      ],
      "metadata": {
        "id": "FJGlUjBuxe01"
      },
      "execution_count": null,
      "outputs": []
    },
    {
      "cell_type": "code",
      "source": [
        "america_sul_sorted = america_sul.sort_values('Total', ascending=True)"
      ],
      "metadata": {
        "id": "ACkvL5VNzaLZ"
      },
      "execution_count": null,
      "outputs": []
    },
    {
      "cell_type": "code",
      "source": [
        "cores = ['royalblue', 'orange', 'forestgreen', 'orchid', 'purple', 'brown', 'slateblue', 'gray', 'olive', 'navy', 'teal', 'tomato']\n",
        "fig, ax = plt.subplots(figsize=(12,5))\n",
        "ax.barh(america_sul_sorted.index, america_sul_sorted['Total'], color=cores)\n",
        "ax.set_title('Imigração da América do sul para o Canadá\\n1980 a 2013', loc='left', fontsize=16)\n",
        "ax.set_ylabel('')\n",
        "ax.set_xlabel('Número de imigrantes', fontsize=12)\n",
        "ax.xaxis.set_tick_params(labelsize=12)\n",
        "ax.yaxis.set_tick_params(labelsize=12)\n",
        "\n",
        "plt.show()"
      ],
      "metadata": {
        "id": "H58BoOuP05hy"
      },
      "execution_count": null,
      "outputs": []
    },
    {
      "cell_type": "code",
      "source": [
        "cores = []\n",
        "\n",
        "for pais in america_sul_sorted.index:\n",
        "  if pais == 'Brasil':\n",
        "    cores.append('green')\n",
        "  else:\n",
        "    cores.append('silver')\n",
        "\n",
        "\n",
        "fig, ax = plt.subplots(figsize=(12,5))\n",
        "ax.barh(america_sul_sorted.index, america_sul_sorted['Total'], color=cores)\n",
        "ax.set_title('América do Sul: Brasil foi o quarto país com mais imigrantes\\npara o Canadá no período de 1980 a 2013', loc='left', fontsize=14)\n",
        "ax.set_ylabel('')\n",
        "ax.set_xlabel('Número de imigrantes', fontsize=12)\n",
        "ax.xaxis.set_tick_params(labelsize=12)\n",
        "ax.yaxis.set_tick_params(labelsize=12)\n",
        "\n",
        "for i, v in enumerate(america_sul_sorted['Total']):\n",
        "  ax.text(v + 20, i, str(v), color='black', fontsize=10, ha='left', va='center')\n",
        "\n",
        "ax.set_frame_on(False)\n",
        "ax.get_xaxis().set_visible(False)\n",
        "ax.tick_params(axis='both', which='both', length=0)\n",
        "\n",
        "plt.show()"
      ],
      "metadata": {
        "id": "QOkj-_Hr08IU"
      },
      "execution_count": null,
      "outputs": []
    },
    {
      "cell_type": "code",
      "source": [
        "print(fig.canvas.get_supported_filetypes())"
      ],
      "metadata": {
        "id": "IQ0Lskib4Bjs"
      },
      "execution_count": null,
      "outputs": []
    },
    {
      "cell_type": "code",
      "source": [
        "fig, ax = plt.subplots(figsize =(8,4))\n",
        "ax.plot(dados_brasil['ano'], dados_brasil['imigrantes'], lw=2, color='springgreen')\n",
        "ax.set_title('Imigração do Brasil para o Canadá\\n1980 a 2013', fontsize=18, loc='left')\n",
        "ax.set_xlabel('Ano', fontsize=14)\n",
        "ax.set_ylabel('Número de imigrantes', fontsize=14)\n",
        "ax.xaxis.set_tick_params(labelsize=12) # determina os parametros do rotulo do eixo x\n",
        "ax.yaxis.set_tick_params(labelsize=12) # determina os parametros do rotulo do eixo y\n",
        "ax.xaxis.set_major_locator(plt.MultipleLocator(5))\n",
        "\n",
        "ax.spines['top'].set_visible(False)\n",
        "ax.spines['right'].set_visible(False)\n",
        "\n",
        "fig.savefig('imigracao_brasil_canada.png', transparent=False, dpi=300, bbox_inches='tight')\n",
        "\n",
        "plt.show()"
      ],
      "metadata": {
        "id": "54kpedYmK2my"
      },
      "execution_count": null,
      "outputs": []
    },
    {
      "cell_type": "markdown",
      "source": [
        "## Desafio: customizando os subplots com dados de vendas de diferentes lojas"
      ],
      "metadata": {
        "id": "LAQMi3yo1IiB"
      }
    },
    {
      "cell_type": "code",
      "source": [
        "# Criar a figura e os subplots\n",
        "fig, axs = plt.subplots(2, 2, figsize=(14, 8))\n",
        "\n",
        "# Ajustar os espaçamentos entre os subplots\n",
        "plt.subplots_adjust(wspace=0.3, hspace=0.4)\n",
        "\n",
        "# Adicionando um título geral para os subplots\n",
        "fig.suptitle('Vendas no período de janeiro a dezembro de 2022 nas lojas A,B,C e D', fontsize=20)\n",
        "\n",
        "# Lista de cores\n",
        "cores = ['darkviolet', 'green', 'darkblue', 'coral']\n",
        "\n",
        "#Loop para plotar e customizar os subplots\n",
        "for i, ax in enumerate(axs.flat):\n",
        "    ax.plot(vendas.loc[vendas.index[i]], color=cores[i], lw=3)\n",
        "    ax.set_title(f'Vendas na loja {df.index[i]}', loc='left', fontsize=16)\n",
        "    ax.set_xlabel('Mês', fontsize=14)\n",
        "    ax.set_ylabel('Número de vendas', fontsize=14)\n",
        "    ax.tick_params(labelsize=12)\n",
        "    ax.grid(color='lightgrey')\n",
        "\n",
        "plt.show()"
      ],
      "metadata": {
        "id": "oNjrizts1ajJ"
      },
      "execution_count": null,
      "outputs": []
    },
    {
      "cell_type": "markdown",
      "source": [
        "## Conhecendo a biblioteca Seaborn"
      ],
      "metadata": {
        "id": "9ynYONQR4Uay"
      }
    },
    {
      "cell_type": "code",
      "source": [
        "sns.set_theme()"
      ],
      "metadata": {
        "id": "htWeDdhM4Wwj"
      },
      "execution_count": null,
      "outputs": []
    },
    {
      "cell_type": "code",
      "source": [
        "top_10 = df.sort_values('Total', ascending=False).head(10)"
      ],
      "metadata": {
        "id": "cgDJ5H7j_sTh"
      },
      "execution_count": null,
      "outputs": []
    },
    {
      "cell_type": "code",
      "source": [
        "top_10"
      ],
      "metadata": {
        "id": "HZokie8QAS3V"
      },
      "execution_count": null,
      "outputs": []
    },
    {
      "cell_type": "code",
      "source": [
        "sns.barplot(data=top_10, x=top_10.index, y='Total')"
      ],
      "metadata": {
        "id": "2oMHod7nATft"
      },
      "execution_count": null,
      "outputs": []
    },
    {
      "cell_type": "code",
      "source": [
        "sns.barplot(data=top_10, x='Total', y=top_10.index, orient='h')"
      ],
      "metadata": {
        "id": "CWdsmItPAjY6"
      },
      "execution_count": null,
      "outputs": []
    },
    {
      "cell_type": "code",
      "source": [
        "ax = sns.barplot(data=top_10, x='Total', y=top_10.index, orient='h')\n",
        "ax.set(\n",
        "    title='Países com maior imigração para o Canadá\\n1980 a 2013',\n",
        "    xlabel='Número de imigrantes',\n",
        "    ylabel=''\n",
        ")\n",
        "plt.show()"
      ],
      "metadata": {
        "id": "oRhiffCRA5ex"
      },
      "execution_count": null,
      "outputs": []
    },
    {
      "cell_type": "code",
      "source": [
        "fig, ax = plt.subplots(figsize=(8,4))\n",
        "ax = sns.barplot(data=top_10, x='Total', y=top_10.index, orient='h')\n",
        "ax.set_title('Países com maior imigração para o Canadá\\n1980 a 2013', loc='left')\n",
        "ax.set_xlabel('Número de imigrantes', fontsize=14)\n",
        "ax.set_ylabel('')\n",
        "plt.show()"
      ],
      "metadata": {
        "id": "SFdXSAMWCAAK"
      },
      "execution_count": null,
      "outputs": []
    },
    {
      "cell_type": "code",
      "source": [
        "def gerar_grafico_paleta(palette):\n",
        "  fix, ax = plt.subplots(figsize=(8,4))\n",
        "  ax = sns.barplot(data=top_10, y=top_10.index, x='Total', orient='h', palette=palette)\n",
        "  ax.set_title('Países com maior imigração para o Canadá\\n1980 a 2013', fontsize=18, loc='left')\n",
        "  ax.set_xlabel('Número de imigrantes', fontsize=14)\n",
        "  ax.set_ylabel('')\n",
        "\n",
        "  plt.show()"
      ],
      "metadata": {
        "id": "4m78yKnPC2tw"
      },
      "execution_count": null,
      "outputs": []
    },
    {
      "cell_type": "code",
      "source": [
        "gerar_grafico_paleta('Blues')"
      ],
      "metadata": {
        "id": "Awi2nYYbRBnG"
      },
      "execution_count": null,
      "outputs": []
    },
    {
      "cell_type": "code",
      "source": [
        "gerar_grafico_paleta('Blues_r')"
      ],
      "metadata": {
        "id": "CNjGF8kmRn75"
      },
      "execution_count": null,
      "outputs": []
    },
    {
      "cell_type": "code",
      "source": [
        "gerar_grafico_paleta('rocket')"
      ],
      "metadata": {
        "id": "7FNMPR-qR0DB"
      },
      "execution_count": null,
      "outputs": []
    },
    {
      "cell_type": "code",
      "source": [
        "gerar_grafico_paleta('coolwarm')"
      ],
      "metadata": {
        "id": "r1jcp8YcSo4d"
      },
      "execution_count": null,
      "outputs": []
    },
    {
      "cell_type": "code",
      "source": [
        "gerar_grafico_paleta('tab10')"
      ],
      "metadata": {
        "id": "atb3XccRUqUQ"
      },
      "execution_count": null,
      "outputs": []
    },
    {
      "cell_type": "code",
      "source": [
        "sns.set_theme(style='dark')\n",
        "gerar_grafico_paleta('tab10')"
      ],
      "metadata": {
        "id": "xup9mNTha35I"
      },
      "execution_count": null,
      "outputs": []
    },
    {
      "cell_type": "code",
      "source": [
        "sns.set_theme(style='whitegrid')\n",
        "gerar_grafico_paleta('tab10')"
      ],
      "metadata": {
        "id": "gowP6yWybArc"
      },
      "execution_count": null,
      "outputs": []
    },
    {
      "cell_type": "code",
      "source": [
        "sns.set_theme(style='white')\n",
        "gerar_grafico_paleta('tab10')"
      ],
      "metadata": {
        "id": "7m_PuD1DcPWm"
      },
      "execution_count": null,
      "outputs": []
    },
    {
      "cell_type": "code",
      "source": [
        "sns.set_theme(style='ticks')\n",
        "gerar_grafico_paleta('tab10')"
      ],
      "metadata": {
        "id": "j3KgGMBpcUtP"
      },
      "execution_count": null,
      "outputs": []
    },
    {
      "cell_type": "code",
      "source": [
        "fig, ax = plt.subplots(figsize=(8,4))\n",
        "ax = sns.barplot(data=top_10, y=top_10.index, x='Total', orient='h', palette='tab10')\n",
        "ax.set_title('Países com maior imigração para o Canadá\\n1980 a 2013', fontsize=16, loc='left')\n",
        "ax.set_xlabel('Número de imigrantes', fontsize=12)\n",
        "ax.set_ylabel('')\n",
        "sns.despine()\n",
        "\n",
        "plt.show()"
      ],
      "metadata": {
        "id": "kh2OQdwIck23"
      },
      "execution_count": null,
      "outputs": []
    },
    {
      "cell_type": "markdown",
      "source": [
        "## Desafio: criando um gráfico de linhas com a biblioteca Seaborn"
      ],
      "metadata": {
        "id": "46e4eL84fHPx"
      }
    },
    {
      "cell_type": "code",
      "source": [
        "sns.set_theme()\n",
        "sns.set_palette('Dark2')\n",
        "\n",
        "fig, ax = plt.subplots(figsize=(10, 5))\n",
        "ax = sns.lineplot(df.loc['Brasil', anos], label='Brasil', lw=3)\n",
        "ax = sns.lineplot(df.loc['Argentina', anos], label='Argentina', lw=3)\n",
        "ax = sns.lineplot(df.loc['Peru', anos], label='Peru', lw=3)\n",
        "ax = sns.lineplot(df.loc['Colômbia', anos], label='Colômbia', lw=3)\n",
        "\n",
        "ax.set_title('Imigração dos maiores países da América do Sul\\npara o Canadá de 1980 a 2013', loc='left', fontsize=20)\n",
        "ax.set_xlabel('Ano', fontsize=14)\n",
        "ax.set_ylabel('Número de imigrantes', fontsize=14)\n",
        "\n",
        "ax.xaxis.set_major_locator(plt.MultipleLocator(5))\n",
        "\n",
        "ax.legend(title='Países', loc='upper right', bbox_to_anchor=(1.18, 1.02))\n",
        "\n",
        "plt.show()"
      ],
      "metadata": {
        "id": "G265X5-1fKA8"
      },
      "execution_count": null,
      "outputs": []
    },
    {
      "cell_type": "markdown",
      "source": [
        "## Gráficos interativos com o Plotly"
      ],
      "metadata": {
        "id": "WUiHkYMNfTYc"
      }
    },
    {
      "cell_type": "code",
      "source": [
        "fig = px.line(\n",
        "    dados_brasil,\n",
        "    x='ano',\n",
        "    y='imigrantes',\n",
        "    title='Imigração do Brasil para o Canadá\\n1980 a 2013'\n",
        ")\n",
        "\n",
        "fig.update_traces(line_color='green', line_width=4)\n",
        "\n",
        "fig.update_layout(\n",
        "    width=1000,\n",
        "    height=500,\n",
        "    xaxis={'tickangle': -45},\n",
        "    font_family='Arial',\n",
        "    font_size=14,\n",
        "    font_color='grey',\n",
        "    title_font_color='black',\n",
        "    title_font_size=22,\n",
        "    xaxis_title='Ano',\n",
        "    yaxis_title='Número de imigrantes'\n",
        ")\n",
        "\n",
        "fig.show()"
      ],
      "metadata": {
        "id": "4Qoe0aqSfWbA"
      },
      "execution_count": null,
      "outputs": []
    },
    {
      "cell_type": "code",
      "source": [
        "america_sul"
      ],
      "metadata": {
        "id": "iYwHiKMKpY9p"
      },
      "execution_count": null,
      "outputs": []
    },
    {
      "cell_type": "code",
      "source": [
        "df_america_sul_clean = america_sul.drop(['Continente', 'Região', 'Total'], axis=1)"
      ],
      "metadata": {
        "id": "WY2xGkhHzDUX"
      },
      "execution_count": null,
      "outputs": []
    },
    {
      "cell_type": "code",
      "source": [
        "america_sul_final = df_america_sul_clean.T"
      ],
      "metadata": {
        "id": "gHwdlKskzlsD"
      },
      "execution_count": null,
      "outputs": []
    },
    {
      "cell_type": "code",
      "source": [
        "america_sul_final"
      ],
      "metadata": {
        "id": "8-1nMBY3zmpQ"
      },
      "execution_count": null,
      "outputs": []
    },
    {
      "cell_type": "code",
      "source": [
        "fig = px.line(\n",
        "    america_sul_final,\n",
        "    x=america_sul_final.index,\n",
        "    y=america_sul_final.columns,\n",
        "    color='País',\n",
        "    title='Imigração dos países da América do Sul para o Canadá',\n",
        "    markers=True\n",
        ")\n",
        "\n",
        "fig.update_layout(\n",
        "    xaxis={'tickangle': -45},\n",
        "    xaxis_title='Ano',\n",
        "    yaxis_title='Número de imigrantes'\n",
        ")\n",
        "\n",
        "fig.show()"
      ],
      "metadata": {
        "id": "mGEUN8_8zuJy"
      },
      "execution_count": null,
      "outputs": []
    },
    {
      "cell_type": "code",
      "source": [
        "fig.write_html('imigracao_america_sul.html')"
      ],
      "metadata": {
        "id": "2EvcGFvB0g6v"
      },
      "execution_count": null,
      "outputs": []
    }
  ]
}